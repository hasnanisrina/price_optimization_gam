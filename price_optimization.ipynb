{
 "cells": [
  {
   "cell_type": "markdown",
   "id": "8f913783",
   "metadata": {},
   "source": [
    "# Import Data"
   ]
  },
  {
   "cell_type": "code",
   "execution_count": 1,
   "id": "9a136f98",
   "metadata": {},
   "outputs": [],
   "source": [
    "# Data Wrangling\n",
    "import pandas as pd\n",
    "import numpy as np\n",
    "\n",
    "# Data Visualization\n",
    "from plotnine import *\n",
    "import plotly_express as px\n",
    "\n",
    "# Modeling\n",
    "from sklearn.preprocessing import LabelEncoder\n",
    "from pygam import GAM, ExpectileGAM, s, l, f\n",
    "import statsmodels.api as sm\n",
    "\n",
    "import warnings\n",
    "warnings.simplefilter('ignore')"
   ]
  },
  {
   "cell_type": "code",
   "execution_count": 11,
   "id": "85c8eb8e",
   "metadata": {},
   "outputs": [],
   "source": [
    "import os\n",
    "\n",
    "current_dir = os.getcwd()"
   ]
  },
  {
   "cell_type": "markdown",
   "id": "999e0dfa",
   "metadata": {},
   "source": [
    "Load Data"
   ]
  },
  {
   "cell_type": "code",
   "execution_count": 24,
   "id": "7cebac2c",
   "metadata": {},
   "outputs": [
    {
     "name": "stdout",
     "output_type": "stream",
     "text": [
      "Data Shape: (2800, 10)\n"
     ]
    },
    {
     "data": {
      "text/html": [
       "<div>\n",
       "<style scoped>\n",
       "    .dataframe tbody tr th:only-of-type {\n",
       "        vertical-align: middle;\n",
       "    }\n",
       "\n",
       "    .dataframe tbody tr th {\n",
       "        vertical-align: top;\n",
       "    }\n",
       "\n",
       "    .dataframe thead th {\n",
       "        text-align: right;\n",
       "    }\n",
       "</style>\n",
       "<table border=\"1\" class=\"dataframe\">\n",
       "  <thead>\n",
       "    <tr style=\"text-align: right;\">\n",
       "      <th></th>\n",
       "      <th>Segment</th>\n",
       "      <th>Product</th>\n",
       "      <th>discount</th>\n",
       "      <th>Quantity</th>\n",
       "      <th>price</th>\n",
       "      <th>Sales</th>\n",
       "      <th>Date</th>\n",
       "      <th>mth_num</th>\n",
       "      <th>mth_name</th>\n",
       "      <th>yr</th>\n",
       "    </tr>\n",
       "  </thead>\n",
       "  <tbody>\n",
       "    <tr>\n",
       "      <th>617</th>\n",
       "      <td>Government</td>\n",
       "      <td>Carretera</td>\n",
       "      <td>Medium</td>\n",
       "      <td>936.0</td>\n",
       "      <td>17.750956</td>\n",
       "      <td>16614.89444</td>\n",
       "      <td>2014-12-01</td>\n",
       "      <td>12</td>\n",
       "      <td>December</td>\n",
       "      <td>2014</td>\n",
       "    </tr>\n",
       "    <tr>\n",
       "      <th>1963</th>\n",
       "      <td>Government</td>\n",
       "      <td>Velo</td>\n",
       "      <td>High</td>\n",
       "      <td>2184.0</td>\n",
       "      <td>22.413963</td>\n",
       "      <td>48952.09439</td>\n",
       "      <td>2014-10-01</td>\n",
       "      <td>10</td>\n",
       "      <td>October</td>\n",
       "      <td>2014</td>\n",
       "    </tr>\n",
       "    <tr>\n",
       "      <th>2599</th>\n",
       "      <td>Government</td>\n",
       "      <td>VTT</td>\n",
       "      <td>Medium</td>\n",
       "      <td>519.0</td>\n",
       "      <td>12.466838</td>\n",
       "      <td>6470.28876</td>\n",
       "      <td>2013-10-01</td>\n",
       "      <td>10</td>\n",
       "      <td>October</td>\n",
       "      <td>2013</td>\n",
       "    </tr>\n",
       "  </tbody>\n",
       "</table>\n",
       "</div>"
      ],
      "text/plain": [
       "         Segment    Product discount  Quantity      price        Sales  \\\n",
       "617   Government  Carretera   Medium     936.0  17.750956  16614.89444   \n",
       "1963  Government       Velo     High    2184.0  22.413963  48952.09439   \n",
       "2599  Government        VTT   Medium     519.0  12.466838   6470.28876   \n",
       "\n",
       "           Date  mth_num  mth_name    yr  \n",
       "617  2014-12-01       12  December  2014  \n",
       "1963 2014-10-01       10   October  2014  \n",
       "2599 2013-10-01       10   October  2013  "
      ]
     },
     "execution_count": 24,
     "metadata": {},
     "output_type": "execute_result"
    }
   ],
   "source": [
    "# load dataset\n",
    "file_ = r'C:\\Users\\ACER\\Downloads\\price_optimization.xlsx'\n",
    "df = pd.read_excel(file_)\n",
    "\n",
    "print(f'Data Shape: {df.shape}')\n",
    "\n",
    "# View data head\n",
    "df.sample(3)"
   ]
  },
  {
   "cell_type": "code",
   "execution_count": 25,
   "id": "43c4ba07",
   "metadata": {},
   "outputs": [
    {
     "data": {
      "text/plain": [
       "Segment             object\n",
       "Product             object\n",
       "discount            object\n",
       "Quantity           float64\n",
       "price              float64\n",
       "Sales              float64\n",
       "Date        datetime64[ns]\n",
       "mth_num              int64\n",
       "mth_name            object\n",
       "yr                   int64\n",
       "dtype: object"
      ]
     },
     "execution_count": 25,
     "metadata": {},
     "output_type": "execute_result"
    }
   ],
   "source": [
    "df.dtypes"
   ]
  },
  {
   "cell_type": "code",
   "execution_count": 26,
   "id": "9f31ab36",
   "metadata": {},
   "outputs": [],
   "source": [
    "# There are NAs only in `discount`, when there is no discount.\n",
    "# We will replace those NAs with \"No Discount\"\n",
    "df.fillna(\"No Discount\", inplace=True)"
   ]
  },
  {
   "cell_type": "code",
   "execution_count": 27,
   "id": "67d65489",
   "metadata": {},
   "outputs": [
    {
     "data": {
      "text/html": [
       "<div>\n",
       "<style scoped>\n",
       "    .dataframe tbody tr th:only-of-type {\n",
       "        vertical-align: middle;\n",
       "    }\n",
       "\n",
       "    .dataframe tbody tr th {\n",
       "        vertical-align: top;\n",
       "    }\n",
       "\n",
       "    .dataframe thead th {\n",
       "        text-align: right;\n",
       "    }\n",
       "</style>\n",
       "<table border=\"1\" class=\"dataframe\">\n",
       "  <thead>\n",
       "    <tr style=\"text-align: right;\">\n",
       "      <th></th>\n",
       "      <th>count</th>\n",
       "      <th>unique</th>\n",
       "      <th>top</th>\n",
       "      <th>freq</th>\n",
       "      <th>mean</th>\n",
       "      <th>min</th>\n",
       "      <th>25%</th>\n",
       "      <th>50%</th>\n",
       "      <th>75%</th>\n",
       "      <th>max</th>\n",
       "      <th>std</th>\n",
       "    </tr>\n",
       "  </thead>\n",
       "  <tbody>\n",
       "    <tr>\n",
       "      <th>Segment</th>\n",
       "      <td>2800</td>\n",
       "      <td>5</td>\n",
       "      <td>Government</td>\n",
       "      <td>1200</td>\n",
       "      <td>NaN</td>\n",
       "      <td>NaN</td>\n",
       "      <td>NaN</td>\n",
       "      <td>NaN</td>\n",
       "      <td>NaN</td>\n",
       "      <td>NaN</td>\n",
       "      <td>NaN</td>\n",
       "    </tr>\n",
       "    <tr>\n",
       "      <th>Product</th>\n",
       "      <td>2800</td>\n",
       "      <td>6</td>\n",
       "      <td>Paseo</td>\n",
       "      <td>808</td>\n",
       "      <td>NaN</td>\n",
       "      <td>NaN</td>\n",
       "      <td>NaN</td>\n",
       "      <td>NaN</td>\n",
       "      <td>NaN</td>\n",
       "      <td>NaN</td>\n",
       "      <td>NaN</td>\n",
       "    </tr>\n",
       "    <tr>\n",
       "      <th>discount</th>\n",
       "      <td>2800</td>\n",
       "      <td>4</td>\n",
       "      <td>High</td>\n",
       "      <td>980</td>\n",
       "      <td>NaN</td>\n",
       "      <td>NaN</td>\n",
       "      <td>NaN</td>\n",
       "      <td>NaN</td>\n",
       "      <td>NaN</td>\n",
       "      <td>NaN</td>\n",
       "      <td>NaN</td>\n",
       "    </tr>\n",
       "    <tr>\n",
       "      <th>Quantity</th>\n",
       "      <td>2800.0</td>\n",
       "      <td>NaN</td>\n",
       "      <td>NaN</td>\n",
       "      <td>NaN</td>\n",
       "      <td>1011.963594</td>\n",
       "      <td>145.0</td>\n",
       "      <td>346.0</td>\n",
       "      <td>662.632642</td>\n",
       "      <td>1254.469773</td>\n",
       "      <td>7979.0</td>\n",
       "      <td>1061.547181</td>\n",
       "    </tr>\n",
       "    <tr>\n",
       "      <th>price</th>\n",
       "      <td>2800.0</td>\n",
       "      <td>NaN</td>\n",
       "      <td>NaN</td>\n",
       "      <td>NaN</td>\n",
       "      <td>22.576275</td>\n",
       "      <td>1.0</td>\n",
       "      <td>9.440982</td>\n",
       "      <td>18.529493</td>\n",
       "      <td>37.216872</td>\n",
       "      <td>51.97611</td>\n",
       "      <td>14.726118</td>\n",
       "    </tr>\n",
       "    <tr>\n",
       "      <th>Sales</th>\n",
       "      <td>2800.0</td>\n",
       "      <td>NaN</td>\n",
       "      <td>NaN</td>\n",
       "      <td>NaN</td>\n",
       "      <td>16775.314162</td>\n",
       "      <td>889.086541</td>\n",
       "      <td>6380.881285</td>\n",
       "      <td>11345.658475</td>\n",
       "      <td>19390.813627</td>\n",
       "      <td>127546.4141</td>\n",
       "      <td>15857.64593</td>\n",
       "    </tr>\n",
       "    <tr>\n",
       "      <th>Date</th>\n",
       "      <td>2800</td>\n",
       "      <td>NaN</td>\n",
       "      <td>NaN</td>\n",
       "      <td>NaN</td>\n",
       "      <td>2014-04-28 21:36:00</td>\n",
       "      <td>2013-09-01 00:00:00</td>\n",
       "      <td>2013-12-24 06:00:00</td>\n",
       "      <td>2014-05-16 12:00:00</td>\n",
       "      <td>2014-09-08 12:00:00</td>\n",
       "      <td>2014-12-01 00:00:00</td>\n",
       "      <td>NaN</td>\n",
       "    </tr>\n",
       "    <tr>\n",
       "      <th>mth_num</th>\n",
       "      <td>2800.0</td>\n",
       "      <td>NaN</td>\n",
       "      <td>NaN</td>\n",
       "      <td>NaN</td>\n",
       "      <td>7.9</td>\n",
       "      <td>1.0</td>\n",
       "      <td>5.75</td>\n",
       "      <td>9.0</td>\n",
       "      <td>10.25</td>\n",
       "      <td>12.0</td>\n",
       "      <td>3.37551</td>\n",
       "    </tr>\n",
       "    <tr>\n",
       "      <th>mth_name</th>\n",
       "      <td>2800</td>\n",
       "      <td>12</td>\n",
       "      <td>October</td>\n",
       "      <td>560</td>\n",
       "      <td>NaN</td>\n",
       "      <td>NaN</td>\n",
       "      <td>NaN</td>\n",
       "      <td>NaN</td>\n",
       "      <td>NaN</td>\n",
       "      <td>NaN</td>\n",
       "      <td>NaN</td>\n",
       "    </tr>\n",
       "    <tr>\n",
       "      <th>yr</th>\n",
       "      <td>2800.0</td>\n",
       "      <td>NaN</td>\n",
       "      <td>NaN</td>\n",
       "      <td>NaN</td>\n",
       "      <td>2013.75</td>\n",
       "      <td>2013.0</td>\n",
       "      <td>2013.75</td>\n",
       "      <td>2014.0</td>\n",
       "      <td>2014.0</td>\n",
       "      <td>2014.0</td>\n",
       "      <td>0.43309</td>\n",
       "    </tr>\n",
       "  </tbody>\n",
       "</table>\n",
       "</div>"
      ],
      "text/plain": [
       "           count unique         top  freq                 mean  \\\n",
       "Segment     2800      5  Government  1200                  NaN   \n",
       "Product     2800      6       Paseo   808                  NaN   \n",
       "discount    2800      4        High   980                  NaN   \n",
       "Quantity  2800.0    NaN         NaN   NaN          1011.963594   \n",
       "price     2800.0    NaN         NaN   NaN            22.576275   \n",
       "Sales     2800.0    NaN         NaN   NaN         16775.314162   \n",
       "Date        2800    NaN         NaN   NaN  2014-04-28 21:36:00   \n",
       "mth_num   2800.0    NaN         NaN   NaN                  7.9   \n",
       "mth_name    2800     12     October   560                  NaN   \n",
       "yr        2800.0    NaN         NaN   NaN              2013.75   \n",
       "\n",
       "                          min                  25%                  50%  \\\n",
       "Segment                   NaN                  NaN                  NaN   \n",
       "Product                   NaN                  NaN                  NaN   \n",
       "discount                  NaN                  NaN                  NaN   \n",
       "Quantity                145.0                346.0           662.632642   \n",
       "price                     1.0             9.440982            18.529493   \n",
       "Sales              889.086541          6380.881285         11345.658475   \n",
       "Date      2013-09-01 00:00:00  2013-12-24 06:00:00  2014-05-16 12:00:00   \n",
       "mth_num                   1.0                 5.75                  9.0   \n",
       "mth_name                  NaN                  NaN                  NaN   \n",
       "yr                     2013.0              2013.75               2014.0   \n",
       "\n",
       "                          75%                  max          std  \n",
       "Segment                   NaN                  NaN          NaN  \n",
       "Product                   NaN                  NaN          NaN  \n",
       "discount                  NaN                  NaN          NaN  \n",
       "Quantity          1254.469773               7979.0  1061.547181  \n",
       "price               37.216872             51.97611    14.726118  \n",
       "Sales            19390.813627          127546.4141  15857.64593  \n",
       "Date      2014-09-08 12:00:00  2014-12-01 00:00:00          NaN  \n",
       "mth_num                 10.25                 12.0      3.37551  \n",
       "mth_name                  NaN                  NaN          NaN  \n",
       "yr                     2014.0               2014.0      0.43309  "
      ]
     },
     "execution_count": 27,
     "metadata": {},
     "output_type": "execute_result"
    }
   ],
   "source": [
    "# Statistical description\n",
    "df.describe(include='all').T"
   ]
  },
  {
   "cell_type": "markdown",
   "id": "df680fa9",
   "metadata": {},
   "source": [
    "EDA"
   ]
  },
  {
   "cell_type": "code",
   "execution_count": 28,
   "id": "fa8c8cec",
   "metadata": {},
   "outputs": [
    {
     "data": {
      "application/vnd.plotly.v1+json": {
       "config": {
        "plotlyServerURL": "https://plot.ly"
       },
       "data": [
        {
         "hoverlabel": {
          "font": {
           "size": 10
          }
         },
         "hovertemplate": "Product=Amarilla<br>price=%{x}<br>Quantity=%{y}<extra></extra>",
         "legendgroup": "Amarilla",
         "marker": {
          "color": "#3366CC",
          "opacity": 0.5,
          "size": 7,
          "symbol": "circle"
         },
         "mode": "markers",
         "name": "Amarilla",
         "showlegend": true,
         "type": "scattergl",
         "x": {
          "bdata": "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",
          "dtype": "f8"
         },
         "xaxis": "x",
         "y": {
          "bdata": "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",
          "dtype": "f8"
         },
         "yaxis": "y"
        },
        {
         "hoverlabel": {
          "font": {
           "size": 10
          }
         },
         "hovertemplate": "<b>LOWESS trendline</b><br><br>Product=Amarilla<br>price=%{x}<br>Quantity=%{y} <b>(trend)</b><extra></extra>",
         "legendgroup": "Amarilla",
         "marker": {
          "color": "#3366CC",
          "size": 7,
          "symbol": "circle"
         },
         "mode": "lines",
         "name": "Amarilla",
         "showlegend": false,
         "type": "scattergl",
         "x": {
          "bdata": "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",
          "dtype": "f8"
         },
         "xaxis": "x",
         "y": {
          "bdata": "37//x0ier0BKSOr/pZivQOC8UT87kq9AXv+e4mdqr0BJt6CcimCvQMSRQMMtRa9AQdRgTyEbr0BURsG0L/+uQEqU1f6X+a5ATChpaObxrkBu/aR+gteuQJZz3IDT1a5Ay5IB6nmQrkClIJysuIWuQKuvHZK4ga5AOkBNiYF5rkDwQDlfe3CuQNcWyPL0VK5AHY1SlYE9rkAzj4RqKC+uQCb+SKWVLa5A9jk1wC4RrkDoxSuU0A+uQIb2lOrSDa5AE0isiY8NrkB9YUawjwOuQKm3Z+CHAq5AG8UGVsX0rUDj7mVIws6tQA0Jp31Hoa1AON7vP/OXrUDSqYS2I4CtQEbDw9uRe61AitvL5NBJrUANCQzZr0atQDcWrNieMK1A+G2qAkMsrUC5UdsrHRqtQKOEV/DjFK1A6U7+u9sRrUBQGtWPIvusQN8pl8fz9axA7HRZcqOorEBzGjhw4aKsQIMeVIpwnqxA0fcuxxOcrECXyxBJtJasQPpoOL9EhaxA2KZlYAuCrEBN8kO6gX6sQBzTSHV5eaxA7WR1o1BsrEAcqRmQjmasQHt3vv+TWqxAESGPyTlKrEBnVBC3YDisQFXUgds8MaxA8uHY7XMqrEDfCdAvLCisQIJ7xcVDG6xA7Jg56b4ArEDirPUqHemrQGnIvP5236tAGi/HW0zeq0Awfdu409urQDO3/ZKLzqtAWm9e4rSzq0AcKiY8hairQBHYf0h0m6tAvm5fUhGJq0AmYLdJAXOrQNldzLDgcKtA9X2BIDluq0CESUXDBm6rQCvGEGBRbKtAN+IfaOZrq0Aopc0wiFKrQA7gIaQMNatAOjUpMqQzq0ChCwVYGg6rQGLuqiPU7apA5xlPkdnPqkCP4XaTcMmqQCwbKCeMwapAanhc0WG8qkCcbG8vk7qqQIS7G2rzs6pARNMLRHqvqkBHha/tPKiqQNHLQQOEkqpAiZd31I+PqkA4JYDSnImqQFeeZEfKdapAqfLDKKNxqkD6cwcyr3CqQJmRA1wDYKpA7qR5HkleqkD7NtR4DlOqQK++DZfQT6pA8lCeg8xNqkDUG7eE6UyqQKW1mwyJSKpA7G/E3Lg7qkD8pb+hVTuqQEDsaZ1qKapAEKqDB5wWqkDjEyp7zvOpQGJNy8uU86lAOwvOdIzxqUBOViuJd++pQAXtSsqE6alAFg4vAbfhqUApZdpnk66pQHnlg3oUp6lAABqFKAymqUCK4B71nKCpQDI4wNO+kKlA6S8KC3CBqUBA6mZ2zHSpQIrLLbuBaalAuUniayJdqUAOPwhwPlupQBnvJGW1SqlAj9JyUiFCqUAghaICiDapQDO8N0pmJalAicLQkIAbqUBVM+RzcvqoQFX2onCy7ahArBD2w9jmqEBEQd7ZTNGoQEgSKkKSz6hA/aeVgLNpqEAlvj2+V0yoQMQWp3AMRahAPx2fz+k5qEBxppyPtjmoQPYejXsKN6hABePeT4gWqEDyLLV29AGoQKg3+UZf36dAFRuF/LPLp0DvMXGupoSnQM/VBNxrU6dA0R9XwVBOp0CwHJ0nFSGnQEjoWn9qDadAn0gPQ7wLp0B2YDcCzAmnQBWXJ8b3rKZA2IH8DXFypkDgQ9IYYW6mQLOJuC/u/KVAtQoxv09+o0B7uMY/QmehQEZ02bAl26BAcGb0cK2GoEC7kIbKNEmgQCUurlP34p9AQaE/9DXAn0CGj+gktbedQLNMvCYQsJ1AyTLf0ezjm0CMtjvjE4qbQPGIYv6L/5pAFew2Kp/ZmkBHDdGnANeaQC/wnpG+mJpA+wy7B8mTmkDlBxdlz4+aQHuHJT4AgJlA9+IpTT2imEDnbilODl6YQJZm/YNNQphA+qyqoA80mEBd7/kFwcGXQAIl+cv1W5dAIRCOCsU/l0DUhO8FRxGXQGdpnl7GxpZArv/2HbuelkCHkamqao+WQENdjaS1GZZAAcQ8qhH0lUDsHP1PFGuVQLUJ2ahsDZVAB/Rud4//lEB87eKkLvuUQPpxA/oTs5RAqqpJpHV5lEAIkF1L9GaUQL9IAbulZJRA+YzWdsgWlEAo1IoQpXSTQMxkfqc3PJNAtq3HxIGwkkDqnm8gHKGSQO6etqHCZJJAY2rxMUIqkkDGxi15rCWSQCuRE2HV/5FAZdYnNnb2kUBY6MwrFbWRQCpCXfZiApFAv5GYbgUBkUDSn8zIWmCQQOdvBropRpBAYZUGUTAOkEARaevG3ACQQFE7JnoB/o9Am/H4+9uBj0AN0ppLI3CPQOhUfoT8Go5AtHYIgswBjkC3gd33F+mNQM/oRQQJwY1ABVdjKd1QjUCQ4SxMbEWNQLPvQIG+MI1AyuZTcpbijEDPPSsLdMiMQIDnWsMZrIxAPHylGF+cjEAyT8ynaiqMQCa8zzb4BYxAwSVAw2Lxi0Cx6ttLd+aLQLCveL/px4tArBPnyqdzi0CQovvyWzSLQA3d/aO9IotApdcdUgAVi0AUrxMOEImKQErv0lKmcIpAxPk1pNMJikAUdkGZkAKKQHb1ptoFvYlA22JhQcYgiUDG6nvWrBuJQMK2/Z+S0YhAKlpaM/bFiEBSxayfpcSIQIgw9GhLuohAbf0IWWyaiEBy5mxKI4uIQGzcJIe+f4hAvgAk1td8iEB1OxuZG1WIQHWBSzKjR4hA1FsBjM4biEBJBguSvhCIQCoRidejD4hAGkuEaJ0AiEDXdrbErO2HQM3r19Vx64dAZlUToNvnh0CuM3RIycyHQECBgn7twodAe+0hsdmwh0Bmq2SQFoWHQEOA/krISodANMZmnypAh0AVPUA7Zy2HQK7Sps+lKIdACWtaxukXh0DzklBz3BKHQHryVcSrEIdA4chPgPXvhkC6WIdo3NKGQNMjObaA0oZAASik7gvMhkB/5y1KzseGQLwgjja8p4ZA4s4o0j6chkCU+IcggZKGQGW3fPEsfYZA835qnOh0hkCvVatDizuGQFTpsTOQCoZAFjzKBaEBhkBLKr+vP92FQH0tXksi3IVAR8XhwU7RhUD24JyJpKWFQDFZq2ICoIVAn/2CvpKGhUChcgJ/C3+FQLkPmFBXfIVAAGWsh595hUAJ6LqDD1+FQDLgBoEqVYVA8tntkxY5hUBpr8FHSCqFQAl7KSKFDoVA29BUVwYGhUC449DjpvKEQCbl+T7IyoRA+w42h72lhEAYlRDc+KKEQD85xF6FoYRAxdAXpdF/hECXV9tkWGCEQFpGy2AcP4RACVLbdOg3hECSftrxORSEQPa3/SgvC4RAyB12V6nyg0AlLMwYkuSDQLD9A5ml4INA2Gs+LsSKg0CQezIb4YWDQDLEgfXYcYNAOK0j5XM3g0CfxSlKbNKCQByaDEG9zIJAx3I0gfCkgkDFeNgd15mCQAxuZFbokoJA6cVREdCBgkBA71DknGSCQEhUzQB2MIJAwQmGcWcdgkCdi/RMKRaCQEwVzGuHbIFA1H/zmj5sgUDnpVuI6TSBQOa/ZxOFL4FAVUwDwgcPgUAERhCNSQmBQMDSmaas/4BAs0rqsIvggEBdWFo9+JyAQDeUeGxSfYBA38OsTy17gEB/PojCfEmAQKkLmrDeOYBAgZnw2wc2gEATVqrORAeAQOLX+ySUKn9Am2GUcAQDf0CDWY9+xnd+QGj9p4XpQn1APJaW8K27fEA04x89M7t8QIIDh1+vr3xAClQ7s1OvfECYxSChe1p8QIxFEd7wT3xAFDsHOQMRfECKkrZ/lQ58QHGOJoVvwXtABv9RGv69e0AHUI7OOVx7QP0rCZ7vVXtAvT3vWwrJekA2SZgVNXB5QOOUhOp2VXlAK99t4W3ud0Ck3+/iM053QLZOVh/tK3dAB9T6BGkId0BeBvr5lo12QGOP60/3fnZA/VnFfw5UdkB5BcD0tUJ2QD3GvUwqNXZAQ+Cty8L+dUAPFJIW1fF1QBxFBmPo6HVA25qhHORDdUCxZFg6rRV0QFBfHFYBBnRAysWqbcfic0BqJ9XfBVByQFyXu+EK/XFAolBqt5g7a0A=",
          "dtype": "f8"
         },
         "yaxis": "y"
        },
        {
         "hoverlabel": {
          "font": {
           "size": 10
          }
         },
         "hovertemplate": "Product=Carretera<br>price=%{x}<br>Quantity=%{y}<extra></extra>",
         "legendgroup": "Carretera",
         "marker": {
          "color": "#DC3912",
          "opacity": 0.5,
          "size": 7,
          "symbol": "circle"
         },
         "mode": "markers",
         "name": "Carretera",
         "showlegend": true,
         "type": "scattergl",
         "x": {
          "bdata": "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",
          "dtype": "f8"
         },
         "xaxis": "x",
         "y": {
          "bdata": "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",
          "dtype": "f8"
         },
         "yaxis": "y"
        },
        {
         "hoverlabel": {
          "font": {
           "size": 10
          }
         },
         "hovertemplate": "<b>LOWESS trendline</b><br><br>Product=Carretera<br>price=%{x}<br>Quantity=%{y} <b>(trend)</b><extra></extra>",
         "legendgroup": "Carretera",
         "marker": {
          "color": "#DC3912",
          "size": 7,
          "symbol": "circle"
         },
         "mode": "lines",
         "name": "Carretera",
         "showlegend": false,
         "type": "scattergl",
         "x": {
          "bdata": "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",
          "dtype": "f8"
         },
         "xaxis": "x",
         "y": {
          "bdata": "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",
          "dtype": "f8"
         },
         "yaxis": "y"
        },
        {
         "hoverlabel": {
          "font": {
           "size": 10
          }
         },
         "hovertemplate": "Product=Montana<br>price=%{x}<br>Quantity=%{y}<extra></extra>",
         "legendgroup": "Montana",
         "marker": {
          "color": "#FF9900",
          "opacity": 0.5,
          "size": 7,
          "symbol": "circle"
         },
         "mode": "markers",
         "name": "Montana",
         "showlegend": true,
         "type": "scattergl",
         "x": {
          "bdata": "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",
          "dtype": "f8"
         },
         "xaxis": "x",
         "y": {
          "bdata": "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",
          "dtype": "f8"
         },
         "yaxis": "y"
        },
        {
         "hoverlabel": {
          "font": {
           "size": 10
          }
         },
         "hovertemplate": "<b>LOWESS trendline</b><br><br>Product=Montana<br>price=%{x}<br>Quantity=%{y} <b>(trend)</b><extra></extra>",
         "legendgroup": "Montana",
         "marker": {
          "color": "#FF9900",
          "size": 7,
          "symbol": "circle"
         },
         "mode": "lines",
         "name": "Montana",
         "showlegend": false,
         "type": "scattergl",
         "x": {
          "bdata": "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",
          "dtype": "f8"
         },
         "xaxis": "x",
         "y": {
          "bdata": "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",
          "dtype": "f8"
         },
         "yaxis": "y"
        },
        {
         "hoverlabel": {
          "font": {
           "size": 10
          }
         },
         "hovertemplate": "Product=Paseo<br>price=%{x}<br>Quantity=%{y}<extra></extra>",
         "legendgroup": "Paseo",
         "marker": {
          "color": "#109618",
          "opacity": 0.5,
          "size": 7,
          "symbol": "circle"
         },
         "mode": "markers",
         "name": "Paseo",
         "showlegend": true,
         "type": "scattergl",
         "x": {
          "bdata": "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",
          "dtype": "f8"
         },
         "xaxis": "x",
         "y": {
          "bdata": "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",
          "dtype": "f8"
         },
         "yaxis": "y"
        },
        {
         "hoverlabel": {
          "font": {
           "size": 10
          }
         },
         "hovertemplate": "<b>LOWESS trendline</b><br><br>Product=Paseo<br>price=%{x}<br>Quantity=%{y} <b>(trend)</b><extra></extra>",
         "legendgroup": "Paseo",
         "marker": {
          "color": "#109618",
          "size": 7,
          "symbol": "circle"
         },
         "mode": "lines",
         "name": "Paseo",
         "showlegend": false,
         "type": "scattergl",
         "x": {
          "bdata": "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",
          "dtype": "f8"
         },
         "xaxis": "x",
         "y": {
          "bdata": "wTmYLfSzgEC3+VDm/duAQKorVUPb0IFARxcyVlpugkCI3+ECUYyCQLkXADR5lYJApZch3CYAg0AlxlwR/CGDQHhX2PJ5uoNADUxuAnm9g0Ci8Obkt9CDQPJFOGhx44NAIEymT1b3g0CIRSIo5Q6EQD0E6CTMIYRAwte/40ldhEDpiq5wZYSEQJFSCvAz3IRAaFzmvIzchEAZmuMHSPOEQG46PYiuIIVAGTm5gRckhUAMNm/xazuFQJ+5oAjoToVAMHfg9ERxhUCXpcYKY5qFQMswLE9zoYVAS0JRKMvchUB8BnHpmOOFQDSYzwfl5IVAVot/zsbvhUBx3bdIpPqFQFpn5TBR+4VATA8Glz38hUBqJY8+//yFQKfADXUaFYZAvxv2w+c1hkA+RuOhpzyGQPMRq+riSIZAzQZJ9OJ7hkDsaxSOBH6GQJLQ9HfOhIZAux0HfX2HhkBsYmIr2ZKGQHxPPDCwlIZABHPHOWqbhkA33gg/8q+GQPU6d9KBvoZAvfrKhnvFhkB/v8gW9diGQHpGqHD+6IZA7ggtIuj3hkDXRx4CQxOHQMwBWxSuE4dArymM9NIgh0DK4Qs/jSGHQL5bI59LIodAyVYJStckh0APg5nZmCaHQA0g61M/J4dAHGVNZAQoh0Bu83QdKiiHQIwOPV31OodAm8UzdOxGh0ByHSeS+kaHQJRtWXq9SYdAq67ij3lOh0CEsFHgoFyHQGkmfHebaIdA0Vgei91rh0AcI6SBeXKHQOo3BiGgg4dAPras+0iNh0BeXDGQk4+HQMKuXvY8kYdAiETOsHmRh0CRnhGL3LCHQGs0aEbltIdAn66riE/Ah0CfUEgbT8OHQOorEhymyodA11TRVhDbh0AA7HowS9yHQDDHI5x96odAsCFcVdn2h0ApprNAMQuIQA+C/D07GohA6bYDJ6EaiEAWLwpQAR2IQIu08ubfJ4hAb2Ygkz02iEDeHNl+8EmIQIhssGUUSohAWKF6EwdjiEDGQzrtDmqIQC6exG3acIhAjoZBOfRwiEA8wyi22HeIQMj9w9UgeYhA/fKAgSGAiECQ2El6j4SIQGFjdTa+hYhA0PHMdmuJiEDka6RQopGIQDLOFYutoIhAhzLUWVWhiEBXjFw5Z6mIQBhQuTnrqohA62u0AdmyiEARCGpB2bSIQDgOlUlLvohAtrQEoirDiEDATbtZzsqIQCl0kFLyzYhAx+FGZDDOiEDt5qjjl9CIQNar9UmE0YhAdpAC3evZiEDN7pmRK++IQJ2wZJ3R8ohALj4Nblv/iECD5t0cBBOJQJZvJS6TKolA9OVMB9YuiUCSGdSK/DSJQNfay14qOolAopB7Onk+iUDYvklGuU6JQH09QDIJVIlAct3jMnZXiUBqt91kZFmJQGKie+Z+X4lAaNAcmV9oiUBGpnMrNnKJQAKbl8VwcolAmp7xQqx7iUBZSYN494CJQAXzEk0WiYlAXdlo16OLiUC93aNZl5OJQFXpetEGnIlAlXQeLBGgiUChVcGmrKSJQBP/Y120p4lALH9yxTG3iUAiXAl3VbqJQEiJrZHXu4lA5Wju8AbBiUBr2q03VsGJQF7+eJdI2IlAWTwKUoPZiUB9ByX6WNqJQELDH/yv34lAycKwJDXhiUBOZljILeOJQGkCnYFP6YlA7B56jMrriUACmOpD9u+JQGjG+Sto/olAJOlfmMH+iUBKRdg1FwKKQHTk4apSBIpAtG2DtykFikDfj2IcdwuKQOMETOzTFYpAS4fsHXIbikCvivcqSyeKQMqgpNiXJ4pAftW9n68qikDuCZ64FyyKQARwf+KWLIpAAjH09QgxikCLZEJ8qTOKQGINO2H/NIpAmWRTaFA1ikBylBu2zDqKQGXmgalqRIpA7jstHXhLikC3unh9gEuKQB+AcBwzTYpAG9KndXZQikBKAZLNQFaKQPwJVu9wVopA7Ww+KzZaikDcb7v8tFqKQKMYJ26JZ4pAlVHtMIxpikDKpTAtNWqKQHsxghREaopAmhDaeNJsikCmZaGsIW6KQEGIp78xfopAIpGZhtmBikC+WDIfLIeKQDOxG/oZiIpAEXmiSt+KikCiEJlnB4uKQPvV5wpUjYpAVa/OYXOQikCKmyX20JCKQD7tRivRkYpAXPJDlhCXikBZqWos5pyKQH0B3xw1nYpAZeUKa36eikCBi3H1qKSKQHZYEYj3pIpAzWAFwCWmikAU3dxnU6mKQKGDw4tyqopAm8gJhCGqikDHVsXo16qKQJcUgJ8dq4pA7xLOaySrikB/TGoelq2KQPOv5M0OropAxpNDpnWuikBySyXOnauKQIxfr9wkr4pAz/gd//mwikA1FQuNDLWKQKWOJpO3tIpA78mxt6W6ikAVPI+Kq7qKQPVyKB+ku4pAExIyAdm7ikB9ELSJPL2KQJb+B3uMvYpAgCVlPhS4ikAoFYC/mLmKQB83LruVuIpAaAawxay6ikCFh01D/7qKQALcaCcAv4pAKmOIDSi/ikC2KPYopr+KQJBpP2A2wIpA7Dw6FJzAikDD3clI6MCKQFfllIqWwIpArFXszKK8ikDh0brsFLuKQIJaeo35u4pAYK04mni7ikA2wfBdqruKQDpXGj3NvIpAlIM2Odi9ikDmlHLJFr+KQML24O2SvopAxB6fOka+ikDOqMbt2L6KQGv4RL4yvopAVNf5CIq7ikCG80bUiLuKQH15j8U3vIpABQpyAzi8ikCp9o5n+ruKQNC2f/PJuopAyfkrx+S6ikA+WGW88LqKQI6SmBu3u4pABWGJ5pS7ikCRPMj407iKQJWRI3ziuIpAXjefVgK5ikAAETHY/biKQAK2ileQtopAZ36Vkm+1ikCUdahOY7WKQKyhtsfXsYpAZvRkcECxikAe47mKq66KQNBDWbOyrYpAc6gwmEqtikAFueDJM62KQOdY5pkKrYpAPqvHPZasikBIEsv0fqaKQHPyubZcpopARKNTRkWhikDicbRXY6CKQPniZe6hnopAksKUG0GRikDnonT23IeKQHz/JQmCf4pAiNXXFsF3ikAHFkIMwHKKQGygfVswbopAL54RXq5tikC1q+6JUG2KQGfzEO+daYpA9iDc2tBmikChNx6qDGaKQPxFIYekZYpAHtEev8hhikBpgb75uViKQHJMybqwU4pAN6AeUlNSikD+T/Q3AE+KQKlhabWMSYpALCRwcPpEikCNhR0HRUKKQC+ea3XcQYpAmpdL0ZRBikArSivMBj6KQDVUPY8GOYpAqDyUGfUvikAUw3re8yiKQMV94/TOKIpAI1sCMpwoikDdaQ6H5COKQKuQlnSRIIpAC2ykYtAbikA9C+QLVBKKQLpJO6XhEYpAByBCK0sBikC2iJ22UP6JQLfFnMSY/YlACQ7cRJz4iUB13lgyVeiJQCatZ2uM5IlAKrx1pKHUiUC4SRk+hdSJQGkCmhJ704lATrzyZ0TKiUBhlINxIMWJQGrF7AAuw4lAW5KdwNjAiUC2+vw5F7qJQIkIHYEouIlA6ptayZeqiUA56rotF4iJQG0L6Cetb4lA9/JxCgNdiUC09gvVzViJQGgybaYjR4lABfQZAds4iUAdiXy+UziJQIlzKtyANolA01OS8qstiUCJ2m8mRCuJQPTYTFEGK4lAMYbfu6cNiUBMybwa6gCJQDocgQtvAIlATVTiL+H3iEDAoDB3h+mIQKDxyto93IhAlEZn7MzPiECsrfUtYsyIQCZuyPy1uIhAAkPUt4qhiECwHBFurpWIQFKKIuoNjohAc4XpbaWFiEAbwnVh/X6IQANpvtnVcYhAJdL9DkhsiECalBdZrGqIQOUKjBIZXohAuvbXYKtTiECNscKLr1GIQOm1wqJRQohAEmduVaswiECFJPZi9iOIQH0Dz+70DohAGEt1ERwLiEC/hPw9TgGIQPsHRUdA/odAr41jcR37h0DE2lSWWfKHQAuiZkEv8odAKZno/HPuh0CA31CxMumHQGJlcqY16IdAL5p7npbmh0CUKgG+vOCHQMnBUNJO1IdAeBZcP2Sqh0D/JtL49aWHQKasG02Vg4dAyWRVmZx5h0DJHCh+NnCHQBmh5w2fZIdAp5ryg2Zdh0CtcKoXoVCHQP/fmvTYTIdA7M1REEREh0Ch92Za/D+HQF8sDokXModArI2TJTsoh0Dkl0WCvByHQDpPC+pzG4dAZLiYQfsWh0Bn/8sA/RSHQE8K5PXCBodAvebKM90Eh0D4uGRWOAKHQP9JUeE784ZAmoXeQifzhkDrNC8thb+GQHbKda9tvIZAJL/W51aghkCJ4Ujst4mGQMGtLHkSiIZApxEBlZpkhkDFUkDN3GKGQFYcfqgfR4ZAeotz56AyhkD39y+hnh6GQOai4A+594VAJJLdmxTghUAN2ez0BtKFQN4Mkff/z4VACw2JBEnDhUCm9rtT2r6FQB9P4bNvsIVA0qgo9mmjhUC2gOFZS3GFQFxD0RAeZoVAPwehpaVWhUDBx7BKPxCFQJHAjzm3DoVAyXHAppUIhUBTa70ha/CEQI83Z7O3v4RAswLN2v24hEC74STKl5KEQEp1PaOwfYRAtI4lPZpjhEBmOhwK31mEQBOr2PACSYRADUohqMpGhEAeX/XNLD6EQEg0Y4VPPYRA6VNeb0oxhEAGjV/HmTCEQJbiSH5gHYRAWM9BSbQWhECauxYBtg2EQAwFvIkP9oNAO74Zd5S+g0CjQfuIrqCDQCxrJq2Nn4NAdbc5fVaZg0CHtOhcOJODQNfwJs4VgoNAPnJLwqd2g0AO16ArqGaDQCeiIMxXSINAMTGUIlQtg0D87D79Wx2DQCqplPyz74JAx+nsZZbngkAeWQgVftOCQIslVqkSzIJAsoA9frXIgkB048uJJKeCQLvbhY1poIJAb80sqUuZgkBEUnTGI4OCQJxoZdXQdYJAuRjq1DZ1gkBwjiLsh3OCQN/1BCuYZYJAzZLB5OcmgkBxR+B7pSGCQFyz6yqTE4JAYCnKe3oAgkBzx9ElRPSBQOd2kz7PwYFAVzo193PBgUDKG6w5YLeBQB5Rew4ml4FAF0oAg41vgUD440dyfk2BQOadSfJmKoFA3CHVvhwOgUDgr2AugweBQEpJrdVyAYFAktRh+qHOgEDINqD8CMCAQPlbSq3ruYBAjgNjceypgECFwWcKSKGAQDDHbgLiZoBAXBG0D2xlgECiuXkyrmKAQItlsabmR4BAVcZV+BQzgEAK2pcBQDKAQGB2vi4YMoBAuhfXPKcvgEBBAw4ugSyAQAzp69k6AIBAqSkmOyyvf0BqVKUMSGx/QNAuZYUPY39AvAmi2lxff0ALL8RTPVJ/QEGRp7VSOX9AL37FNlAqf0BUu9fBcyJ/QE1/p/Aj/35AYEhCLovxfkAbqXcw/el+QDDrryioyn5AOTZB0cCQfkADwZyb7IF+QIH6huBabn5ApqzaH/5rfkBfJsfKwWJ+QPXeV+POL35AxjjaPFTwfUC5bctgR+p9QFTlOy7RzX1ATFyXe4OxfUBPWL6M8IZ9QC/iisOebn1AnCLNvYkffUC+cqJpaRF9QLRw4As+Cn1AGEYZ/f34fEBPcud8Ffd8QH+IERK/2nxA+L/jVrDPfEAficj87M58QOsWio6tRnxAdAWYr6M7fEB93BaNyCh8QJf97TrYJHxA1BSdlsvOe0C2UQaR9sR7QMXj+lnFnHtAgX+3cI6be0AVh9tDMmB7QNtmd6GBQHtAOHCC05o6e0DGEjNhgyp7QNwjwGgx+XpAu94BJP/IekBCduowXod6QCTWp5vcc3pAIsaEHnleekCJLftRpT16QFL9kkIfNnpAJFiYEGcuekAoQrxlHyR6QE6ineAIAXpAt6Fo0GOteUBjgAIghVR5QGWuXGStUHlA/BH3OOM/eUCUleUyeKV4QFpNVUaPhHhA2Y+OpCxzeECr0fv3ziZ4QDtyzkoQHnhAZgGNBEcZeEBxtUYtUhN4QNMsln2f+XdA5BuHgbrvd0Brow3x0t13QPF5IWp8yXdAv5yBtn2jd0Bae/YLQIZ3QNC16fsSgndABR8D+h9qd0CVgmy4b0N3QFwkn7/xB3dAkoqLZ2UEd0C4xwPWgu92QHeSI4BfsnZAKwLItZ2ldkBYliMwgI92QE/MvOfCX3ZAppo4MkI3dkCPoCH6Oh12QB4MPeMLCXZAr8cqUgsHdkBkApp30/J1QLrHeSVU73VAWbyTzyfsdUBR0P71eOl1QACfGFMpv3VAojHf+XerdUAsA75naqh1QI0+5PgzoHVAgdViaRCPdUBctfDLWHB1QBDAJfECaHVAaWo/JbVjdUCmyVY8s1R1QApIB8ssS3VAqJIJy3scdUAozUQ+4Q91QFUF0xXPBnVAEFtGS1H3dEA55q2AK/Z0QGHBwrO18HRABUaXArffdEBUr35Mv810QEVYV6fHwnRA86GWDEW0dEAYogTBW7N0QLCh64qQsnRAN1NouBePdEAni+xgD150QPdUZvSPWXRAGs0qtoRVdECggbIH2kp0QHhMNIdlOHRAsXDiwTghdECa5c6SORt0QBLkmumyF3RAnouk/Ln+c0CQ9iX08NdzQBfGBzdAzXNAN9G6JEDKc0C1z/zSKrRzQDTNneEbtHNAEdBTmsOsc0CTKzmOpplzQPuU2IO4iHNA4BjY9gV+c0Czckt5tHpzQDaoBW2jd3NAaKypkIZsc0AmNITA8l1zQBxIo+/uWnNAidt4+zg9c0CtwYFCHTFzQOE9RhPuInNAdi2NAA8ic0BMQDVEsBxzQMLWc0aeE3NA4X0Ynu8Gc0BrN51CfgFzQLFhRLWS9nJAPCtVuWP2ckAi2wbK4fByQPebi1v24HJAhKbXDezKckC7AF7ERcdyQH/H3fHaw3JAyz8H9S3DckAzJ4/Vc71yQCvFQTChuXJAblaC/q+zckBawXAPNqFyQGDDJZ0yoXJA4s7w28SUckAlpt1B8YpyQISq5VHOinJAu3d/vHOFckDvIe4xz3lyQL4RHYdbb3JAg/XXrwlockCeikbNAWhyQN1CgsZQYXJAOU+92kpVckDTBr5RpUhyQOsVcd/4QnJA6S2cnXBCckA5LdB5vkFyQNNcnoswQHJAD4V7aO06ckDlB5BpJCdyQFviwRotGHJA5be1S8wTckClgQilrgJyQG0TpWpg/nFAmIwRqC/2cUBfInXoyOZxQM12SDVD0HFAwsFFkYyocUAtbQpIM5RxQEWYw1F3g3FAnl/PjyqCcUCr1nzb53xxQLq25v5uc3FAXp7GzbRrcUDMksXUemRxQKl6JVt6ZHFAOIdx97FdcUCpfZkOR1FxQKVrX7QMT3FAXyO4+w1HcUB5B9M37kVxQE3HdFvhO3FAoqb9kBg7cUBreLCE9ThxQHQDF3I1InFA89BzJoQdcUAKm3txqBdxQEp01n+EEXFA8pscPz8McUBzfKCAmwdxQLoYc4/ABHFAGKKaOPABcUBt4yRHm/twQAxFxqos6nBAPmPmpZHjcED1KoPOld1wQLu188/U1XBAdyMTYgi3cEAp2RdiFqNwQCeSc0eFoXBAo6rWDg2EcEAOyJbFX3NwQFUuvwEBc3BA2luVblpYcEAL7UJGZlZwQMIXQi2+Q3BAdec5Pg05cED7ufgnoSdwQJdb986aIXBATcI8DYkgcEB6Wp6Zke9vQP9Fk2sNqG9AokTEVvmmb0DYu4Wf3qBvQFEApTb5iG9AfFoLw76Db0ApVjuZYXZvQHp2e/iqMm9AoISjsA/sbkC0DOO1brRuQFZVLoJjF25AnrWzyg3hbUDvNKTa08JtQO5Z7p/2DW1AKztHrn/HbEAvehlAnrxsQAev1/v/eWxAdiqFBeVkbECN/jnCLTZsQC3UWve3IWxATGg+2vJwa0CYXn6zPmJrQKtCwdKA/WpARUH+/ECuakBV4Jy4Eo9qQIvc4CI7X2pA20XMD3W8aUCfiaj/cWdoQPzOAJADAWhATsrHP0DaZ0Cul98LsExnQFkf6JihRmdAVoyfEnoiZ0B6r61EdxFnQAxXm4JA3mZABFH0a6PWZkA1AUk+SZRmQJcwfnRHN2ZAFbOAmJ80ZkCAastK84BlQLhuyaBXC2VAobteXkALZUBkPs8mTK9kQGDBFkmtlmRAsIli4hpYZEClIczpVuBjQD44S8Ty3mNAWITgayehY0C4ujGX92ZjQJHwa2fgt2JA8f7X10WyYkCdhNjDOqdiQJQJwudpnmJAJeq7EOKWYkBkXCtCw5ViQLD+BqPIcGJAraAu2u9JYkA9N7B8aRNiQApp8TpA2GFABUhaU3DAYUAlBSnX3LlhQJh1W1vWemFA0kTVgYxSYUC7c5I+mMhgQChz+6bImWBALP+WH9pdYEC6UsG3/k5gQIZxFpTFBGBAYjszcToSX0A3IR4s3yldQAc3tUwuHV1AC+gBJGsGXUCs6tER481cQFDi/52lDVxAHu1TDRv5W0DWtThuZPhbQDHITjZqyltAuAzJIwBSW0BsIRY2UDpbQFLPwMqs81pAS8hms3+0WkBJnAw466RaQDPkpC+UiFpALF+tEudxWkAya+iCUlNaQMQIY/M20lhAGZQK1Ve0V0Bj0qpXY6dXQCyZbRfMn1VA9YRgMSqCVUA=",
          "dtype": "f8"
         },
         "yaxis": "y"
        },
        {
         "hoverlabel": {
          "font": {
           "size": 10
          }
         },
         "hovertemplate": "Product=Velo<br>price=%{x}<br>Quantity=%{y}<extra></extra>",
         "legendgroup": "Velo",
         "marker": {
          "color": "#990099",
          "opacity": 0.5,
          "size": 7,
          "symbol": "circle"
         },
         "mode": "markers",
         "name": "Velo",
         "showlegend": true,
         "type": "scattergl",
         "x": {
          "bdata": "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",
          "dtype": "f8"
         },
         "xaxis": "x",
         "y": {
          "bdata": "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",
          "dtype": "f8"
         },
         "yaxis": "y"
        },
        {
         "hoverlabel": {
          "font": {
           "size": 10
          }
         },
         "hovertemplate": "<b>LOWESS trendline</b><br><br>Product=Velo<br>price=%{x}<br>Quantity=%{y} <b>(trend)</b><extra></extra>",
         "legendgroup": "Velo",
         "marker": {
          "color": "#990099",
          "size": 7,
          "symbol": "circle"
         },
         "mode": "lines",
         "name": "Velo",
         "showlegend": false,
         "type": "scattergl",
         "x": {
          "bdata": "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",
          "dtype": "f8"
         },
         "xaxis": "x",
         "y": {
          "bdata": "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",
          "dtype": "f8"
         },
         "yaxis": "y"
        },
        {
         "hoverlabel": {
          "font": {
           "size": 10
          }
         },
         "hovertemplate": "Product=VTT<br>price=%{x}<br>Quantity=%{y}<extra></extra>",
         "legendgroup": "VTT",
         "marker": {
          "color": "#0099C6",
          "opacity": 0.5,
          "size": 7,
          "symbol": "circle"
         },
         "mode": "markers",
         "name": "VTT",
         "showlegend": true,
         "type": "scattergl",
         "x": {
          "bdata": "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",
          "dtype": "f8"
         },
         "xaxis": "x",
         "y": {
          "bdata": "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",
          "dtype": "f8"
         },
         "yaxis": "y"
        },
        {
         "hoverlabel": {
          "font": {
           "size": 10
          }
         },
         "hovertemplate": "<b>LOWESS trendline</b><br><br>Product=VTT<br>price=%{x}<br>Quantity=%{y} <b>(trend)</b><extra></extra>",
         "legendgroup": "VTT",
         "marker": {
          "color": "#0099C6",
          "size": 7,
          "symbol": "circle"
         },
         "mode": "lines",
         "name": "VTT",
         "showlegend": false,
         "type": "scattergl",
         "x": {
          "bdata": "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",
          "dtype": "f8"
         },
         "xaxis": "x",
         "y": {
          "bdata": "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",
          "dtype": "f8"
         },
         "yaxis": "y"
        }
       ],
       "layout": {
        "height": 500,
        "legend": {
         "title": {
          "text": "Product"
         },
         "tracegroupgap": 0
        },
        "template": {
         "data": {
          "bar": [
           {
            "error_x": {
             "color": "#2a3f5f"
            },
            "error_y": {
             "color": "#2a3f5f"
            },
            "marker": {
             "line": {
              "color": "#E5ECF6",
              "width": 0.5
             },
             "pattern": {
              "fillmode": "overlay",
              "size": 10,
              "solidity": 0.2
             }
            },
            "type": "bar"
           }
          ],
          "barpolar": [
           {
            "marker": {
             "line": {
              "color": "#E5ECF6",
              "width": 0.5
             },
             "pattern": {
              "fillmode": "overlay",
              "size": 10,
              "solidity": 0.2
             }
            },
            "type": "barpolar"
           }
          ],
          "carpet": [
           {
            "aaxis": {
             "endlinecolor": "#2a3f5f",
             "gridcolor": "white",
             "linecolor": "white",
             "minorgridcolor": "white",
             "startlinecolor": "#2a3f5f"
            },
            "baxis": {
             "endlinecolor": "#2a3f5f",
             "gridcolor": "white",
             "linecolor": "white",
             "minorgridcolor": "white",
             "startlinecolor": "#2a3f5f"
            },
            "type": "carpet"
           }
          ],
          "choropleth": [
           {
            "colorbar": {
             "outlinewidth": 0,
             "ticks": ""
            },
            "type": "choropleth"
           }
          ],
          "contour": [
           {
            "colorbar": {
             "outlinewidth": 0,
             "ticks": ""
            },
            "colorscale": [
             [
              0,
              "#0d0887"
             ],
             [
              0.1111111111111111,
              "#46039f"
             ],
             [
              0.2222222222222222,
              "#7201a8"
             ],
             [
              0.3333333333333333,
              "#9c179e"
             ],
             [
              0.4444444444444444,
              "#bd3786"
             ],
             [
              0.5555555555555556,
              "#d8576b"
             ],
             [
              0.6666666666666666,
              "#ed7953"
             ],
             [
              0.7777777777777778,
              "#fb9f3a"
             ],
             [
              0.8888888888888888,
              "#fdca26"
             ],
             [
              1,
              "#f0f921"
             ]
            ],
            "type": "contour"
           }
          ],
          "contourcarpet": [
           {
            "colorbar": {
             "outlinewidth": 0,
             "ticks": ""
            },
            "type": "contourcarpet"
           }
          ],
          "heatmap": [
           {
            "colorbar": {
             "outlinewidth": 0,
             "ticks": ""
            },
            "colorscale": [
             [
              0,
              "#0d0887"
             ],
             [
              0.1111111111111111,
              "#46039f"
             ],
             [
              0.2222222222222222,
              "#7201a8"
             ],
             [
              0.3333333333333333,
              "#9c179e"
             ],
             [
              0.4444444444444444,
              "#bd3786"
             ],
             [
              0.5555555555555556,
              "#d8576b"
             ],
             [
              0.6666666666666666,
              "#ed7953"
             ],
             [
              0.7777777777777778,
              "#fb9f3a"
             ],
             [
              0.8888888888888888,
              "#fdca26"
             ],
             [
              1,
              "#f0f921"
             ]
            ],
            "type": "heatmap"
           }
          ],
          "histogram": [
           {
            "marker": {
             "pattern": {
              "fillmode": "overlay",
              "size": 10,
              "solidity": 0.2
             }
            },
            "type": "histogram"
           }
          ],
          "histogram2d": [
           {
            "colorbar": {
             "outlinewidth": 0,
             "ticks": ""
            },
            "colorscale": [
             [
              0,
              "#0d0887"
             ],
             [
              0.1111111111111111,
              "#46039f"
             ],
             [
              0.2222222222222222,
              "#7201a8"
             ],
             [
              0.3333333333333333,
              "#9c179e"
             ],
             [
              0.4444444444444444,
              "#bd3786"
             ],
             [
              0.5555555555555556,
              "#d8576b"
             ],
             [
              0.6666666666666666,
              "#ed7953"
             ],
             [
              0.7777777777777778,
              "#fb9f3a"
             ],
             [
              0.8888888888888888,
              "#fdca26"
             ],
             [
              1,
              "#f0f921"
             ]
            ],
            "type": "histogram2d"
           }
          ],
          "histogram2dcontour": [
           {
            "colorbar": {
             "outlinewidth": 0,
             "ticks": ""
            },
            "colorscale": [
             [
              0,
              "#0d0887"
             ],
             [
              0.1111111111111111,
              "#46039f"
             ],
             [
              0.2222222222222222,
              "#7201a8"
             ],
             [
              0.3333333333333333,
              "#9c179e"
             ],
             [
              0.4444444444444444,
              "#bd3786"
             ],
             [
              0.5555555555555556,
              "#d8576b"
             ],
             [
              0.6666666666666666,
              "#ed7953"
             ],
             [
              0.7777777777777778,
              "#fb9f3a"
             ],
             [
              0.8888888888888888,
              "#fdca26"
             ],
             [
              1,
              "#f0f921"
             ]
            ],
            "type": "histogram2dcontour"
           }
          ],
          "mesh3d": [
           {
            "colorbar": {
             "outlinewidth": 0,
             "ticks": ""
            },
            "type": "mesh3d"
           }
          ],
          "parcoords": [
           {
            "line": {
             "colorbar": {
              "outlinewidth": 0,
              "ticks": ""
             }
            },
            "type": "parcoords"
           }
          ],
          "pie": [
           {
            "automargin": true,
            "type": "pie"
           }
          ],
          "scatter": [
           {
            "fillpattern": {
             "fillmode": "overlay",
             "size": 10,
             "solidity": 0.2
            },
            "type": "scatter"
           }
          ],
          "scatter3d": [
           {
            "line": {
             "colorbar": {
              "outlinewidth": 0,
              "ticks": ""
             }
            },
            "marker": {
             "colorbar": {
              "outlinewidth": 0,
              "ticks": ""
             }
            },
            "type": "scatter3d"
           }
          ],
          "scattercarpet": [
           {
            "marker": {
             "colorbar": {
              "outlinewidth": 0,
              "ticks": ""
             }
            },
            "type": "scattercarpet"
           }
          ],
          "scattergeo": [
           {
            "marker": {
             "colorbar": {
              "outlinewidth": 0,
              "ticks": ""
             }
            },
            "type": "scattergeo"
           }
          ],
          "scattergl": [
           {
            "marker": {
             "colorbar": {
              "outlinewidth": 0,
              "ticks": ""
             }
            },
            "type": "scattergl"
           }
          ],
          "scattermap": [
           {
            "marker": {
             "colorbar": {
              "outlinewidth": 0,
              "ticks": ""
             }
            },
            "type": "scattermap"
           }
          ],
          "scattermapbox": [
           {
            "marker": {
             "colorbar": {
              "outlinewidth": 0,
              "ticks": ""
             }
            },
            "type": "scattermapbox"
           }
          ],
          "scatterpolar": [
           {
            "marker": {
             "colorbar": {
              "outlinewidth": 0,
              "ticks": ""
             }
            },
            "type": "scatterpolar"
           }
          ],
          "scatterpolargl": [
           {
            "marker": {
             "colorbar": {
              "outlinewidth": 0,
              "ticks": ""
             }
            },
            "type": "scatterpolargl"
           }
          ],
          "scatterternary": [
           {
            "marker": {
             "colorbar": {
              "outlinewidth": 0,
              "ticks": ""
             }
            },
            "type": "scatterternary"
           }
          ],
          "surface": [
           {
            "colorbar": {
             "outlinewidth": 0,
             "ticks": ""
            },
            "colorscale": [
             [
              0,
              "#0d0887"
             ],
             [
              0.1111111111111111,
              "#46039f"
             ],
             [
              0.2222222222222222,
              "#7201a8"
             ],
             [
              0.3333333333333333,
              "#9c179e"
             ],
             [
              0.4444444444444444,
              "#bd3786"
             ],
             [
              0.5555555555555556,
              "#d8576b"
             ],
             [
              0.6666666666666666,
              "#ed7953"
             ],
             [
              0.7777777777777778,
              "#fb9f3a"
             ],
             [
              0.8888888888888888,
              "#fdca26"
             ],
             [
              1,
              "#f0f921"
             ]
            ],
            "type": "surface"
           }
          ],
          "table": [
           {
            "cells": {
             "fill": {
              "color": "#EBF0F8"
             },
             "line": {
              "color": "white"
             }
            },
            "header": {
             "fill": {
              "color": "#C8D4E3"
             },
             "line": {
              "color": "white"
             }
            },
            "type": "table"
           }
          ]
         },
         "layout": {
          "annotationdefaults": {
           "arrowcolor": "#2a3f5f",
           "arrowhead": 0,
           "arrowwidth": 1
          },
          "autotypenumbers": "strict",
          "coloraxis": {
           "colorbar": {
            "outlinewidth": 0,
            "ticks": ""
           }
          },
          "colorscale": {
           "diverging": [
            [
             0,
             "#8e0152"
            ],
            [
             0.1,
             "#c51b7d"
            ],
            [
             0.2,
             "#de77ae"
            ],
            [
             0.3,
             "#f1b6da"
            ],
            [
             0.4,
             "#fde0ef"
            ],
            [
             0.5,
             "#f7f7f7"
            ],
            [
             0.6,
             "#e6f5d0"
            ],
            [
             0.7,
             "#b8e186"
            ],
            [
             0.8,
             "#7fbc41"
            ],
            [
             0.9,
             "#4d9221"
            ],
            [
             1,
             "#276419"
            ]
           ],
           "sequential": [
            [
             0,
             "#0d0887"
            ],
            [
             0.1111111111111111,
             "#46039f"
            ],
            [
             0.2222222222222222,
             "#7201a8"
            ],
            [
             0.3333333333333333,
             "#9c179e"
            ],
            [
             0.4444444444444444,
             "#bd3786"
            ],
            [
             0.5555555555555556,
             "#d8576b"
            ],
            [
             0.6666666666666666,
             "#ed7953"
            ],
            [
             0.7777777777777778,
             "#fb9f3a"
            ],
            [
             0.8888888888888888,
             "#fdca26"
            ],
            [
             1,
             "#f0f921"
            ]
           ],
           "sequentialminus": [
            [
             0,
             "#0d0887"
            ],
            [
             0.1111111111111111,
             "#46039f"
            ],
            [
             0.2222222222222222,
             "#7201a8"
            ],
            [
             0.3333333333333333,
             "#9c179e"
            ],
            [
             0.4444444444444444,
             "#bd3786"
            ],
            [
             0.5555555555555556,
             "#d8576b"
            ],
            [
             0.6666666666666666,
             "#ed7953"
            ],
            [
             0.7777777777777778,
             "#fb9f3a"
            ],
            [
             0.8888888888888888,
             "#fdca26"
            ],
            [
             1,
             "#f0f921"
            ]
           ]
          },
          "colorway": [
           "#636efa",
           "#EF553B",
           "#00cc96",
           "#ab63fa",
           "#FFA15A",
           "#19d3f3",
           "#FF6692",
           "#B6E880",
           "#FF97FF",
           "#FECB52"
          ],
          "font": {
           "color": "#2a3f5f"
          },
          "geo": {
           "bgcolor": "white",
           "lakecolor": "white",
           "landcolor": "#E5ECF6",
           "showlakes": true,
           "showland": true,
           "subunitcolor": "white"
          },
          "hoverlabel": {
           "align": "left"
          },
          "hovermode": "closest",
          "mapbox": {
           "style": "light"
          },
          "paper_bgcolor": "white",
          "plot_bgcolor": "#E5ECF6",
          "polar": {
           "angularaxis": {
            "gridcolor": "white",
            "linecolor": "white",
            "ticks": ""
           },
           "bgcolor": "#E5ECF6",
           "radialaxis": {
            "gridcolor": "white",
            "linecolor": "white",
            "ticks": ""
           }
          },
          "scene": {
           "xaxis": {
            "backgroundcolor": "#E5ECF6",
            "gridcolor": "white",
            "gridwidth": 2,
            "linecolor": "white",
            "showbackground": true,
            "ticks": "",
            "zerolinecolor": "white"
           },
           "yaxis": {
            "backgroundcolor": "#E5ECF6",
            "gridcolor": "white",
            "gridwidth": 2,
            "linecolor": "white",
            "showbackground": true,
            "ticks": "",
            "zerolinecolor": "white"
           },
           "zaxis": {
            "backgroundcolor": "#E5ECF6",
            "gridcolor": "white",
            "gridwidth": 2,
            "linecolor": "white",
            "showbackground": true,
            "ticks": "",
            "zerolinecolor": "white"
           }
          },
          "shapedefaults": {
           "line": {
            "color": "#2a3f5f"
           }
          },
          "ternary": {
           "aaxis": {
            "gridcolor": "white",
            "linecolor": "white",
            "ticks": ""
           },
           "baxis": {
            "gridcolor": "white",
            "linecolor": "white",
            "ticks": ""
           },
           "bgcolor": "#E5ECF6",
           "caxis": {
            "gridcolor": "white",
            "linecolor": "white",
            "ticks": ""
           }
          },
          "title": {
           "x": 0.05
          },
          "xaxis": {
           "automargin": true,
           "gridcolor": "white",
           "linecolor": "white",
           "ticks": "",
           "title": {
            "standoff": 15
           },
           "zerolinecolor": "white",
           "zerolinewidth": 2
          },
          "yaxis": {
           "automargin": true,
           "gridcolor": "white",
           "linecolor": "white",
           "ticks": "",
           "title": {
            "standoff": 15
           },
           "zerolinecolor": "white",
           "zerolinewidth": 2
          }
         }
        },
        "title": {
         "text": "Price vs Quantity Analysis"
        },
        "width": 900,
        "xaxis": {
         "anchor": "y",
         "domain": [
          0,
          1
         ],
         "tickfont": {
          "size": 10
         },
         "title": {
          "text": "Price"
         }
        },
        "yaxis": {
         "anchor": "x",
         "domain": [
          0,
          1
         ],
         "tickfont": {
          "size": 10
         },
         "title": {
          "text": "Quantity Sold"
         }
        }
       }
      }
     },
     "metadata": {},
     "output_type": "display_data"
    }
   ],
   "source": [
    "# Exploring the relationship between price and units sold\n",
    "fig = px.scatter(\n",
    "    df, \n",
    "    x= 'price', y = 'Quantity',\n",
    "    color= 'Product',\n",
    "    opacity=0.5,\n",
    "    trendline='lowess',\n",
    "    # trendline_color_override='blue',\n",
    "    title= 'Price vs Quantity Analysis',\n",
    "    width=900,\n",
    "    height=500,\n",
    "    color_discrete_sequence=px.colors.qualitative.G10\n",
    ").update_traces(\n",
    "    marker= dict(size=7),\n",
    "    hoverlabel= dict(font= dict(size=10))\n",
    ").update_xaxes(\n",
    "    title_text = 'Price',\n",
    "    tickfont= dict(size=10)\n",
    ").update_yaxes(\n",
    "    title_text = 'Quantity Sold',\n",
    "    tickfont= dict(size=10)\n",
    ")\n",
    "\n",
    "# Show figure\n",
    "fig"
   ]
  },
  {
   "cell_type": "code",
   "execution_count": 29,
   "id": "ac2a17ba",
   "metadata": {},
   "outputs": [
    {
     "data": {
      "text/html": [
       "<div>\n",
       "<style scoped>\n",
       "    .dataframe tbody tr th:only-of-type {\n",
       "        vertical-align: middle;\n",
       "    }\n",
       "\n",
       "    .dataframe tbody tr th {\n",
       "        vertical-align: top;\n",
       "    }\n",
       "\n",
       "    .dataframe thead th {\n",
       "        text-align: right;\n",
       "    }\n",
       "</style>\n",
       "<table border=\"1\" class=\"dataframe\">\n",
       "  <thead>\n",
       "    <tr style=\"text-align: right;\">\n",
       "      <th></th>\n",
       "      <th>Product</th>\n",
       "      <th>price_max</th>\n",
       "      <th>price_min</th>\n",
       "      <th>qty_max</th>\n",
       "      <th>qty_min</th>\n",
       "      <th>obs_count</th>\n",
       "      <th>pct_change_price</th>\n",
       "      <th>pct_change_qty</th>\n",
       "      <th>ratio</th>\n",
       "    </tr>\n",
       "  </thead>\n",
       "  <tbody>\n",
       "    <tr>\n",
       "      <th>3</th>\n",
       "      <td>Paseo</td>\n",
       "      <td>51.976110</td>\n",
       "      <td>31.286696</td>\n",
       "      <td>2268.023316</td>\n",
       "      <td>145.0</td>\n",
       "      <td>808</td>\n",
       "      <td>66.128470</td>\n",
       "      <td>1464.154011</td>\n",
       "      <td>22.141054</td>\n",
       "    </tr>\n",
       "    <tr>\n",
       "      <th>5</th>\n",
       "      <td>Velo</td>\n",
       "      <td>36.946751</td>\n",
       "      <td>19.106243</td>\n",
       "      <td>2489.000000</td>\n",
       "      <td>197.0</td>\n",
       "      <td>436</td>\n",
       "      <td>93.375282</td>\n",
       "      <td>1163.451777</td>\n",
       "      <td>12.459955</td>\n",
       "    </tr>\n",
       "    <tr>\n",
       "      <th>0</th>\n",
       "      <td>Amarilla</td>\n",
       "      <td>14.673598</td>\n",
       "      <td>3.143178</td>\n",
       "      <td>4384.878030</td>\n",
       "      <td>215.0</td>\n",
       "      <td>376</td>\n",
       "      <td>366.839554</td>\n",
       "      <td>1939.478153</td>\n",
       "      <td>5.286993</td>\n",
       "    </tr>\n",
       "    <tr>\n",
       "      <th>4</th>\n",
       "      <td>VTT</td>\n",
       "      <td>26.950991</td>\n",
       "      <td>5.001823</td>\n",
       "      <td>2151.237279</td>\n",
       "      <td>165.0</td>\n",
       "      <td>436</td>\n",
       "      <td>438.823349</td>\n",
       "      <td>1203.780169</td>\n",
       "      <td>2.743200</td>\n",
       "    </tr>\n",
       "    <tr>\n",
       "      <th>2</th>\n",
       "      <td>Montana</td>\n",
       "      <td>16.994412</td>\n",
       "      <td>1.000000</td>\n",
       "      <td>7979.000000</td>\n",
       "      <td>213.0</td>\n",
       "      <td>372</td>\n",
       "      <td>1599.441152</td>\n",
       "      <td>3646.009390</td>\n",
       "      <td>2.279552</td>\n",
       "    </tr>\n",
       "    <tr>\n",
       "      <th>1</th>\n",
       "      <td>Carretera</td>\n",
       "      <td>24.592797</td>\n",
       "      <td>1.294622</td>\n",
       "      <td>7913.000000</td>\n",
       "      <td>209.0</td>\n",
       "      <td>372</td>\n",
       "      <td>1799.612407</td>\n",
       "      <td>3686.124402</td>\n",
       "      <td>2.048288</td>\n",
       "    </tr>\n",
       "  </tbody>\n",
       "</table>\n",
       "</div>"
      ],
      "text/plain": [
       "     Product  price_max  price_min      qty_max  qty_min  obs_count  \\\n",
       "3      Paseo  51.976110  31.286696  2268.023316    145.0        808   \n",
       "5       Velo  36.946751  19.106243  2489.000000    197.0        436   \n",
       "0   Amarilla  14.673598   3.143178  4384.878030    215.0        376   \n",
       "4        VTT  26.950991   5.001823  2151.237279    165.0        436   \n",
       "2    Montana  16.994412   1.000000  7979.000000    213.0        372   \n",
       "1  Carretera  24.592797   1.294622  7913.000000    209.0        372   \n",
       "\n",
       "   pct_change_price  pct_change_qty      ratio  \n",
       "3         66.128470     1464.154011  22.141054  \n",
       "5         93.375282     1163.451777  12.459955  \n",
       "0        366.839554     1939.478153   5.286993  \n",
       "4        438.823349     1203.780169   2.743200  \n",
       "2       1599.441152     3646.009390   2.279552  \n",
       "1       1799.612407     3686.124402   2.048288  "
      ]
     },
     "execution_count": 29,
     "metadata": {},
     "output_type": "execute_result"
    }
   ],
   "source": [
    "# Calculating Price-Demand elasticity\n",
    "(\n",
    "    df\n",
    "    .groupby('Product')\n",
    "    .agg({'price': ['max', 'min'],\n",
    "          'Quantity': ['max', 'min'],\n",
    "          'Product':'count'})\n",
    "    .reset_index()\n",
    "    .pipe(lambda d: d.set_axis(['Product', 'price_max', 'price_min', 'qty_max', 'qty_min', 'obs_count'], axis=1))\n",
    "    .assign(pct_change_price=lambda d: (d['price_max'] - d['price_min']) / d['price_min'] * 100,\n",
    "            pct_change_qty  =lambda d: (d['qty_max'] - d['qty_min']) / d['qty_min'] * 100)\n",
    "    .assign(\n",
    "         ratio=lambda d: d['pct_change_qty'] / d['pct_change_price']) # demand elasticity\n",
    "    .sort_values('ratio', ascending=False)\n",
    ")"
   ]
  },
  {
   "cell_type": "code",
   "execution_count": 30,
   "id": "689e750e",
   "metadata": {},
   "outputs": [
    {
     "data": {
      "application/vnd.plotly.v1+json": {
       "config": {
        "plotlyServerURL": "https://plot.ly"
       },
       "data": [
        {
         "hoverlabel": {
          "font": {
           "size": 10
          }
         },
         "hovertemplate": "discount=High<br>Product=Amarilla<br>price=%{x}<br>Quantity=%{y}<extra></extra>",
         "legendgroup": "High",
         "marker": {
          "color": "#3366CC",
          "opacity": 0.5,
          "size": 7,
          "symbol": "circle"
         },
         "mode": "markers",
         "name": "High",
         "showlegend": true,
         "type": "scattergl",
         "x": {
          "bdata": "smJ8BayyC0A2TyK7d6oQQPJCiLL/WhBAK+nXt3k+DkB3SBvu8h4NQBXH+TFcXRFAD7CEUSbiD0DG4Ob/4PsJQNQEdHrxbhFAZsUg0lkDC0AKe4idD7ATQGP8ECv9ehFAkDTA+juCEEAiv/+IKboQQD9nCekFYgxA5xfJqxM1D0D/fUa8x8AOQCwnUG2PDw5AFAlF3A8zE0AvlAuPaQURQIml54LQjA9AnK0KAKoiEUAHMZnydFcRQJLUxH86JQlAyxQSU961EUCw3NvBdy4JQOq29UwbcQxANBj978pyEEAVDTrVqoMQQOEVPxk0vhBAYHvRw+M6D0DslBN7DyERQAS+sD7dZAtA3DZqtrZ+C0Dsq0eh9t0QQAyqO3wjAw5A4jIIsiS3CUALLfGv3NoLQJAc7q+OxAtApmI7+EnvDEAIAfXNRQUSQMKQLBrsFw1AqF8T3aclD0AgrcnXwfINQBJDds5udg1AopZ3azRoE0BmIEPLXEEQQEL5Hn567wpAe7wJB/rdCkCe4RjKpDIKQDjkFIkB/A1AIPjqO/9sCkB23xv44SARQKorc7UbUA9ArK0OZZaXDECMwwusqXsSQAZg+BY12BBAhzljrOd9EkB8O4OygykKQNhaHPvN7A9Ay9pCoxbLEUAeCuyt0XsSQMIQmwJzvRBAVmqTUPZ6D0BKMDi5jCsOQHArAVS5MA5ALGT3yAZwDkDYGb5gX4oJQPg2B/fiwgtA2w+HZ2ZlE0BpsxBneO0PQPWS1RnCrBFAvXA0r4DaEEDxdoujR90TQLxldzUyPA1ANqfW3lHDEUC1s6A2zKwLQJYzACkErwtAmZk5PFZWEkDBYGlsTiQRQE9csWHriBBAIH2qYe6EEUBjsGlp/DgJQFGjhi1lyxBAmq65mv8oEUAaQilt1KYOQLpEvxX4chJAiym7BN//DkDABXpOBeURQJSmWiwGmRFAij5ca5XREkCkcqDE4HcQQM1CBougBhJAINWs1rNmE0CCF1tqQGoKQJrHsUU0khBAUoBQywSmEUD9/13Gc2IRQIYtJeXRXA5A9gCKTdsIE0Dlf+IIw8wQQMKXrPoGEgtAdhckJqmhD0BmyFo2VvQMQKZ3za4X6BBA0KiE9RZuDUAY1mWCauATQNrIFNWVUw5Ab39QTHHVDkCRsVYwzdkQQCP8AkfFPgtA068w10OyDkDC33NQI34QQETdfw5RpxJARczVo2Y2DkCQjY5FRZcSQHV8PoFqoxBAmvGs7Ch8C0Ae0Xq/PrILQHPCCx1m6BBABqVch4QjEEDA5F+ObxgMQN5UrxhEwhJAjO4LDn9JDUCwABErGS8TQJWKo1YsXhFAXs1xPScvEUDmpVqVBO8RQDZceqrPjRFA1nO338TpD0BJCYYZiuUPQKutrqOcRA1AvC5Adzl6CUCO7Bey7gYOQBa2FWs8ig5Au5aSvYmXEUDq5OkeIb0OQHTY4kxj9BFAMtxZ5UVtEkDlS23QZSIQQM87KMyk1RBAoqHQgidWE0B/nKK+7woQQMhrlHvBpRBAibo6HhXqD0DSQfRL+J4MQEDtCrT7vg9A+SC2UTM/CkBtk8Ph8DYPQIvxX7n89QpABqkGzY72EEBD7sQ4d4wQQA==",
          "dtype": "f8"
         },
         "xaxis": "x5",
         "y": {
          "bdata": "kM8JtCZSsEDlHk46tBurQCiBNqyvu6tAnpOVd1FwqEBI6dDMHw2tQJ67SnpYgqlAcHonQjxTrUDD5bvpVh2wQPRlDn+3ga1ADtWgA/B+q0AaO0rbXH2rQLxLuZ7pv61AmRx9Fekip0AmBRDgab6nQPNRyivJ4atAQh+MdB6cqEDAXZ269MWpQMU2Lrig8K5A9kKCwOsrpkBZlDQ57G6tQPW6Jh5tE6xAeL6/K0L8qECC+RXJjQyoQA6PjsbgILFAjxLSsJ0Tq0ClGrEpM4SvQLqhzZ9Tc7BAr8p93qdyrUDaT5LFYCWrQGUcYMKxbahATe39WyYKqkBJv7u57RCrQGaT75Gf6alAmI8i/PKvr0B3IWbR9BqpQHtkS7DpDq9AKjzb7LX+qkCqxEdlvCCuQHggaWs87a5A+iQiIFsosEAQFS4vkyKsQOIJkhqJvqtAfcHd24UZr0AXcnSgWoerQB/VjKCy169AwO++7Rv2qkChIJrjmnyrQJZGVDdYua5A50xyA1DgrUBMGeGR13yqQKNoUb0bJa9AgwiEURgbsEDxncTzTAqqQKhXR0Qx6axA19hec0RXq0DSlssFqASnQKSj4d1eLadAfxDwiZIqqEAZ8/t/DEivQMgq/69KdahAClABvjG1qkD3O22Eg/OlQMVSPMnuh6tAZKOyPYFYrUDoo6Ppj16pQNQz9cT6Bq9AhuL5E0wtrUD1YQaCwjmsQIluAKuCXKpAdxo5zzPkp0D7+ycBfvaqQNjznus1AKlAqiY/NcR4p0BXzbiBcSOmQH64WnMqNrBA3tM0Gl4orEDo8oDZvpGsQKIj5E2VIapAipN4VN72qUAXb0cyJmKmQBVdsn25b6pAraaXq3jwqUAyBge49r+tQArNLn3xKq1A7TDJzrXCqUDi/peFeZ6uQORzJwNMOalAvBgaLRCkqkCIq2EP6BqtQL780jqvoK1AF0OXmxsmqkBoxPScQBunQOllXI6UtqxAqnJB1MBApkAe7e+YGbSqQEQf0PinFKhAHEqGM4OhrUAzAZrqWfmqQLDXlGeTYqhAavG5nPGTpkBTZ+P0HNSoQF6EGj2/gqtAaGP3QwRzqUAADzofCJWvQFCe6ourUqlAwf31DAhMrEBEV20m9dKoQOTQkkof9K5ApeRMYBeAqUD+o1d2BT2tQPHlyagmDK5A4f1CG4oorkAWQivm4zKnQEwtFcnkQKZA4j6r86adq0C87F7RG56qQJSwkIkO/6hA3DvYGA91sEAL8tupmW6qQBWE5kaXvalANKxeONhbqUDKXl+BRH2tQC5iNBYcIqtAbzputfPNqUCPhWy2ZUGrQC/b55zPEadAoRZVudNCrEBnVRjoAS6pQOht6OWGd6lADHakYf7dqkB68hZBWaypQC2yvYogRLBAk7k/CdlsrUCwpjM3cfWuQPsrGDXW6K5Ag09PhnYZpkDq+f023COvQETe5XUi2apAOlSkNM8RqUDkUbMP39WtQFNVDiJ4yqhAHdKvzeXqpEDb0yIsOeyrQPfQtJCVmK5AsuiDJtBvq0BkAtGsmz6sQMn2FX2bIatAbEKPkA3Vq0CmAocMKzSrQLGHP9DJb6tA4/UeOyUSrEASLa4qRQurQA==",
          "dtype": "f8"
         },
         "yaxis": "y5"
        },
        {
         "hoverlabel": {
          "font": {
           "size": 10
          }
         },
         "hovertemplate": "<b>LOWESS trendline</b><br><br>discount=High<br>Product=Amarilla<br>price=%{x}<br>Quantity=%{y} <b>(trend)</b><extra></extra>",
         "legendgroup": "High",
         "marker": {
          "color": "#3366CC",
          "size": 7,
          "symbol": "circle"
         },
         "mode": "lines",
         "name": "High",
         "showlegend": false,
         "type": "scattergl",
         "x": {
          "bdata": "ktTEfzolCUCw3NvBdy4JQGOwaWn8OAlAvC5Adzl6CUDYGb5gX4oJQOIyCLIktwlAxuDm/+D7CUB8O4OygykKQJ7hGMqkMgpA+SC2UTM/CkCCF1tqQGoKQCD46jv/bApAe7wJB/rdCkBC+R5+eu8KQIvxX7n89QpAZsUg0lkDC0DCl6z6BhILQCP8AkfFPgtABL6wPt1kC0Ca8azsKHwLQNw2ara2fgtAtbOgNsysC0CWMwApBK8LQB7Rer8+sgtAsmJ8BayyC0D4Ngf34sILQJAc7q+OxAtACy3xr9zaC0DA5F+ObxgMQD9nCekFYgxA6rb1TBtxDECsrQ5llpcMQNJB9Ev4ngxApmI7+EnvDEBmyFo2VvQMQMKQLBrsFw1Ad0gb7vIeDUC8ZXc1MjwNQKutrqOcRA1AjO4LDn9JDUDQqIT1Fm4NQBJDds5udg1AIK3J18HyDUA45BSJAfwNQAyqO3wjAw5AjuwXsu4GDkAsJ1Btjw8OQEowOLmMKw5AcCsBVLkwDkBFzNWjZjYOQCvp17d5Pg5A2sgU1ZVTDkCGLSXl0VwOQCxk98gGcA5AFrYVazyKDkAaQilt1KYOQNOvMNdDsg5A6uTpHiG9DkD/fUa8x8AOQG9/UExx1Q5Aiym7BN//DkCoXxPdpyUPQOcXyasTNQ9AbZPD4fA2D0Bge9HD4zoPQKorc7UbUA9AVmqTUPZ6D0CJpeeC0IwPQHYXJCapoQ9AQO0KtPu+D0APsIRRJuIPQEkJhhmK5Q9A1nO338TpD0CJujoeFeoPQNhaHPvN7A9AabMQZ3jtD0B/nKK+7woQQOVLbdBlIhBABqVch4QjEEBmIEPLXEEQQPJCiLL/WhBANBj978pyEECkcqDE4HcQQMLfc1AjfhBAkDTA+juCEEAVDTrVqoMQQE9csWHriBBAQ+7EOHeMEECax7FFNJIQQHV8PoFqoxBAyGuUe8GlEEA2TyK7d6oQQCK//4gpuhBAwhCbAnO9EEDhFT8ZNL4QQFGjhi1lyxBA5X/iCMPMEEDPOyjMpNUQQAZg+BY12BBAkbFWMM3ZEEC9cDSvgNoQQOyrR6H23RBApnfNrhfoEEBzwgsdZugQQAapBs2O9hBAL5QLj2kFEUB23xv44SARQOyUE3sPIRFAnK0KAKoiEUDBYGlsTiQRQJquuZr/KBFAXs1xPScvEUAHMZnydFcRQBXH+TFcXRFAlYqjVixeEUD9/13Gc2IRQNQEdHrxbhFAY/wQK/16EUAgfaph7oQRQDZceqrPjRFAu5aSvYmXEUCUplosBpkRQFKAUMsEphFA9ZLVGcKsEUDLFBJT3rURQDan1t5RwxFAy9pCoxbLEUDABXpOBeURQOalWpUE7xFAdNjiTGP0EUAIAfXNRQUSQM1CBougBhJAmZk5PFZWEkAy3FnlRW0SQLpEvxX4chJAjMMLrKl7EkAeCuyt0XsSQIc5Y6znfRJAkI2ORUWXEkBE3X8OUacSQN5UrxhEwhJAij5ca5XREkD2AIpN2wgTQLAAESsZLxNAFAlF3A8zE0CiodCCJ1YTQNsPh2dmZRNAINWs1rNmE0CilndrNGgTQAp7iJ0PsBNA8XaLo0fdE0AY1mWCauATQA==",
          "dtype": "f8"
         },
         "xaxis": "x5",
         "y": {
          "bdata": "dRanTS7urUDmRBc7MeytQAzbKH/t6a1Azx4zEtXbrUB+tP0lUtitQHZcBG2Dzq1AM8S5ajG/rUCQvqCZzrStQEgEMoi0sq1Acuf3v8yvrUD4MBUdtKWtQDFwfGUNpa1AUcf1X2eJrUDu7g4Q9oStQIEesxxMg61APnV6W9x/rUAd0t0IDnytQH6jJN4+cK1AIRxWV/NlrUAhD0iBjF+tQLAgYaPXXq1AMtEUi/BRrUBXp2avT1GtQMY1WkdlUK1AkZPBQ0ZQrUCYcUbDp0utQFpI8nAtS61A95KDgcRErUCoWJSV0jKtQA4rCCwkHa1A/cY0z7UYrUD9O2l6gg2tQEBU0NRiC61AQBV9jEP1rEDfJaFD9fOsQAR+TPIi66xAGYkRfXrprEAxQM1Z3uKsQMiQMCwL4axABojWKP/frEDoyZRJ7desQGjW9Wbc1KxAOWRB8o+grEB6EtOkT5qsQAIATvL8l6xAmlj9uNWWrEBhaGLJL5SsQBcAOIoni6xA5L8gfmuJrECL81l5Q4esQGUjVHlxg6xAH6IIqhZ6rEDk8mUiqXasQFoqLQ8UaaxAJO6eyk5VrEDF7JEqj0esQGqF3G0bQqxAiVAPy548rEDxmOsotDqsQG/6f1DELaxApqdMyTAPrEBhzV44+/OrQI+J/Amy6KtAKEWahUjnq0Dv0/wQHuSrQDY53v5c06tAbjG7XLGwq0Bka1qc2KKrQH5QBYngkqtA8Rwe97J9q0CSM6s2fmOrQGT0/L2lYKtALQCVGRZdq0BI65hr0lyrQHBghv6FWqtA6Z1g6PVZq0AZalsKzjirQKjjXWNFFqtAoUxHaGMUq0C2+712CfWqQFN7OeMM4apADxpoV4HDqkDy30/o3r+qQIMAe4dDuqpAsE6Xdia1qkDhFqClYLOqQMuykHTWrapAft6uUZKpqkCzJH9UGqaqQBHBjav/napAWAU/JnWcqkCQw0x9cpqqQBRJOEY5kKpAYVYZwYiNqkC06WbkO42qQCGh6d6ZhqpAOZ/9wvqFqkBsQtKpuIGqQB6MvThtgKpA7AMxopt/qkCz966hPn+qQKoqmJVsfapA9tiW5k52qkD+J/m1EHaqQBhgXPCLa6pAEIoQwINiqkAxdj8CBlOqQEmuZqDqUqpApPKRZPJRqkBk//nd8VCqQO2z43EITqpAyEsPFy5KqkBLSjnmIS+qQOZihnNgKqpAQPrZrrUpqkB+kGDFJyaqQILFBNzdG6pAKDuC/lMRqkCtpETJqwqqQI+So+LhAqpAPMiSQFb6qUDGgAxFCfmpQBOPayO87alAoEvzc+/nqUD/SrypLOCpQKacDB/l1KlATHgvFXvOqUAgLMjikbmpQLZY8CGxsalAQc/eGH+tqUB3B2tmcqCpQKuY+Ihon6lAQ1Ugd1JjqUB5WU4qEVKpQNzzY+zDTalAWWln7S5HqUBjXWiWEEepQNMqm3N7RalACg7TFiEyqUD2RTXbxiWpQB7/HLPSEKlAG98CS8sEqUAFXcUdndioQBIe3SpJuahA2XcQwAC2qEBkn2cBppioQIfIp9a8i6hASEuRZKGKqEB0Z55DWomoQLaz7RlfS6hAuTBSPK4jqEAjUJcr6SCoQA==",
          "dtype": "f8"
         },
         "yaxis": "y5"
        },
        {
         "hoverlabel": {
          "font": {
           "size": 10
          }
         },
         "hovertemplate": "discount=High<br>Product=Carretera<br>price=%{x}<br>Quantity=%{y}<extra></extra>",
         "legendgroup": "High",
         "marker": {
          "color": "#3366CC",
          "opacity": 0.5,
          "size": 7,
          "symbol": "circle"
         },
         "mode": "markers",
         "name": "High",
         "showlegend": false,
         "type": "scattergl",
         "x": {
          "bdata": "TPrWY8W29D943qAo+uP8P2TK79EBEv8/wRzZUp3RAkBBro9MnlYEQN6uaC4GyARAcWUhexzJBEAKCSpZ8lcFQCNXjqdjkQVApkAEFZh/BkCueXZWboMHQP/ASpixbQlACFx16IB6CUCIueagP50KQOCOViyQ9gtAwjta8MLDDECMFRke4kkNQE0HOPhNkA5AUMU/uww9D0D+7PsIOLIPQOi3ojISNxBA53mfb6GgEEA4OB0taFMRQGQCkdHQyRFAYF9PZgY6EkCKCqyuxKIUQOIQcp9yuBRALqFGq+j0FEBg5qnhUpcVQHfLAm0uGBZAAhthXRS8F0AhCwqMATEYQEttvVrfcBhAPsG481qiGEC9I/7vLNwYQEta0+ECURlACY7RpJqeGUC34BpYD6wZQO//gPxf6BlATpf+HjznGkAqKnA+b2kbQL6ag3J/8xtAw4ESBK4KHEDAQtmkeyMcQLd1gX56dRxA+BLc6k2WHEAsIOk3bJscQNguj5tbTx9AI0wwF5T9H0BmyiQpZSAgQG9duwQnOSBAcHjZkJFHIEB4cMIvJ1QgQG7gah8IjiBADUSlAFZlIUCJKzSjXdchQG7RnLjT6iFAxrM/B0f7IUDz4Dhd+H4iQINbyM8ljyJANH+tVLKvIkB7K7vRrrsiQPO52FibCCNA1S1oa/xMI0Dx+ENVIp0jQBjFHiRDqiNA2lvJ4v6wI0AYyUh0hc0jQIxv9EvfziNAxotwDA1NJEDGxFHQabAkQBkHOPIUwiRAsIVmcyUEJUAWVmuA1DIlQFR4ieWTaiVA+FzBG776JUAuvssh2fslQMaJKC7KCSZA2PIuAVKbJkARMLxxDfgmQMAm7UtOTidAqtvTRANXJ0C/3rdt4m8nQFJal1RnlCdAZoHULrDFJ0C4+H3CSdonQA2nrrmrRyhAsgm1Cri8KEC9SleU68goQMjesYPb3ChAZe2XMDryKEAqftFhivsoQKaLo7fPGClA/u5U4JKMKUAdqL7Y+Q8qQOh79njmVipA9iSl6txkKkCf8689aJQqQOLO3tYG0ypAFbPZXrfUKkCsqcF2wg8rQN/4826utStAFkZJhwvJK0DouvmJM0UsQP87oknh0SxARjf9x+/iLEC28gEqBOQsQNzOOFC4/SxAoUPpgcmTLUAQ277npsItQO4scdMfMS5ADtSUDbZrLkCudpZoipEuQHNAo3W1+C5Ajd/UmaIJL0BS/zpYaRcvQF34HzwSJC9AqSeUXzlhL0BPfAKbBNUvQJx70gE28i9A1xpCxfB4MEDeztX9Q6wwQMlzf21fATFAD1DUOWIhMUAGs9eO5XwxQCG66k+iyTFASsfX/rPsMUDQLi3CC/AxQJHHNfcBIjJA3QioH8lUMkC+66gzvZQyQDzUG73cszJA",
          "dtype": "f8"
         },
         "xaxis": "x6",
         "y": {
          "bdata": "AAAAAAA4mEAAAAAAAHCfQAAAAAAAmKFAAAAAAAAwlUAAAAAAAECfQAAAAAAArJ1AAAAAAACQmEAAAAAAAOm2QAAAAAAA1JNAAAAAAABwjEAAAAAAAKu+QJlA/xwB3adAAAAAAACMsEAAAAAAAGCLQAAAAAAA0ItAAAAAAABkkUAAAAAAAOe6QAAAAAAA6ItAAAAAAACitUAAAAAAAPqpQAAAAAAAaIxAz2xFjK0Zn0AAAAAAAFCfQAAAAAAA0ItAAAAAAABxtkAAAAAAAASWQAAAAAAA9qxAAAAAAAAStUAAAAAAACSTQAAAAAAA4KhAAAAAAACIjkAAAAAAAIiNQAAAAAAAH7ZAAAAAAACIlEAAAAAAADiLQAAAAAAApLZAAAAAAADgikAAAAAAANiNQAAAAAAA2IpAAAAAAACgsUAAAAAAAAiLQAAAAAAAGJRAAAAAAADpvkAAAAAAAPKhQAAAAAAArJlAAAAAAACQjUAAAAAAAJqkQAAAAAAAPJBAAAAAAAD4i0AjvucEjEaYQAAAAAAAfJRAAAAAAADIj0AAAAAAANCsQAAAAAAAYI5AAAAAAADYj0AAAAAAACCOQIrfMQO4PpNAAAAAAACUq0AAAAAAAAiLQAAAAAAASqNAAAAAAAAIjEAAAAAAAJCaQAAAAAAAeJBAAAAAAAB4ikAAAAAAAOm6QAAAAAAAeI5AAAAAAAC8ukAAAAAAAFiXQAAAAAAALJtAAAAAAAAfvUAAAAAAAC6kQAAAAAAAE7NAAAAAAAAWo0AAAAAAAH6oQAAAAAAA6b1AAAAAAACIikAAAAAAAAiRQAAAAAAAa7xAAAAAAADgjEAAAAAAAIeyQAAAAAAA/qFAAAAAAADQj0AAAAAAALiKQAAAAAAAEI5AAAAAAACOoUAAAAAAABa5QAAAAAAADK9AAAAAAAB4k0AAAAAAAJiMQAAAAAAAgI9AAAAAAACir0AAAAAAAESiQAAAAAAAnqdAAAAAAADUokAAAAAAALSaQAAAAAAAFKlAAAAAAADSqkAAAAAAAGyQQAAAAAAA+IlAAAAAAABwikAAAAAAAIu5QAAAAAAAXqdAAAAAAABslkAAAAAAAHiNQAAAAAAARKtAAAAAAAAMpkAAAAAAAJKlQAAAAAAA4IlAAAAAAADaoEAAAAAAAMieQAAAAAAAXKxAAAAAAAD4k0AAAAAAAMiJQAAAAAAAHJJAAAAAAABIi0AAAAAAAB2zQAAAAAAAII1AAAAAAADdskAAAAAAAOiMQAAAAAAAgItAAAAAAADkkUAAAAAAAPiPQAAAAAAAz7tAAAAAAABsokAAAAAAAFCKQAAAAAAAwIlAAAAAAABUokAAAAAAACiSQAAAAAAAertAAAAAAABIjEAAAAAAAHCJQAAAAAAA6rJA",
          "dtype": "f8"
         },
         "yaxis": "y6"
        },
        {
         "hoverlabel": {
          "font": {
           "size": 10
          }
         },
         "hovertemplate": "<b>LOWESS trendline</b><br><br>discount=High<br>Product=Carretera<br>price=%{x}<br>Quantity=%{y} <b>(trend)</b><extra></extra>",
         "legendgroup": "High",
         "marker": {
          "color": "#3366CC",
          "size": 7,
          "symbol": "circle"
         },
         "mode": "lines",
         "name": "High",
         "showlegend": false,
         "type": "scattergl",
         "x": {
          "bdata": "TPrWY8W29D943qAo+uP8P2TK79EBEv8/wRzZUp3RAkBBro9MnlYEQN6uaC4GyARAcWUhexzJBEAKCSpZ8lcFQCNXjqdjkQVApkAEFZh/BkCueXZWboMHQP/ASpixbQlACFx16IB6CUCIueagP50KQOCOViyQ9gtAwjta8MLDDECMFRke4kkNQE0HOPhNkA5AUMU/uww9D0D+7PsIOLIPQOi3ojISNxBA53mfb6GgEEA4OB0taFMRQGQCkdHQyRFAYF9PZgY6EkCKCqyuxKIUQOIQcp9yuBRALqFGq+j0FEBg5qnhUpcVQHfLAm0uGBZAAhthXRS8F0AhCwqMATEYQEttvVrfcBhAPsG481qiGEC9I/7vLNwYQEta0+ECURlACY7RpJqeGUC34BpYD6wZQO//gPxf6BlATpf+HjznGkAqKnA+b2kbQL6ag3J/8xtAw4ESBK4KHEDAQtmkeyMcQLd1gX56dRxA+BLc6k2WHEAsIOk3bJscQNguj5tbTx9AI0wwF5T9H0BmyiQpZSAgQG9duwQnOSBAcHjZkJFHIEB4cMIvJ1QgQG7gah8IjiBADUSlAFZlIUCJKzSjXdchQG7RnLjT6iFAxrM/B0f7IUDz4Dhd+H4iQINbyM8ljyJANH+tVLKvIkB7K7vRrrsiQPO52FibCCNA1S1oa/xMI0Dx+ENVIp0jQBjFHiRDqiNA2lvJ4v6wI0AYyUh0hc0jQIxv9EvfziNAxotwDA1NJEDGxFHQabAkQBkHOPIUwiRAsIVmcyUEJUAWVmuA1DIlQFR4ieWTaiVA+FzBG776JUAuvssh2fslQMaJKC7KCSZA2PIuAVKbJkARMLxxDfgmQMAm7UtOTidAqtvTRANXJ0C/3rdt4m8nQFJal1RnlCdAZoHULrDFJ0C4+H3CSdonQA2nrrmrRyhAsgm1Cri8KEC9SleU68goQMjesYPb3ChAZe2XMDryKEAqftFhivsoQKaLo7fPGClA/u5U4JKMKUAdqL7Y+Q8qQOh79njmVipA9iSl6txkKkCf8689aJQqQOLO3tYG0ypAFbPZXrfUKkCsqcF2wg8rQN/4826utStAFkZJhwvJK0DouvmJM0UsQP87oknh0SxARjf9x+/iLEC28gEqBOQsQNzOOFC4/SxAoUPpgcmTLUAQ277npsItQO4scdMfMS5ADtSUDbZrLkCudpZoipEuQHNAo3W1+C5Ajd/UmaIJL0BS/zpYaRcvQF34HzwSJC9AqSeUXzlhL0BPfAKbBNUvQJx70gE28i9A1xpCxfB4MEDeztX9Q6wwQMlzf21fATFAD1DUOWIhMUAGs9eO5XwxQCG66k+iyTFASsfX/rPsMUDQLi3CC/AxQJHHNfcBIjJA3QioH8lUMkC+66gzvZQyQDzUG73cszJA",
          "dtype": "f8"
         },
         "xaxis": "x6",
         "y": {
          "bdata": "6xGFYtlmoUAI18g/rjChQNGdf4GjIaFAx9Qe6+HyoEBz5XSZj9ygQEuZFO361aBAFgr6vOrVoEBszXSzlc2gQLTc8Zg4yqBA1X9t4DK8oEAxj8/rx6ygQBIb6R9vj6BAYYF9/qmOoEBOBk2YJ32gQHNlzqdKaKBAl9YObt9boEAINu71wFOgQDqN2wgEQKBAOd3ExJg1oEDZXJ3hiy6gQAyKzsFFI6BA0QxTq6kWoEDg6SVkeAGgQAfCv+sj559AU/fipwjNn0BsL8+A+0KfQGqSHBdTPp9AapXVomkxn0BZoQd6Sg+fQFqUcejD9J5AQEmA5begnkDH7k1FeomeQItzHWmwfJ5Abn1KEbRynkBOc4Ke6maeQMCNMHaLTp5A+IeoX8s9nkBjD9Pk1DqeQHwK3ENOLZ5AewkipIHwnUDXtsFb1OedQGCKzaNpwp1AhDGvLry7nUAZ7q2Rc7SdQM9xpClcn51A8Kz2IvmUnUCqKy0tVJOdQOz4pE/BMp1AINvnMV0xnUAZiEBB3iKdQLuA0bwILJ1AJmHor0smnUBR0ntbHyCdQDPr0CEYG51ACB92Ir9EnUB92XHN2WqdQK0S4Vw1aZ1A2WF9EN5snUBrOcJIuZudQMaOKQL2o51AQvRfd8OrnUAF5H2dNrOdQOpgTlva151AFLoKCxDwnUB+11Pq1RieQPYP77gOHp5AOikR8hwinkC1WL1z/DCeQDP3+dh6MZ5A3m3dHAhunkDj30GzIa2eQJTZ9lyIuJ5AVSW+JnHmnkCRDxfzLQmfQEuktYg/N59A5P5L4f2cn0BxBV5wCZ6fQLDOjAnxqZ9A+PgCUrLqn0DMAxQabgygQCCHiGz9FaBAlSEbgucWoEApInJJoB6gQO8nrkayIKBARgJ4Y7EgoEAIh56kaCCgQCkvjUngI6BAlu/Fz9c6oECdPZVpqT2gQGA5oKzFQqBA+rsahoxGoEAvNh7PQ0WgQLXf4Z/7QKBAPmYnCgYxoEDhyOXjch2gQBXs1vi5CqBAeTfDx/sGoEDJsVr6cvSfQIkiCAof059AEYbj3TrSn0CFhtb4a7OfQNoJzBm1YJ9AdqdNaGVXn0CMMmnW9ByfQLdXf7KH3J5AP+YaBszUnkDRWuHQTtSeQK3rnbqsyJ5A/HS+WeKEnkCaj1a5pW+eQMyEO0Q5PZ5AvbMZYTIinkB0K2CfnBCeQHOVpjEK4J1AKHvFo/rXnUBQs14IZtGdQBZvP+9Vy51AGvFXJ9WtnUCvqehC8HSdQFKbktVdZp1AypbRp6rinEBBHur3xKucQPhkL6lpTpxAVJWgEKEqnEAz4/mEgsKbQFMt6pZDaZtA3WRO4Pc/m0CJC31zBDybQGLzfd+0AJtAkhPOrwHEmkBg4bZYGneaQFLCltGPUZpA",
          "dtype": "f8"
         },
         "yaxis": "y6"
        },
        {
         "hoverlabel": {
          "font": {
           "size": 10
          }
         },
         "hovertemplate": "discount=High<br>Product=Montana<br>price=%{x}<br>Quantity=%{y}<extra></extra>",
         "legendgroup": "High",
         "marker": {
          "color": "#3366CC",
          "opacity": 0.5,
          "size": 7,
          "symbol": "circle"
         },
         "mode": "markers",
         "name": "High",
         "showlegend": false,
         "type": "scattergl",
         "x": {
          "bdata": "AAAAAAAA8D+amZmZmZn5P2ZmZmZmZvY/w/UoXI/C+T+4lG0gb6/yPwZrAd4q2PI/EM33bdkQ8z9U7kR3/eH4P3QtRa3WF/k/oNAjLbey+T8wz5V7ver6Pwx/jFfvUvw/jNbQ/fX3/j+MKSrzj9T/P4MAJs9ZBwFAfgJefl+pAkAXJsBtsAoDQB7n+jxcQARACsoYO32VBEAmYwj2dfQFQAbOjJx0OAdAiM5KbzNXB0DQ2avj4u0IQJgjWxbX7whAKO8+B7s1C0DgyD4GTRoMQCSwcUl8NQxAw0w5/oaFDEBndDECOs8NQAQUCQK72A1AslYGY3ErDkD0qkgNIN0OQKBuQ2/eXw9A4UBoqVKID0Cuc2c7hQgQQETKSsphCxBAe9NRKGfvEEByK78h9h8RQHZcZ1R1XhFA/wwN9rhiEUB40vGH6r4RQI9oABW22BFAuZUs5xDoEUDAeU0Jo/ERQCH/vus/FhJAbBuqUidaEkDGkO+Lsm8SQA7H+igYmRJABPgQkKKxEkC/MRKh0LoSQDYGqXOg8hJAeAlYz4gEE0BayI8JWQgTQH0oo5k6WBNAiR8jJ5OSE0Aw0KTVg5sTQBxWkheH0hNA/gLOTegIFEAQ6WVluZsUQNyd9srmrBRA+E9wc5ziFEAVzVb66BIVQCi2YrxJFRVA24PjOqQtFUDbpt4pz5AVQOuZExIPqBVA3pvPeAW+FUCELHZXoQoWQLFXlNjnNhZAZMrwlxSjFkCXHCkxCcMWQMZMsId12xZA65EYiycIF0DX7JhHhpwXQLZb9WmlnRdAXHic5Lq3F0B4QjF6VboXQGLkijaHERhAZ+7JUl8vGED8+/O3mEAZQKBUXMphVRlAemVg91poGUAvr8+GRbcZQPUUTNy10BlAXcbN3pz6GUCGY5JOPf0ZQOpE5Wx8MhpAdrIkHyk4GkDu6QWLpAUbQHNRjE8kUBtA5g0KVgNVG0DNE3GRnFkbQBC42aAueBtAmiXjFim/G0CewglPD28cQOHo7ynvsBxAAosuhfPgHEAS6AF3iewcQIBjSR+5Bh1Am9DzGZ0hHUDUpUu03KwdQC4CVbYCEB5AjO4JzmE1HkA08MLj/lceQCh/a5+zIh9ApvimBa1ZH0AlhLoxfp0fQDr5BVkg8CBAi44ekUhBIUAyWG6YWGohQOMaY9o0eiFARMUCQCL/IUB7H6dqW+kiQPCcBnA3/yJAmHjgSVErI0AAOvV21pojQA==",
          "dtype": "f8"
         },
         "xaxis": "x3",
         "y": {
          "bdata": "AAAAAADwlUAAAAAAAGG4QAAAAAAAHKFAAAAAAABAjEBzCzniuSKnQAAAAAAA4I1AAAAAAABAm0AAAAAAAOCVQAAAAAAARJBAAAAAAAA0sUAAAAAAAFuzQAAAAAAAQJ5AAAAAAADAi0AAAAAAAJm1QAAAAAAAg7lAAAAAAABEsUAAAAAAAFygQAAAAAAAgLlAAAAAAAA3uUAAAAAAAJCLQAAAAAAAkIxAb3kuwI6nokAAAAAAAICiQAAAAAAAcJpAAAAAAAAojEAAAAAAAJiMQAAAAAAArqxAAAAAAAD8nUAAAAAAAE6hQAAAAAAAKIxAAAAAAADOqUAAAAAAANO8QAAAAAAAXJBAAAAAAAAZsEAAAAAAAMSSQOd1TJAOoaBAAAAAAACYkUAAAAAAAHinQAAAAAAACJBAAAAAAAAAoUAAAAAAADe8QAAAAAAAkKdAAAAAAACQi0AAAAAAAIyQQAAAAAAAYIxAAAAAAACkkEAAAAAAAJiNQAAAAAAAUrtAAAAAAABQjUAAAAAAAPewQAAAAAAARJdAAAAAAAASp0AAAAAAADiPQAAAAAAAlJBAAAAAAABIjEAAAAAAAJCLQAAAAAAAkItAAAAAAACmpkAAAAAAACu/QAAAAAAAKKRAIlDj5XYnm0AAAAAAAGazQAAAAAAAaJxAAAAAAACWt0AAAAAAAHCOQAAAAAAAwJJAAAAAAAC4jEAAAAAAAGCNQAAAAAAA6JJAAAAAAACsr0AAAAAAACuzQAAAAAAAoI9AAAAAAAB0kkAAAAAAAHieQAAAAAAA0ItA9ucmBIEqo0AAAAAAANayQAAAAAAAMItAAAAAAAD+oEAAAAAAANCMQAAAAAAAmKBAAAAAAACYi0B9kZBjAHydQAAAAAAAkItAAAAAAAAQkEAAAAAAACiNQAAAAAAAQItAAAAAAACwqEAAAAAAAHicQAAAAAAAkItAAAAAAACojEAAAAAAAIiLQFuaCTztUJhAAAAAAABFsUAAAAAAABiPQAAAAAAAcI9AAAAAAADYi0AAAAAAAAyTQAAAAAAArqFAAAAAAAA4i0AAAAAAAAiUQAAAAAAAMItAAAAAAAAQjUAAAAAAAAScQAAAAAAACItAAAAAAABPuUAAAAAAAGCLQAAAAAAA9JNAAAAAAAC4kUAAAAAAAECUQAAAAAAAKItAAAAAAAC8u0AAAAAAALCLQAAAAAAACItAAAAAAABYjEAAAAAAAEySQA==",
          "dtype": "f8"
         },
         "yaxis": "y3"
        },
        {
         "hoverlabel": {
          "font": {
           "size": 10
          }
         },
         "hovertemplate": "<b>LOWESS trendline</b><br><br>discount=High<br>Product=Montana<br>price=%{x}<br>Quantity=%{y} <b>(trend)</b><extra></extra>",
         "legendgroup": "High",
         "marker": {
          "color": "#3366CC",
          "size": 7,
          "symbol": "circle"
         },
         "mode": "lines",
         "name": "High",
         "showlegend": false,
         "type": "scattergl",
         "x": {
          "bdata": "AAAAAAAA8D+4lG0gb6/yPwZrAd4q2PI/EM33bdkQ8z9mZmZmZmb2P1TuRHf94fg/dC1FrdYX+T+amZmZmZn5P6DQIy23svk/w/UoXI/C+T8wz5V7ver6Pwx/jFfvUvw/jNbQ/fX3/j+MKSrzj9T/P4MAJs9ZBwFAfgJefl+pAkAXJsBtsAoDQB7n+jxcQARACsoYO32VBEAmYwj2dfQFQAbOjJx0OAdAiM5KbzNXB0DQ2avj4u0IQJgjWxbX7whAKO8+B7s1C0DgyD4GTRoMQCSwcUl8NQxAw0w5/oaFDEBndDECOs8NQAQUCQK72A1AslYGY3ErDkD0qkgNIN0OQKBuQ2/eXw9A4UBoqVKID0Cuc2c7hQgQQETKSsphCxBAe9NRKGfvEEByK78h9h8RQHZcZ1R1XhFA/wwN9rhiEUB40vGH6r4RQI9oABW22BFAuZUs5xDoEUDAeU0Jo/ERQCH/vus/FhJAbBuqUidaEkDGkO+Lsm8SQA7H+igYmRJABPgQkKKxEkC/MRKh0LoSQDYGqXOg8hJAeAlYz4gEE0BayI8JWQgTQH0oo5k6WBNAiR8jJ5OSE0Aw0KTVg5sTQBxWkheH0hNA/gLOTegIFEAQ6WVluZsUQNyd9srmrBRA+E9wc5ziFEAVzVb66BIVQCi2YrxJFRVA24PjOqQtFUDbpt4pz5AVQOuZExIPqBVA3pvPeAW+FUCELHZXoQoWQLFXlNjnNhZAZMrwlxSjFkCXHCkxCcMWQMZMsId12xZA65EYiycIF0DX7JhHhpwXQLZb9WmlnRdAXHic5Lq3F0B4QjF6VboXQGLkijaHERhAZ+7JUl8vGED8+/O3mEAZQKBUXMphVRlAemVg91poGUAvr8+GRbcZQPUUTNy10BlAXcbN3pz6GUCGY5JOPf0ZQOpE5Wx8MhpAdrIkHyk4GkDu6QWLpAUbQHNRjE8kUBtA5g0KVgNVG0DNE3GRnFkbQBC42aAueBtAmiXjFim/G0CewglPD28cQOHo7ynvsBxAAosuhfPgHEAS6AF3iewcQIBjSR+5Bh1Am9DzGZ0hHUDUpUu03KwdQC4CVbYCEB5AjO4JzmE1HkA08MLj/lceQCh/a5+zIh9ApvimBa1ZH0AlhLoxfp0fQDr5BVkg8CBAi44ekUhBIUAyWG6YWGohQOMaY9o0eiFARMUCQCL/IUB7H6dqW+kiQPCcBnA3/yJAmHjgSVErI0AAOvV21pojQA==",
          "dtype": "f8"
         },
         "xaxis": "x3",
         "y": {
          "bdata": "47nzNGZXn0CivH/AHymfQMKsFt9QJp9AK/kpamUin0DthBN8vuWeQDjw2tHKtp5AqRV/JsCynkBGfSU/+aieQPu/21cTp55A3DVIk+ClnkCRErRwXI+eQIxw4Tu7c55AIXc+PzM/nkAFa91g8y2eQPS5Ab5EAZ5AzHNvBznAnUBqyNRwT7GdQBqD2Yu5gp1A8/mZoS12nUDtaYUS5kOdQP//g+owGJ1Ak+k59jkUnUCfi3nz2OOcQNyD94Gi45xA3kVnKj2hnED5mrKp82ScQPxk2EivXpxAh0P/uW9KnECBTH7cVM6bQBkZ/syryptA2PI18f2sm0CBYrulJ26bQD8OkgikO5tAiCvBoJgrm0BbSRAW/vqaQMb1iggZ+ZpA9O+bORtnmkBOvW2qkUuaQNJ/ZCqtJZpAnJZyLkwjmkAasHbcmvOZQGVqegN+5plAez+mKujemUC8U2NpR9qZQPjBZrjPyJlAhuQWuY6omUD6M9HlA56ZQMX2p415iZlAp2ifXNh8mUA2cASG4neZQJ0Bc14YWJlAtbF65RxPmUCzx7NtME2ZQG4SDoOZIplAwGc3jU4BmUA6+jtfhvuYQEfJUw7A1phAF3liC2S1mEBfkqNXDlSYQAumiiZwSJhAJkNdpzEqmEAtl6+04xCYQJjwKAlVD5hA7dJvPXP/l0BLCNy1r8GXQJwBHAystJdAo0+XQUWpl0ALj+NLSIGXQDkZbvYZapdAQi2A5Kgvl0Bi0GHylx+XQGeJtVRcFZdAZKo3OtkDl0C9qK33rrOWQHyRH4IHs5ZAkxQkccCjlkA1/1lEOKKWQHHQi3c9bpZAWxUj8CxclkBRlIBXX8KVQDf7rI4ht5VAHEaQSmitlUC9Q/VsNX6VQDx/MDGnbZVACiknTspSlUB2xausH1GVQKKjWhPuL5VA1rpIjmsslUCt7/TCTbKUQCEmkfLKhZRAIU3olr+ClEBrJLqz23+UQB9rwDogbZRA1JDEawFBlECWwtSD6dWTQFIjJIW2r5NAK9SoMpOUk0CdOKg3HY6TQMptjwugf5NAB3wJQeVwk0DUfnzUNSaTQNz5hJa68ZJA3pbIUPXdkkDf9F9jocuSQKszWqy3X5JAQ/cu1z5CkkBDmMEJxx2SQJGjOh4b5ZBA9HVQjROOkEBIf/OGRWKQQBPmpFNlUZBAPlGHP9aJj0DbXl+4RqONQBbQ6AFrdo1ARLkfxjQcjUCQbN7a7jmMQA==",
          "dtype": "f8"
         },
         "yaxis": "y3"
        },
        {
         "hoverlabel": {
          "font": {
           "size": 10
          }
         },
         "hovertemplate": "discount=High<br>Product=Paseo<br>price=%{x}<br>Quantity=%{y}<extra></extra>",
         "legendgroup": "High",
         "marker": {
          "color": "#3366CC",
          "opacity": 0.5,
          "size": 7,
          "symbol": "circle"
         },
         "mode": "markers",
         "name": "High",
         "showlegend": false,
         "type": "scattergl",
         "x": {
          "bdata": "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",
          "dtype": "f8"
         },
         "xaxis": "x4",
         "y": {
          "bdata": "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",
          "dtype": "f8"
         },
         "yaxis": "y4"
        },
        {
         "hoverlabel": {
          "font": {
           "size": 10
          }
         },
         "hovertemplate": "<b>LOWESS trendline</b><br><br>discount=High<br>Product=Paseo<br>price=%{x}<br>Quantity=%{y} <b>(trend)</b><extra></extra>",
         "legendgroup": "High",
         "marker": {
          "color": "#3366CC",
          "size": 7,
          "symbol": "circle"
         },
         "mode": "lines",
         "name": "High",
         "showlegend": false,
         "type": "scattergl",
         "x": {
          "bdata": "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",
          "dtype": "f8"
         },
         "xaxis": "x4",
         "y": {
          "bdata": "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",
          "dtype": "f8"
         },
         "yaxis": "y4"
        },
        {
         "hoverlabel": {
          "font": {
           "size": 10
          }
         },
         "hovertemplate": "discount=High<br>Product=Velo<br>price=%{x}<br>Quantity=%{y}<extra></extra>",
         "legendgroup": "High",
         "marker": {
          "color": "#3366CC",
          "opacity": 0.5,
          "size": 7,
          "symbol": "circle"
         },
         "mode": "markers",
         "name": "High",
         "showlegend": false,
         "type": "scattergl",
         "x": {
          "bdata": "opPEEpEENEAI+3EFOxE0QA5VqifxJzRAEonsF9pDNEDMpd6KY2k0QJRKJVh+6DRAguiHYoUGNUApNE+tkhI1QFAPw/7drDVAOhHnDh+0NUD61KGpVrY1QDRQzI7tyzVARm4cH1DoNUCrVTK2twI2QIK7Aj+ZDDZA2Nvi2AgmNkDS9QHGpUI2QPGFSdMBTDZAes99dPlpNkCU4dO5MG42QIYoxpJReDZAbGu8bnJ+NkCW9nclOYc2QG4+kXgzjDZAeqeWR6KMNkBwnxpP9Ks2QJmqNPdftjZAr0MTpU6/NkAjIVKvQcY2QNSZei4J0TZAY+Hisg/TNkCVvdPOpu82QBYihexh8TZAt5StUJf6NkCyg8xqAgE3QKtXPnYhgTdAsOAxY8qCN0CRsne8b4M3QGATi59SmjdA195ZfrqqN0A6ZCuXz603QHiA+nuyrzdABezxnnrFN0BbB8gaYMs3QCRe/39g1TdA7kMc0sriN0BqTaO03OM3QIsLPp519zdA/n6dWAEEOEBZVKpzCgQ4QDWnFg0OCDhAlKcsb1MSOECoH3gksSU4QF696okgLDhAQ/uFDGE4OEA/s1r4s0A4QAE4zkE1SDhAlJYaq0ZWOEBWWND2jXc4QOJ2iDvwezhAMOhzP12hOED3DmJbuao4QIqPcnTXwThAY0RGY4XpOEAYbRjuaus4QIUS7RJi9zhAZIghip78OED92Uagdgk5QF2hZJRbDjlAtDujzYcROUAO5RLTYyE5QE5b+lQtJTlAOiceUpolOUCv+gRuLzU5QCxSEN5INTlAfBgR6DE6OUDIrk6+vj85QE+rrbPdQDlAFm2iA/VQOUADf4tkllc5QDL3Q8pvcDlAHDv8+el1OUAAPJF40Xc5QEGSXszEezlA85GJfdJ+OUDQrkupNZ05QETohAzjqTlAVCqMXfO2OUAYd8g3zN05QEt4IicC3jlA5LHJSzjhOUD+rqnkT+M5QNSvgyGJ8DlAw5R0Hy70OUBQ915fmfo5QHK8krTA/DlA8Vg8AFwFOkAoXOyrbQk6QHMIJSx/CzpABvft4twbOkCKKXL7JiY6QAIBVgkPMzpAnOoENoo1OkBt9cAyHjg6QOIZtYYYOTpA+HFrIYBFOkATZNnIX006QKQTrKuWVjpAhuO0X6pYOkCkENz5PnE6QJIiMl5JiDpA7Jc9BGeIOkAUbJWNJok6QLwljLYKjzpAGz99zQCjOkDYmm5dlKc6QMzTytVpqDpA/EFUrf6rOkAgQBNaCcQ6QMJ4Qyye2TpAxc+hss/fOkA3tAaaV+A6QBBUBPMU8TpALIs8UwYxO0DqZmh27Ds7QB0ioxLeVztA4IwWRadjO0BnMMJacGY7QPPikSdiaztAJftyDXNrO0BINtwvj5Q7QCbFPnogsztAiRnM8La0O0DlufjNVuQ7QNwtgoNl/TtARDvqivouPED3HkGFpEM8QGttH4wVTzxAKBYYagtUPECa5M02llo8QH40Tu/6czxA0O3rQpyTPECttpqjqpc8QMoy19GxsjxA7Ec1MyezPEDVJSLHDOM8QFXUyEp59zxA5auNlosJPUCHcXJwMkw9QDUYwauVfz1A1i+LdQuaPUDY5jVEkJ49QA==",
          "dtype": "f8"
         },
         "xaxis": "x",
         "y": {
          "bdata": "AAAAAADQmkAAAAAAAGiiQJcs7BSUu5dADDur6Qdjl0BkU+KnInWWQAAAAAAAqIlA9q610msSo0AAAAAAACiJQAAAAAAAUIhAwDgbw66slEAAAAAAABijQAAAAAAAiIhAQmJnsHmDoUAAAAAAACCIQAAAAAAA+IpAAAAAAADEmUAAAAAAAHCYQAAAAAAA4JlAAAAAAAAQoUDjghYVacOcQAAAAAAAYI5AAAAAAABcnkAAAAAAAIKhQAAAAAAAbqFAAAAAAACgjkAAAAAAAGCUQAAAAAAA2JVAAAAAAABwikAmDA0/e8mgQAAAAAAAOJNAAAAAAABQiEAAAAAAAKiLQAAAAAAA8ItAAAAAAACuoUCQtjDO4E6gQAAAAAAAWIhAAAAAAAB4iEAAAAAAAMCIQPQoTYEWmp9AAAAAAADAjkAAAAAAAKiIQAAAAAAAXqNAAAAAAAAUlECgt6ovJCSfQH43G5bjdZJAAAAAAAAIi0AAAAAAAMCHQAAAAAAACIlAAAAAAACgiEA0rql5VGGgQAAAAAAAuIhAAAAAAACgiEAAAAAAAOCLQAAAAAAASIhAAAAAAAD+oEAaXrJAOBKRQAAAAAAAUIhAqEIz56QznkAAAAAAAEyYQAAAAAAA0JdAAAAAAADAjUA8t1nE7n6cQAAAAAAAQIxAAAAAAADAh0AAAAAAACCIQEUBsLYuEJxAAAAAAABomEAAAAAAAEiIQOrEVzBTSp9AAAAAAAAQlECb+VnJFQmQQCww3u1uapxAZiOvr3l+nEAAAAAAAEiPQP3Yy7qgLaFAAAAAAACwiEBoB+GnVcOOQAAAAAAAkIdAeGmNgE26mkAAAAAAAMiQQAAAAAAA8IdAAAAAAAC4h0AAAAAAAEiYQAAAAAAA2IpAoAieMeZhmkAAAAAAALiMQFUpdTL4OptABPuPCKkem0AAAAAAAJCHQAAAAAAA7J1AAAAAAAAgiEAAAAAAAOiPQK0f7ibfbplAAAAAAAAwiEAAAAAAAHiPQAAAAAAA1JVAorWB3yYhmUAAAAAAADSZQCJeiqbBEppAAAAAAABYikD60l/TyhGZQAAAAAAAqIlAAAAAAABaoUAAAAAAAOCeQAAAAAAACIhAYuYkg4KwmUAAAAAAAHKjQAAAAAAA8IdAAAAAAABuoEAAAAAAAPCHQAAAAAAAqI5Anrd6DvJyjEAAAAAAAHCQQDYooGD49opAfVwz48WDl0AAAAAAAMCHQMdD7uCWPoxALeVvoyfzl0AAAAAAAFCLQAAAAAAAxJ1AXdAFl952mEDMy30aqHCYQHptVZJUcIlAAAAAAACQlkD5lTgBbPShQAAAAAAAqIdAAAAAAADAkUAAAAAAAIiMQG702zs0bKJAAAAAAACgh0BDvoH+tU+VQCllH2H7fIdAP3Q/CncjiUAAAAAAAPSdQIwZIA216pRA0Ek99sMnlUDq0cpv9LCUQAAAAAAAUqNAAAAAAAAQkkAAAAAAACiJQAAAAAAAwIhAGPTqqboblEAAAAAAAHSaQAAAAAAAlJlAz1DBYufgkkAAAAAAAHiKQAAAAAAAoIdAAAAAAAAIlUAAAAAAAOCXQAAAAAAA3J5AAAAAAADIiUAAAAAAAGiHQA==",
          "dtype": "f8"
         },
         "yaxis": "y"
        },
        {
         "hoverlabel": {
          "font": {
           "size": 10
          }
         },
         "hovertemplate": "<b>LOWESS trendline</b><br><br>discount=High<br>Product=Velo<br>price=%{x}<br>Quantity=%{y} <b>(trend)</b><extra></extra>",
         "legendgroup": "High",
         "marker": {
          "color": "#3366CC",
          "size": 7,
          "symbol": "circle"
         },
         "mode": "lines",
         "name": "High",
         "showlegend": false,
         "type": "scattergl",
         "x": {
          "bdata": "opPEEpEENEAI+3EFOxE0QA5VqifxJzRAEonsF9pDNEDMpd6KY2k0QJRKJVh+6DRAguiHYoUGNUApNE+tkhI1QFAPw/7drDVAOhHnDh+0NUD61KGpVrY1QDRQzI7tyzVARm4cH1DoNUCrVTK2twI2QIK7Aj+ZDDZA2Nvi2AgmNkDS9QHGpUI2QPGFSdMBTDZAes99dPlpNkCU4dO5MG42QIYoxpJReDZAbGu8bnJ+NkCW9nclOYc2QG4+kXgzjDZAeqeWR6KMNkBwnxpP9Ks2QJmqNPdftjZAr0MTpU6/NkAjIVKvQcY2QNSZei4J0TZAY+Hisg/TNkCVvdPOpu82QBYihexh8TZAt5StUJf6NkCyg8xqAgE3QKtXPnYhgTdAsOAxY8qCN0CRsne8b4M3QGATi59SmjdA195ZfrqqN0A6ZCuXz603QHiA+nuyrzdABezxnnrFN0BbB8gaYMs3QCRe/39g1TdA7kMc0sriN0BqTaO03OM3QIsLPp519zdA/n6dWAEEOEBZVKpzCgQ4QDWnFg0OCDhAlKcsb1MSOECoH3gksSU4QF696okgLDhAQ/uFDGE4OEA/s1r4s0A4QAE4zkE1SDhAlJYaq0ZWOEBWWND2jXc4QOJ2iDvwezhAMOhzP12hOED3DmJbuao4QIqPcnTXwThAY0RGY4XpOEAYbRjuaus4QIUS7RJi9zhAZIghip78OED92Uagdgk5QF2hZJRbDjlAtDujzYcROUAO5RLTYyE5QE5b+lQtJTlAOiceUpolOUCv+gRuLzU5QCxSEN5INTlAfBgR6DE6OUDIrk6+vj85QE+rrbPdQDlAFm2iA/VQOUADf4tkllc5QDL3Q8pvcDlAHDv8+el1OUAAPJF40Xc5QEGSXszEezlA85GJfdJ+OUDQrkupNZ05QETohAzjqTlAVCqMXfO2OUAYd8g3zN05QEt4IicC3jlA5LHJSzjhOUD+rqnkT+M5QNSvgyGJ8DlAw5R0Hy70OUBQ915fmfo5QHK8krTA/DlA8Vg8AFwFOkAoXOyrbQk6QHMIJSx/CzpABvft4twbOkCKKXL7JiY6QAIBVgkPMzpAnOoENoo1OkBt9cAyHjg6QOIZtYYYOTpA+HFrIYBFOkATZNnIX006QKQTrKuWVjpAhuO0X6pYOkCkENz5PnE6QJIiMl5JiDpA7Jc9BGeIOkAUbJWNJok6QLwljLYKjzpAGz99zQCjOkDYmm5dlKc6QMzTytVpqDpA/EFUrf6rOkAgQBNaCcQ6QMJ4Qyye2TpAxc+hss/fOkA3tAaaV+A6QBBUBPMU8TpALIs8UwYxO0DqZmh27Ds7QB0ioxLeVztA4IwWRadjO0BnMMJacGY7QPPikSdiaztAJftyDXNrO0BINtwvj5Q7QCbFPnogsztAiRnM8La0O0DlufjNVuQ7QNwtgoNl/TtARDvqivouPED3HkGFpEM8QGttH4wVTzxAKBYYagtUPECa5M02llo8QH40Tu/6czxA0O3rQpyTPECttpqjqpc8QMoy19GxsjxA7Ec1MyezPEDVJSLHDOM8QFXUyEp59zxA5auNlosJPUCHcXJwMkw9QDUYwauVfz1A1i+LdQuaPUDY5jVEkJ49QA==",
          "dtype": "f8"
         },
         "xaxis": "x",
         "y": {
          "bdata": "Xt9WwtzAmUBWhLyQ+62ZQPmiDmAmjJlAjVaZaJNimUDPdPsRkSqZQDm1tx6taphAUXwb/Y88mECE83uo9CmYQML/W4fdNpdAWXOtCD4rl0C9jUPsryeXQGPPq+YDBZdAd1mY4lHXlkCJiIPKyqyWQHT3A1jknJZAjnioxBF0lkA8CUVaiEaWQAKzX53HN5ZAtf/ZuEIJlkDn3yOk0wKWQKUjgfaB85VAuEB4glfqlUAWVA77Xd2VQJueYhEY1pVAbK1h9nbVlUD1aYulcKmVQDh36e+Om5VAvL5wIASQlUAu7D8OSIeVQLD7NnsvepVAnLc0z8l3lUC7FUdOKViVQNQRqy9gVpVAweZBeRhNlUDGUSso0kaVQJT7EQMuwpRAK06qkh3AlEBnaA0BT7+UQLBoLqRho5RAZzXvBuiNlEDYEh6bsYuUQJocQ12TiZRAQiQoVKxqlECt2txBlmGUQMemLlOMUZRAIyjfD5w6lECWp3/vsziUQG4r1deYE5RAaQ24H8H7k0CYZ6DzvPuTQK4DfuL3+ZNATPAXfHrwk0BcwDjGOt2TQJzNl4+E0JNAkozKR5O2k0BOGxFHLKuTQCxthvuZm5NASfQf1DeVk0C4BwdqC2yTQG127Qz1Z5NAH4UJXWtvk0BWKyr/knGTQEK8ZTWafJNAMLe2YEGSk0A3TKmeMZOTQArtkEOvmJNAj+9sdjKbk0BC5JUt6KGTQK91R7O1pJNAOfumqrmmk0CaCezdg7CTQKOAZL9IspNAsnRuaHuyk0A2O/o70rmTQLQXEXbduZNAI6a25gK8k0DU3/UaY76TQOGbMUncvpNA7DeF3d7Jk0A9U7MR4MyTQAI72P3L1pNAUixJ7TTYk0DRi8LpqdiTQDe3+qeP2ZNA5l3s7nXbk0CmOB+cwOKTQKFsXkSa6ZNAcBllaifwk0D6WcxgB/2TQM6yXr8B/ZNANZMtVav8k0C9eDHSxvyTQEi2IW8q/ZNA3CHC4fr9k0DZrNMKJv6TQIYIv2mE/pNA6E851Oz+k0CfkAX+Wf6TQBkCdUkW/pNAhnhSZND8k0APfp8qi/yTQEcKc5tg/JNAu8rQ9EH8k0BZ0KY1JvyTQLgbV9Mc/JNAEgLMM8D7k0DbV5UctfuTQDQ0UbL6+5NAuesjnhf8k0D0lcuNk/2TQHLv+PL2/pNAXOEy7fn+k0CyKE/aDP+TQPBZOrCN/5NAHwrs3REAlEDa9cU6BwCUQE3+3FkEAJRAWwf1Iuj/k0AmrgqmB/6TQPCgf8FE/JNAhFPA6rL7k0CbrLnKpvuTQJIlGKsW+pNA2jnzUkHvk0CJqjk1quyTQB7kpSVl5ZNAG0Y2kx3ik0CxIaxiU+GTQLQcXlXp35NA8/Z0eeTfk0AqodfGr9OTQGxbmiFOypNAr1nEaNDJk0AViUbnEbuTQPNGfORns5NAljgHXpOkk0Cr/g5miZ6TQOMjSII6m5NAmnsOR82Zk0COzWov7ZeTQHbUvgi0kJNAyEAcG8+Hk0A3vPYlrYaTQMM85Tsrf5NAaZbEwAp/k0AHhn9/zXGTQMTWRHEfbJNAt99OaBBnk0BS/3LTK1STQC1EtJxcRZNA+vqPqpw9k0AehJxnRjyTQA==",
          "dtype": "f8"
         },
         "yaxis": "y"
        },
        {
         "hoverlabel": {
          "font": {
           "size": 10
          }
         },
         "hovertemplate": "discount=High<br>Product=VTT<br>price=%{x}<br>Quantity=%{y}<extra></extra>",
         "legendgroup": "High",
         "marker": {
          "color": "#3366CC",
          "opacity": 0.5,
          "size": 7,
          "symbol": "circle"
         },
         "mode": "markers",
         "name": "High",
         "showlegend": false,
         "type": "scattergl",
         "x": {
          "bdata": "s4QrGz0RGkAjiHJjvLYaQKNKINemiRlAIZVIh4HWGUDZ+jIRZigYQM5oYGr/tRtApSRljtYOGkBW7qa+MeUaQAZWMy2ReRpATL/fGjZbGkB+S4s8JSoZQHGJK6DSchhAqBd4wu9uGkBPuUYQcAwaQLHim7VaFBpAnMXVjnJVG0Du5HXFOMgbQKW+PQ2NvxtAkUBv2mCIGkC6XdYlh6kaQGuCWgpomhhA5jK7N/l3FUDW2Rv79lwXQPavb18eUhdAH+6VLdRRFECaQp+aIekXQK4IZIMG8hVA4QFNGqk1F0DEAEK+eA8XQNMi3kstSxRAXfm9/23WFkDAmAl/OAoWQKCOnFdWHxZAsqO1GcL+F0Cw+Drks68UQGafIb5u5hZA20lVFt96F0BXSckNxcMXQMfnrOHlnRZAqdz0Vc21FkCyZ41A9z4UQHV6qCitUBdAluML4/xKFEAK7ejtm98VQKjn0pjETBZAHnLg9X8KFkCasEVHSa4UQEo6c0LBWRZAcwlrZvYNFUAqTkXB/ysWQONc2ejWpBRAv7B6/cWWFEBB906a4FgXQBUKjBg5rBlAmgeNtzJ4F0BjF4TnWm8WQGRfBEg1WhdA9s3oLIeqGUCCDN0OuJ8WQO3S6COTiRZADp2jzNUIGEA38RB/dFkXQMr96T8WCRlAuW9WdN/1GUCdUF6mJoQYQDkMQCrUjxlA6BsnhlYPGkAfeFT5zdUWQNCmnkq5uBhA+aTpp1Q1GkCBcX1/WHoWQKSg9wnmuBZAkALVRoj2FkDweY7wjDEYQImSBnQjOhpAWFnfMka4FkAS83qAc28ZQPdQ86bYfBZACCA3XFT3GEBJuA1gvZcWQMHUZNRCIBlAoVFKed1zF0DXcfLT0acXQGGkOdy68hdAdIqaakL4GEAkpAnTnZEZQCcUyB/YZhhA61fH690BFECHm/VORi8UQDufsuljVxRA2CiYaNSmFUBaMPLNO8cVQNzVzW0U6xVAhaT5qTgAFkCqrma8a3EWQHxoJLLRsBZA1GEPelaaF0C4/muw+eoXQO9SBGaLVRhAXpOEjfJyGECtpMqeOoUYQCE+8o8SuhhAIT7yjxK6GEAy3NqoHtcYQFGRQ48SDRlAsbS8ZANCGUBveaMRJ3UZQLD8n3jV+RlAxrVuA8kEGkBUG7qm/ZQaQGw/2eTiZhtAob7kr5aBG0CamZmZmZkbQGm/DQ173RtA3tctWIkhHEBEcKfPrlkcQF9VRoVK1RxAGkolTWljHUD2Q/yhf5MdQJIFp1GJ4h1A7FG4HoXrHUDFuxVSpe0dQAAAAAAAAB5AFES6/skqH0B8lsEbtv8fQG4FIHMbIiBA7I0w6RYxIEDIxjA12UQgQOOrpH8NSiBA0O40wuQEIUCyK6MhPRIhQLHcaCpHhSFAZm1UTBmtIUCOQFLeiLQhQF1J9Jfr8yFAAAAAAAAAIkAmE+A/ix0iQOMZOIdBJSJAV+amLcKPIkCeRUjBDJYiQEWps7fWtCJAQs2JxTlII0B74W6EqlckQCPkEFoB+CRAWLyefYNQJUAekArv4P4lQPLCZT1J/yVAEXdNJLkZJkCWfX+iDkImQBgWGvkgnSZAAAAAAAAAJ0BmOjTzJjEnQDofp26TqihAoysjxE69KECjKyPETr0oQAAAAAAAACpA",
          "dtype": "f8"
         },
         "xaxis": "x2",
         "y": {
          "bdata": "AAAAAACwikAAAAAAALCCQFXWD7G66JhAAAAAAADYgUAAAAAAAKiDQNPhCvhm8phAAAAAAAAohkCcUxtFN8eYQAAAAAAAsI9AAAAAAACghkCl7dF5KwCZQAAAAAAAuIpAv4+RL7XDl0AAAAAAAMiBQAAAAAAA4JhAACus2JEMnEAAAAAAAESZQEooiD2m95ZAAAAAAACQh0AAAAAAALSaQNtIC03QgKBADT/MgY5Om0AAAAAAAJiBQAAAAAAAGINAAAAAAADgi0C3SxIbD0CZQAAAAAAAUJVAAAAAAABUnkDpGXxu8YCaQD3DLAuhFpxAOBKfh8I8mkBNFdiOSSibQAAAAAAAqIJAAAAAAABMkUAAAAAAAICDQAAAAAAAWINAXoJLrduJmkAAAAAAAKiWQAAAAAAAdJRAEgPv14lgmkB4SXjm5j6bQAAAAAAAcIVAAAAAAABogUAAAAAAALCKQAAAAAAAYI9AAAAAAACQg0AAAAAAAICCQAAAAAAA+I1Acs/dsQwym0A7qNvB2r+aQAAAAAAAjJJAAAAAAABwhEChSLWwA+aaQOwsMgEXvphATxQrDagCmUAAAAAAALiXQMD1SJLvaZpAAAAAAAAokkDeVPJ535KaQAAAAAAAyIJA2byQyaM2mUAAAAAAAHiDQPDDe/rJtp5AAAAAAACAjEAAAAAAAGCJQAAAAAAA8IJAAAAAAAD4jEAAAAAAALiLQAAAAAAAGIxAAAAAAAA4gkAAAAAAABiDQAAAAAAAAINAAAAAAADQgkAAAAAAANCGQAAAAAAAyIVAAAAAAABAhEDpy+EEeh2ZQAAAAAAAcIFAWClx3L7pl0AAAAAAAMiXQAAAAAAAEIJAsQVha97dmkAAAAAAAHiCQJP9aaWydJpAFliUPezVmUAAAAAAANiDQAAAAAAAGIpAAAAAAACwiUD9vzs0eB+cQAAAAAAAQJBAcxC4RQUom0AAAAAAANCDQEMzXmtHuZpAv1ql9we3mkAAAAAAAGiDQAAAAAAAOINAAAAAAADEkUBLHeFE8HuZQIhVBl9irZlAAAAAAABwhkBWXsopqTaaQAAAAAAA2INAAAAAAADQg0AAAAAAAFiVQAAAAAAA6IJAAAAAAACQgkAAAAAAAHSgQAAAAAAAqINAAAAAAAD4kUAAAAAAAECJQAAAAAAACJhATaBYuYTql0AAAAAAALCMQAAAAAAA0IJAj0HddsPTlkAAAAAAAECUQAAAAAAApKBAAAAAAADwg0AAAAAAAKCDQCT6UhAsmZNAAAAAAABAmEBj5MHodpCVQKCHoXx5zqBAAAAAAABIg0Canj6GQoeVQAAAAAAApJJAAAAAAAC4jkAAAAAAAPSYQHCXANmXAJRAAAAAAABwg0AAAAAAANCGQAAAAAAAKJZAAAAAAADAh0AAAAAAAAiDQAAAAAAAaINAAAAAAADIiUAAAAAAAAiMQL9uusLjFpNAAAAAAACQkUDyJ1A7XN6RQAAAAAAAZJpA+pc8G966kEAAAAAAAHCEQAAAAAAAUIJAYPHSUrRwjEAAAAAAAAyZQAAAAAAAIIdAAAAAAAC8mUAAAAAAADCMQAAAAAAA4IJAAAAAAAAInUCClhSTR6eIQB4IZgxuZ4dAAAAAAABwg0AAAAAAAEiDQAAAAAAAuIVA",
          "dtype": "f8"
         },
         "yaxis": "y2"
        },
        {
         "hoverlabel": {
          "font": {
           "size": 10
          }
         },
         "hovertemplate": "<b>LOWESS trendline</b><br><br>discount=High<br>Product=VTT<br>price=%{x}<br>Quantity=%{y} <b>(trend)</b><extra></extra>",
         "legendgroup": "High",
         "marker": {
          "color": "#3366CC",
          "size": 7,
          "symbol": "circle"
         },
         "mode": "lines",
         "name": "High",
         "showlegend": false,
         "type": "scattergl",
         "x": {
          "bdata": "61fH690BFECHm/VORi8UQLJnjUD3PhRAluML4/xKFEDTIt5LLUsUQB/ulS3UURRAO5+y6WNXFEC/sHr9xZYUQONc2ejWpBRAmrBFR0muFECw+Drks68UQHMJa2b2DRVA5jK7N/l3FUDYKJho1KYVQFow8s07xxVACu3o7ZvfFUDc1c1tFOsVQK4IZIMG8hVAhaT5qTgAFkDAmAl/OAoWQB5y4PV/ChZAoI6cV1YfFkAqTkXB/ysWQKjn0pjETBZASjpzQsFZFkBjF4TnWm8WQKquZrxrcRZAgXF9f1h6FkD3UPOm2HwWQO3S6COTiRZASbgNYL2XFkDH56zh5Z0WQIIM3Q64nxZAfGgkstGwFkCp3PRVzbUWQFhZ3zJGuBZApKD3Cea4FkAfeFT5zdUWQF35vf9t1hZAZp8hvm7mFkCQAtVGiPYWQMQAQr54DxdA4QFNGqk1F0B1eqgorVAXQPavb18eUhdAQfdOmuBYF0A38RB/dFkXQGRfBEg1WhdA1tkb+/ZcF0ChUUp53XMXQJoHjbcyeBdA20lVFt96F0DUYQ96VpoXQNdx8tPRpxdAV0nJDcXDF0CaQp+aIekXQLj+a7D56hdAYaQ53LryF0Cyo7UZwv4XQA6do8zVCBhA2foyEWYoGEDweY7wjDEYQO9SBGaLVRhAJxTIH9hmGEBxiSug0nIYQF6ThI3ychhAnVBepiaEGECtpMqeOoUYQGuCWgpomhhA0KaeSrm4GEAhPvKPEroYQCE+8o8SuhhAMtzaqB7XGEAIIDdcVPcYQHSKmmpC+BhAyv3pPxYJGUBRkUOPEg0ZQMHUZNRCIBlAfkuLPCUqGUCxtLxkA0IZQBLzeoBzbxlAb3mjESd1GUCjSiDXpokZQDkMQCrUjxlAJKQJ052RGUD2zegsh6oZQBUKjBg5rBlAIZVIh4HWGUC5b1Z03/UZQLD8n3jV+RlAxrVuA8kEGkBPuUYQcAwaQKUkZY7WDhpA6BsnhlYPGkCzhCsbPREaQLHim7VaFBpA+aTpp1Q1GkCJkgZ0IzoaQEy/3xo2WxpAqBd4wu9uGkAGVjMtkXkaQJFAb9pgiBpAVBu6pv2UGkC6XdYlh6kaQCOIcmO8thpAVu6mvjHlGkCcxdWOclUbQGw/2eTiZhtAob7kr5aBG0CamZmZmZkbQM5oYGr/tRtApb49DY2/G0Du5HXFOMgbQGm/DQ173RtA3tctWIkhHEBEcKfPrlkcQF9VRoVK1RxAGkolTWljHUD2Q/yhf5MdQJIFp1GJ4h1A7FG4HoXrHUDFuxVSpe0dQAAAAAAAAB5AFES6/skqH0B8lsEbtv8fQG4FIHMbIiBA7I0w6RYxIEDIxjA12UQgQOOrpH8NSiBA0O40wuQEIUCyK6MhPRIhQLHcaCpHhSFAZm1UTBmtIUCOQFLeiLQhQF1J9Jfr8yFAAAAAAAAAIkAmE+A/ix0iQOMZOIdBJSJAV+amLcKPIkCeRUjBDJYiQEWps7fWtCJAQs2JxTlII0B74W6EqlckQCPkEFoB+CRAWLyefYNQJUAekArv4P4lQPLCZT1J/yVAEXdNJLkZJkCWfX+iDkImQBgWGvkgnSZAAAAAAAAAJ0BmOjTzJjEnQDofp26TqihAoysjxE69KECjKyPETr0oQAAAAAAAACpA",
          "dtype": "f8"
         },
         "xaxis": "x2",
         "y": {
          "bdata": "IYijWES6kUBV+haWdcCRQPoqFiOgwpFAyjmHYEvEkUCIRxYcUsSRQJCP8R0/xZFAeXYTdwXGkUDnNKIl086RQCc91Y7A0JFAe6euwQnSkUCmdXT1OtKRQFEVjYDj3pFAYr2Ho+jtkUDfBAckH/WRQOQ8xx5Y+pFAGiJSOmL+kUCrBbPDUACSQHihW6x+AZJAh1AwRO0DkkBkFCnipwWSQOlLeki0BZJAL1FpCVcJkkBTnBogkAuSQEYVcCRTEZJADpEt25cTkkDalVktUReSQHW6yj2rF5JAGsyEkC0ZkkBwzvPsmBmSQCGj6tK0G5JAUR5hvv8dkkDj1YgQ+h6SQCm1PH9DH5JAZfjGu+YhkkAq458fpiKSQFhDAhcEI5JA9u1UtxsjkkBrDqg3LieSQNJRt45DJ5JAjUGD1lEpkkA/c/k5NyuSQJV8oXK7LZJAu/4K0jUwkkALG85X4i6SQFWnhRxlLpJA3HnDs/8skkDbjcxg+SySQBcrVc7wLJJAlUgWIM4skkCwBYc9gSiSQOLhHDfpJ5JAaEt8z38nkkAaHGJktReSQPHFOMTEDpJA3TT+aD/7kUCEzneWUuKRQLXja4Rv4ZFAsTpeya3ckUB/0sH0YdaRQB23juot0pFA7D55eSfCkUArRQ4Evb2RQFBhczEJrpFAujn9I2yokUD1w53S+aSRQFBOBhfxpJFAqgOJsYOekUDJTiDsKZ6RQCAKI2UBmZFAFHE281SSkUDIKn/aEJKRQMgqf9oQkpFAKzRwtaaNkUAysP3i14uRQAUShOWui5FAp0/oPLOLkUB5mRp3iIyRQAaXsLTqkZFApDxZc22VkUC1uHicO52RQLdOZ5UKrZFA8+3gAlSwkUAdKoDT97yRQHWCNl0BwZFAM0rtATHCkUAZpQZtOsuRQJvQeFpxzJFA+mVVIkTnkUAIHfzUl/aRQNT/P4Oq95FA1ze2xIv9kUAAA97AFwKSQKXCd4WBA5JABag9c8wDkkAWxOo06ASSQFaLJ+e1BpJAFaS8ToYZkkA7KVlwThySQEyRTv8cMJJAK7UgA4E8kkDelDsMV0OSQHY/iqYFTZJARlnuJ2RVkkAoa94yCWCSQEK4cqAhaZJABHco9xeHkkBrnu0n7cGSQPiYst0wy5JAft1/EMDZkkD4ZAq7neKSQGNsHsuG6pJAZeW2qsPskkB2M214pu6SQAusVarU8pJAuahF59P+kkBpVgRqeQyTQIvZt4IfEZNADE6fpUvtkkBKkzDNp8+SQCFtlL2PhZJAm22g2F18kkAvd2uBhXqSQHnw8yYEdpJAbs4yldSlkUBl/gXMXnGRQBzPmdlDY5FAkXM+3rVckUAgiZMY0FSRQD9Vuf9QUpFANdG7Lf7QkEC/xoxDkMaQQJs+dCTHipBA+WkDiMWBkEBK/YiymYCQQNL55IkaepBAnM4RLDJ5kECrRRc9+HaQQGswYH9bdpBAPqtFdn5lkEA0ltuZHmSQQEkCE5YeXJBA5ziLGscdkEBMF6bmDPaOQD6K56gyMI5At1k2kbXFjUD77QZPc/uMQHkouIH9+oxAoYwK+EHdjEAD94L8WrCMQLkM2YDDTIxA5Z9T5PTii0AHWgDCF6+LQHqCSsV4JYpAgaobw70RikCBqhvDvRGKQBZ1kiW+tYhA",
          "dtype": "f8"
         },
         "yaxis": "y2"
        },
        {
         "hoverlabel": {
          "font": {
           "size": 10
          }
         },
         "hovertemplate": "discount=Medium<br>Product=Amarilla<br>price=%{x}<br>Quantity=%{y}<extra></extra>",
         "legendgroup": "Medium",
         "marker": {
          "color": "#DC3912",
          "opacity": 0.5,
          "size": 7,
          "symbol": "circle"
         },
         "mode": "markers",
         "name": "Medium",
         "showlegend": true,
         "type": "scattergl",
         "x": {
          "bdata": "R/URg43pHECSyrdpwpEbQDfsHftPFhtAoRlJovXTHEAlOMgPeioeQBW+EjD4KRxAp4or/ZTkGkAxHI3onPcaQHjTYu8VJBxAhghQAcGWHEC1og7HUxgbQHQr6ZBh9hpAgXA9UfgZHED2P+KIZGAcQAwWagDdshlAdnvhC983FEC53/rcWB8WQNQaoPD2shdAocY9avscGEDH3teeNIwYQM6LW1dG3RhAf3hYMrOvGUC6hOlb7KYaQJh2OCHz+htAY/Izmsu9IECfwSEjKj0hQB6Ga4EOQyFAg3SRfgdFIUCEB7UhbmEhQHE2YDQWpyFAfFaBebFOIkAAh4RIcuEjQKGrRrlxKCRAgiiG5MdkJEBMrRmwapMkQCmfbwwtVyVAljOREpqdJUBwRhz2pWAmQGbwUbJvQCdAzB63t34+H0ALG1x5hvoeQAuThBEpAB5A47BcIBrmH0A9Qo+icYwcQASdwoFibB1ADS1PbNdsH0DoFF1xgKwcQDRzHz3/Jh1Ag26WjjupHUC2VktL6Z4dQIdt0ZIJax5AWjriySfnH0BCSosPU34aQNWEm5fZSyBAgQ1MiN3NIECAsgVjzwghQM5HuVhQyiFA3dlLZSPxIkBCDM9JN24jQHqKocmJhSNAtB+doHz2JECjCATaYC8mQJ4lyxEhnyZA1cQQWowcKUAF5A1KJbUjQIp/aJUl8CNAUxE5O5sXIkDwEfzdqfQjQPYUGE1FoSNApKNTpCGpIkBoOKcS5Y4iQMnw60ByPSJAqYwW92p7IkApARtjxDoiQFXjMyriNSNA7yW/BWwhI0DSVvkQGuYiQGkJGMjsSSJA8cTFXOzjIkDilyCGi7YjQC30LnYONR1A6U7gXcCmHUCojHxyeNIdQHLKROHy8x1Ag/+XZuTDIEBfTPCKe1IiQPbkiqpAaSJAWylx3orWIkDK+NOky+0iQIpBKZsyESNAMIeXE5krI0CbNZva8ikkQIX21UihlSRAC8pIsqAzJ0Bgn5J/3v8nQNTHQw+/OChAhSGQ9I45KEBQYRrwtyUpQJRx13RQkSpAiQCK3esmI0CYLJ+UID0kQB+Z8PjBxSNAinAJq0ShIkAqbeEMG5IlQNCrqNz+/iNA/0bsNbh9JED0+q75aU4kQJxLMX36oSVAPKrXfa5yI0BdqUNDe4skQD4qfNzztyNA5VcgcQSLI0CW+B6N7TQlQDLfV2Mg8CJAIZVMSDxdGEAQHKm/us8YQJ1JbLG0ExtA0TL7nTzNHkDC41TjW9ceQCdaSbFYHR9AYqnSE/I3H0AcGHBdKGogQAD137kq7SBA9sh0/r8UIUCUaolb83UhQE21rn7YjyJABOuVqFzbIkD56P8YQbEjQEKezMFzxiRAZS8a2mfMJkDaATq9EtMnQBdKNkd32SlAIVVC1nDlKUDl6u/R3PEpQPP8m8QuDytA6kFl2eFYLUA=",
          "dtype": "f8"
         },
         "xaxis": "x5",
         "y": {
          "bdata": "AAAAAAAIikALpbAm9+GhQJpdAT2kYaJAAAAAAACoj0AAAAAAAMCEQAAAAAAAeIZAfIecdL1WoUCOkzrYFCmjQAAAAAAAyIRAAAAAAACAhEB+lH6GM+agQFPh8FPiRJ5AAAAAAAAIh0AAAAAAANCFQBIkmo2jaaFAgGYJDx7DpUBXHVB6BMCmQK8lEWzhuqJADBOO4ZD7okConqKSVGyeQDT5wU4fMp5AuSOOre7GnkBnpPWVcwWhQHillj3O1qFAAAAAAADohUAAAAAAAGCFQAAAAAAAiIRAAAAAAACAhEAAAAAAANiIQAAAAAAA4IRAAAAAAAAIj0AAAAAAAICEQAAAAAAANJVAAAAAAADwiEAAAAAAAFiRQAAAAAAACJhAAAAAAAAsl0AAAAAAANiEQAAAAAAAJJJAAAAAAADwjkAAAAAAAMiEQAAAAAAAGIpAAAAAAABohEAAAAAAAHiEQAAAAAAAhJdAAAAAAAAElkAAAAAAAPCEQAAAAAAAKJNAAAAAAAA4jUAAAAAAAGyUQAAAAAAA0IVAAAAAAAAIjUBL1gN44jmkQAAAAAAAlJJAAAAAAADQk0AAAAAAADiFQAAAAAAAgI5AAAAAAAAAiEAAAAAAAKCJQAAAAAAABJdAAAAAAACYjEAAAAAAAKyTQAAAAAAAEJRAAAAAAABojkAAAAAAAAiTQAAAAAAAQIdAAAAAAABIhEAAAAAAACCKQAAAAAAAlJVAAAAAAABol0AAAAAAAJCHQAAAAAAAKI5AAAAAAABImUAAAAAAAPCOQAAAAAAAPJhAAAAAAACQhEAAAAAAAOCMQAAAAAAAjJJAAAAAAAB4iUAAAAAAAOCLQAAAAAAAqIZAAAAAAABQhEAAAAAAACCFQAAAAAAASIRAAAAAAABEk0AAAAAAALSSQAAAAAAAwJlAAAAAAAAkkEAAAAAAAJiEQAAAAAAAWI9AAAAAAACQl0AAAAAAAFCEQAAAAAAAwIRAAAAAAACoiEAAAAAAAKiHQAAAAAAAoI1AAAAAAACQiEAAAAAAAACQQAAAAAAAuJNAAAAAAADoh0AAAAAAADCJQAAAAAAAKIRAAAAAAAAohEAAAAAAABiNQAAAAAAAkIhAAAAAAABYhEAAAAAAAACYQAAAAAAAKIRAAAAAAAA4jkAAAAAAACiEQAAAAAAAEIVAAAAAAAC4hEAAAAAAAMCEQAAAAAAAUIVATq/UURCjpUBeEkx9Xa+kQIiaVASRQ5pAAAAAAAAQh0AAAAAAAFCEQAAAAAAAoJNAAAAAAADwjEAAAAAAACiEQAAAAAAAgIhAAAAAAAAohEAAAAAAAGCLQAAAAAAAmIZAAAAAAABAhEAAAAAAACCLQAAAAAAAaIxAAAAAAADwhEAAAAAAANCUQAAAAAAAGIVAAAAAAAA4hEAAAAAAADCEQAAAAAAAOIRAAAAAAAA4hEA=",
          "dtype": "f8"
         },
         "yaxis": "y5"
        },
        {
         "hoverlabel": {
          "font": {
           "size": 10
          }
         },
         "hovertemplate": "<b>LOWESS trendline</b><br><br>discount=Medium<br>Product=Amarilla<br>price=%{x}<br>Quantity=%{y} <b>(trend)</b><extra></extra>",
         "legendgroup": "Medium",
         "marker": {
          "color": "#DC3912",
          "size": 7,
          "symbol": "circle"
         },
         "mode": "lines",
         "name": "Medium",
         "showlegend": false,
         "type": "scattergl",
         "x": {
          "bdata": "dnvhC983FEC53/rcWB8WQNQaoPD2shdAocY9avscGEAhlUxIPF0YQMfe1540jBhAEBypv7rPGEDOi1tXRt0YQH94WDKzrxlADBZqAN2yGUBCSosPU34aQLqE6VvsphpAp4or/ZTkGkB0K+mQYfYaQDEcjeic9xpAnUlssbQTG0A37B37TxYbQLWiDsdTGBtAksq3acKRG0CYdjgh8/obQIFwPVH4GRxAeNNi7xUkHEAVvhIw+CkcQPY/4ohkYBxAPUKPonGMHECGCFABwZYcQOgUXXGArBxAoRlJovXTHEBH9RGDjekcQDRzHz3/Jh1ALfQudg41HUAEncKBYmwdQLZWS0vpnh1A6U7gXcCmHUCDbpaOO6kdQKiMfHJ40h1AcspE4fLzHUALk4QRKQAeQCU4yA96Kh5Ah23RkglrHkDRMvudPM0eQMLjVONb1x5ACxtceYb6HkAnWkmxWB0fQGKp0hPyNx9AzB63t34+H0ANLU9s12wfQOOwXCAa5h9AWjriySfnH0DVhJuX2UsgQBwYcF0oaiBAY/Izmsu9IECD/5dm5MMgQIENTIjdzSBAAPXfuSrtIECAsgVjzwghQPbIdP6/FCFAn8EhIyo9IUAehmuBDkMhQIN0kX4HRSFAhAe1IW5hIUCUaolb83UhQHE2YDQWpyFAzke5WFDKIUBTETk7mxciQCkBG2PEOiJAyfDrQHI9IkBpCRjI7EkiQHxWgXmxTiJAX0zwintSIkD25IqqQGkiQKmMFvdqeyJAaDinEuWOIkBNta5+2I8iQIpwCatEoSJApKNTpCGpIkBbKXHeitYiQATrlahc2yJA8cTFXOzjIkDSVvkQGuYiQMr406TL7SJAMt9XYyDwIkDd2UtlI/EiQIpBKZsyESNA7yW/BWwhI0CJAIrd6yYjQDCHlxOZKyNAVeMzKuI1I0BCDM9JN24jQDyq132uciNAeoqhyYmFI0DlVyBxBIsjQPYUGE1FoSNA+ej/GEGxI0AF5A1KJbUjQOKXIIaLtiNAPip83PO3I0AfmfD4wcUjQACHhEhy4SNAin9olSXwI0DwEfzdqfQjQNCrqNz+/iNAoatGuXEoJECbNZva8ikkQJgsn5QgPSRA9Pqu+WlOJECCKIbkx2QkQP9G7DW4fSRAXalDQ3uLJEBMrRmwapMkQIX21UihlSRAQp7MwXPGJEC0H52gfPYkQJb4Ho3tNCVAKZ9vDC1XJUAqbeEMG5IlQJYzkRKanSVAnEsxffqhJUCjCATaYC8mQHBGHPalYCZAniXLESGfJkBlLxraZ8wmQAvKSLKgMydAZvBRsm9AJ0DaATq9EtMnQGCfkn/e/ydA1MdDD784KECFIZD0jjkoQNXEEFqMHClAUGEa8LclKUAXSjZHd9kpQCFVQtZw5SlA5erv0dzxKUCUcdd0UJEqQPP8m8QuDytA6kFl2eFYLUA=",
          "dtype": "f8"
         },
         "xaxis": "x5",
         "y": {
          "bdata": "4RNezn53p0AppW2eioWkQLZ4LBEBJKJA5gJN+CKHoUArr8Cm2SihQBBiwKBS5KBAmKUrxWqCoEC0gnmv3W6gQOncIU9Chp5AGyFRh119nkCiU1zsBUmcQOf3KHpC2ptArVhzVDozm0DFYnCdRgObQAQGsy72/5pA4qCDrYe0mkDf/QW7i62aQNSx9iAmqJpA9X4RhoNlmUB+PsXH2VGYQDQkMCInAZhAW5mFC+Tml0Azd72PoNeXQGnMeVzXSpdAx/ieamXZlkDLKyrY6L6WQNJSEtkeh5ZAY1KlyzAilkBwVQpxH+uVQN7rUbUhT5VAxQcpyJgrlUAhjpCtX6CUQAzclRRHMpRA5bsMbJAhlEDsR4VPexuUQEVrcTSjtpNALVn8giNlk0ANb2J1gEeTQN/K1xc54ZJABGhSJ51GkkDtodgHUGeRQLu0Y/zOT5FAEoZIZ9z+kEDPQbJKLrCQQP58D31pdZBAkYsCuiZnkEBvnLjpbBKQQMS4+WpSvI5AVoZ0h5C4jkBb2gdFCseMQIfiGCK0n4xAuIolRNj1i0BSjyqNnvmLQGKjuK7E/otA10WNRJsCjECGRXRZhgqMQHrt2BDmBoxA3XyFD0ECjEClUDSE+gCMQONEJALaAIxAhckpB0oEjEB5A43UBgmMQChH9M4VDYxAxboSLvUOjECWVkq0dRSMQAQYuC/jGIxAGcBKbEYZjEDq2JBBNRuMQEqDv4cBHIxAN+8tbaIcjECwe9h6DyCMQCTTocwKJIxATgnyJPsojEBYCHPyPymMQOH2GSgOLoxAjrqL1MsvjEC8o+g2sT6MQO0TN3auQIxA9KnE9lBEjEBhsbmcQkWMQO/cl0WmSIxA+VKXO7FJjEDwZlynJUqMQIbrGrnDWIxA8e9ULptgjEB3QUxKSWOMQPiizW6SZYxAOgniiJ1qjEAcyK+ezoWMQJbTxhAMiIxAi/zp9D2RjEDzJr7lD5SMQKxgDk9Zn4xAsF6pWYynjEBES2a+lqmMQMeQHitSqoxA4bqVaQ6rjEB9OaDCL7KMQOFAY1vLv4xAeuiv0YjGjEDoEbs1iMiMQAOJSKb4zIxAuhBtzXzejEAbjqt2F9+MQGQDGE1R54xAfC6iveztjECSZejx2/SMQFwEg4T0+4xAvT1/wqn/jEBr17liwAGNQNreMx5UAo1AC7bV0ZcPjUAj19FrNhWNQAWK1fMzDY1A096qqoUCjUAbWRAQGOuMQACpdGYS5oxAAJOtsiHkjEC+ktSraKOMQMpqkzIWjoxA4meQw1R2jEB1fZriN2OMQCNyfs8xMoxAD9p5spgrjECFW684t9uLQBOddyugwotAxQ9adcCii0B86eQbTKKLQAPN2Ne8JItAmbprY7kfi0B0/yPEb72KQJnPvbXWtopAOuMsbfuvikAhNDNC5FaKQOxZbYchD4pAmk/0gGWliEA=",
          "dtype": "f8"
         },
         "yaxis": "y5"
        },
        {
         "hoverlabel": {
          "font": {
           "size": 10
          }
         },
         "hovertemplate": "discount=Medium<br>Product=Carretera<br>price=%{x}<br>Quantity=%{y}<extra></extra>",
         "legendgroup": "Medium",
         "marker": {
          "color": "#DC3912",
          "opacity": 0.5,
          "size": 7,
          "symbol": "circle"
         },
         "mode": "markers",
         "name": "Medium",
         "showlegend": false,
         "type": "scattergl",
         "x": {
          "bdata": "gRQRSmQbH0DneO6PYvEgQJZJIo7tdiJApPLarysXI0CSh61GEkQjQAVq60uJeyNA2KyN0VruI0DPilBSyQUkQHw1jlIvmSRAUfGh9ggYJUCLEIFHpi0mQLWF+cYhuCZAVbf00m8TJ0AADyU9djwnQEzziGoYWidAr2RBIm6aJ0DOGx9EncEnQBkFjIC3yydAKCIkF72PKEBEZsY31K4oQEvKNVCl9ihAYWm25mYeKUADVpvGUCYpQDIi0L6FPylA+I6ToQxKKUBsMbfh95EpQExhu0ihuylAElw3uccfKkBLkU8kpikqQGavBLBHNCpARA/wZZpBKkBFr2vv0kIqQNOeGFgZgCpAgQPnZ9OkKkDOZMSeYLEqQFnvq6B65ypAQj/kUoUaK0CQPwCwdSYrQOVLTgPAXitAEo3O5tV9K0CKfkXMn5ErQOSCMZdlkytAmuDnKszXK0Au1A4vT/ErQBC8Mxw1VSxAQgahs6+cLEA+UhLjY7MsQM76OrGvzCxA9psez5F/LUASjguekostQH8/nffv2C1AaRzicS49LkDaO2Ay4kouQCmnTENzZS5AkJ1YFburLkCqMRpyVcUuQIAoKpTlzi5AXscwEBzPLkDyIz1s/JovQMq6MNGW1S9AhgcvfC3fL0DND1uRh+IvQOBCH0rl5C9AxqHsbLkJMEDHlClLOikwQO3+wqsyLDBALqAyfBsvMECeUtHy+U0wQGq+Q1KBazBAAlwDYeiCMED4oBZSOo8wQInoTsVAmDBAhP9K5bWnMECeY32dPqkwQCYzQ2l0qzBAmpmoalHWMEBCp8OI69kwQFKLbLFB2jBAVhfDmtzlMEB6jcV6PhMxQBc3Y1SdSDFAseWwymNJMUCSjATmCFExQE2TIEgfUzFA0zMJg1NWMUAhoCJ4P44xQFlq0+JNmTFAacgBqXGgMUC82kmgPsAxQFeH0SNj1jFAvrOmY1fqMUBXuUzCHf4xQGxn9dSoATJAYHZTJtsSMkAShLsKu00yQPRhSDIvbDJAANmn5+9vMkAwEuMuaNkyQJXbZ4+08DJA79tdALtHM0Au0iBihn8zQKLiLigkizNA8h2uroHRM0CUWS41vv0zQPSzfTCSATRAuwQ6rF1ZNEDDdWgwG3E0QPxa4pptoDRApUg91uGhNEB7KMhWar40QNmsTozx3DRAzDawc+78NEC8WYqWRzk1QCr0hdNTRDVAMkHzY/FLNUABeiz1U2U1QHmROKTuFjZAWMgWm0FCN0CLVr5XAeY3QDClyozBlzhA",
          "dtype": "f8"
         },
         "xaxis": "x6",
         "y": {
          "bdata": "AAAAAAB8lUAAAAAAAAiHQAAAAAAAkINAAAAAAAC8mEAAAAAAABiEQAAAAAAAUIVAAAAAAADkmEAAAAAAALCDQAAAAAAAUIRAAAAAAADImEAAAAAAAICFQAAAAAAAgINAAAAAAACYg0AAAAAAADCHQAAAAAAAiJJAAAAAAAAQhkAAAAAAALiUQAAAAAAAuINAAAAAAAAQiEAAAAAAALyXQAAAAAAAaIhAAAAAAACohUAAAAAAAHCDQAAAAAAASItAAAAAAAA4hEAAAAAAADCNQAAAAAAACIZAAAAAAAAslkAAAAAAAMyRQAAAAAAAGIZAAAAAAABoiUAAAAAAAGiSQAAAAAAAwIhAAAAAAAAog0AAAAAAAJiGQAAAAAAAMI9AAAAAAABwkkAAAAAAAMCDQAAAAAAA2INAAAAAAADQh0AAAAAAALiHQAAAAAAAGIVAAAAAAABwjEAAAAAAAOSXQAAAAAAA9JBAAAAAAACQjEAAAAAAAHiVQAAAAAAA2INAAAAAAABgg0AAAAAAAKCEQAAAAAAAKJJAAAAAAAA4g0AAAAAAACCWQAAAAAAAqJFAAAAAAACQg0AAAAAAAKCPQAAAAAAA8IxAAAAAAAAkmEAAAAAAAMiQQAAAAAAAkINAAAAAAADog0AAAAAAAGCDQAAAAAAAeIRAAAAAAAAAhUAAAAAAAGCHQAAAAAAAsIRAAAAAAAAYg0AAAAAAABiDQAAAAAAAzJFAAAAAAACYh0AAAAAAALCOQAAAAAAAoINAAAAAAAAYg0AAAAAAAACEQAAAAAAADJZAAAAAAACQjEAAAAAAANSSQAAAAAAAEJBAAAAAAADAg0AAAAAAAFCDQAAAAAAAGItAAAAAAABgg0AAAAAAACSRQAAAAAAAgIhAAAAAAABQhkAAAAAAABiDQAAAAAAAuIlAAAAAAABwikAAAAAAAECNQAAAAAAAYINAAAAAAABwjkAAAAAAAMiEQAAAAAAA4INAAAAAAAC8l0AAAAAAAByQQAAAAAAA4IRAAAAAAABYg0AAAAAAAFiFQAAAAAAAKINAAAAAAACIg0AAAAAAABiFQAAAAAAAoINAAAAAAACckkAAAAAAAHiIQAAAAAAAgINAAAAAAAAYg0AAAAAAAMiDQAAAAAAAUIVAAAAAAAAAiUAAAAAAAICOQAAAAAAA0IxAAAAAAACQlkAAAAAAAJiDQAAAAAAAbJVAAAAAAACgi0AAAAAAAFiDQAAAAAAAMINAAAAAAADAikAAAAAAALCEQAAAAAAA6JJA",
          "dtype": "f8"
         },
         "yaxis": "y6"
        },
        {
         "hoverlabel": {
          "font": {
           "size": 10
          }
         },
         "hovertemplate": "<b>LOWESS trendline</b><br><br>discount=Medium<br>Product=Carretera<br>price=%{x}<br>Quantity=%{y} <b>(trend)</b><extra></extra>",
         "legendgroup": "Medium",
         "marker": {
          "color": "#DC3912",
          "size": 7,
          "symbol": "circle"
         },
         "mode": "lines",
         "name": "Medium",
         "showlegend": false,
         "type": "scattergl",
         "x": {
          "bdata": "gRQRSmQbH0DneO6PYvEgQJZJIo7tdiJApPLarysXI0CSh61GEkQjQAVq60uJeyNA2KyN0VruI0DPilBSyQUkQHw1jlIvmSRAUfGh9ggYJUCLEIFHpi0mQLWF+cYhuCZAVbf00m8TJ0AADyU9djwnQEzziGoYWidAr2RBIm6aJ0DOGx9EncEnQBkFjIC3yydAKCIkF72PKEBEZsY31K4oQEvKNVCl9ihAYWm25mYeKUADVpvGUCYpQDIi0L6FPylA+I6ToQxKKUBsMbfh95EpQExhu0ihuylAElw3uccfKkBLkU8kpikqQGavBLBHNCpARA/wZZpBKkBFr2vv0kIqQNOeGFgZgCpAgQPnZ9OkKkDOZMSeYLEqQFnvq6B65ypAQj/kUoUaK0CQPwCwdSYrQOVLTgPAXitAEo3O5tV9K0CKfkXMn5ErQOSCMZdlkytAmuDnKszXK0Au1A4vT/ErQBC8Mxw1VSxAQgahs6+cLEA+UhLjY7MsQM76OrGvzCxA9psez5F/LUASjguekostQH8/nffv2C1AaRzicS49LkDaO2Ay4kouQCmnTENzZS5AkJ1YFburLkCqMRpyVcUuQIAoKpTlzi5AXscwEBzPLkDyIz1s/JovQMq6MNGW1S9AhgcvfC3fL0DND1uRh+IvQOBCH0rl5C9AxqHsbLkJMEDHlClLOikwQO3+wqsyLDBALqAyfBsvMECeUtHy+U0wQGq+Q1KBazBAAlwDYeiCMED4oBZSOo8wQInoTsVAmDBAhP9K5bWnMECeY32dPqkwQCYzQ2l0qzBAmpmoalHWMEBCp8OI69kwQFKLbLFB2jBAVhfDmtzlMEB6jcV6PhMxQBc3Y1SdSDFAseWwymNJMUCSjATmCFExQE2TIEgfUzFA0zMJg1NWMUAhoCJ4P44xQFlq0+JNmTFAacgBqXGgMUC82kmgPsAxQFeH0SNj1jFAvrOmY1fqMUBXuUzCHf4xQGxn9dSoATJAYHZTJtsSMkAShLsKu00yQPRhSDIvbDJAANmn5+9vMkAwEuMuaNkyQJXbZ4+08DJA79tdALtHM0Au0iBihn8zQKLiLigkizNA8h2uroHRM0CUWS41vv0zQPSzfTCSATRAuwQ6rF1ZNEDDdWgwG3E0QPxa4pptoDRApUg91uGhNEB7KMhWar40QNmsTozx3DRAzDawc+78NEC8WYqWRzk1QCr0hdNTRDVAMkHzY/FLNUABeiz1U2U1QHmROKTuFjZAWMgWm0FCN0CLVr5XAeY3QDClyozBlzhA",
          "dtype": "f8"
         },
         "xaxis": "x6",
         "y": {
          "bdata": "f+wVHH8LiUAjtB7C6hGJQONO+2WmIYlABSnIWFUoiUANLl4XGCqJQDdfPKkqLIlA1yH2RQcwiUAf/VWsvTCJQOYjaK6XNIlAyzdP8xs3iUBDLGvfDDyJQJEmNbJ/QIlA+CR7TtFFiUAMfn9YPEmJQAV6DYA6TIlA2Q7Xp5hUiUD+hd9+MVuJQJy8irYaXYlASgVI6WaViUDSxsmP9KCJQFzsLqQluYlAF/+lSOzGiUBiq1Reo8mJQPpVBvQ30olALwFZ68TViUCp1pIiouyJQOvSp83+8olAjqnejaQNikCrFf/zNBCKQGHVPVnvEopASUvgpE0WikCaimLvmxaKQLL0KPheJYpAoW2DwYUtikClzss3SDCKQFEve7UDOYpA5cKA1GJAikAp3o6qXUKKQF6HX+vLRIpAJWkP8x4+ikAjcbEtlD2KQMU8x7QvPYpAPScqKkRAikAfFFMHwz+KQLN0sIe3OopA/dcbmnc7ikDelkya9zqKQJ/3yxH5OYpA9ymHqdgfikDPNPhzHB2KQGMkbbU8EopAwjg12jH8iUAJYXWyuviJQHsNp0BU9YlAOBkP1NLtiUAwaKNts+iJQBDI4O8/5olAwqMYCTLmiUAgPBSgFbSJQEoozHsgo4lAKSIvrBWgiUDQg5F++p6JQAZknnYxnolA3hp6UkSOiUCUBLQGCneJQEJv0zGZdIlAD4jF6S1yiUD6bZkhh1eJQGKT7oTUQIlAdKSoMrMqiUCiVieTlR6JQEF5KYXEFYlAZkhoPBIIiUC4GeKktgaJQP2Rr/+9BIlAt/JmFbnbiEB8wY1TTtiIQJv1l8T814hAyFgN0PHMiECqxbq1e6KIQO4ZCDI4d4hAFxRWGKB2iEB91YZZOHGIQIB/1ClWb4hAe071VXRsiEBiek8df0yIQKWZduh9SohAwfeFca9JiECuLrPHqEmIQJ2ZNUoGS4hAj4M7aJtFiEB2waVjMEmIQOSN9fDVSYhAwwDDOuFMiEClpbMvw1SIQGJMOjXyVohALRFXwyBXiEBwUSL3RFaIQE+tAYhIVohAWfXUJ41TiEDQxkJsN1OIQD5Z8/3kU4hAugGRF/tdiEATRPNiymiIQJJRcCTaaYhAyOSoMw+GiEBy72+0mI6IQE6LT9dRoIhAllpeXeCgiEBCKxsX7KuIQOB28ZX2t4hAxI6Ci8fEiEA9xsYLW92IQOKbK8Xk4YhAACKR7AbliEB0KYYZf++IQMKLrxoROYlAfWsu7cG2iUB8S1QHNf+JQIABwlQPU4pA",
          "dtype": "f8"
         },
         "yaxis": "y6"
        },
        {
         "hoverlabel": {
          "font": {
           "size": 10
          }
         },
         "hovertemplate": "discount=Medium<br>Product=Montana<br>price=%{x}<br>Quantity=%{y}<extra></extra>",
         "legendgroup": "Medium",
         "marker": {
          "color": "#DC3912",
          "opacity": 0.5,
          "size": 7,
          "symbol": "circle"
         },
         "mode": "markers",
         "name": "Medium",
         "showlegend": false,
         "type": "scattergl",
         "x": {
          "bdata": "eZ3Ygh/I8T/+6/jevOP7P1hD+wwivfw/CdGoaPuNAUBybeevrmQCQGTf/2h0dgJA+EILx6iUA0BxbarrGR8FQN8b3sDrSgVAlGqUclyuB0BSQi0O9QgIQOLJp0oifwlAI7ZA0rpaCkCbuNwyIKYLQKSHxjYRPw9A9ssjPzBKEEAXO+6hal8QQG6QtCbn/RBAuuEmkk9WEUDnEsN9KG4RQBr5DfYLrRFA8t0zcAcHEkA7P/mWCBsSQH/0DfnUVxJAsMXCKfi8EkAOBwuYEAoTQFvZh7HHaRNA/fFbgIT0E0ByjcV+dVYUQEB4G3ByChVAj7GCgHWFFUD554miyYgVQHQTzegY6BVAuA9iLQFpFkDivoFw6bgWQB4U6rjAixdA7EwWj5nOF0BrsfztVO0XQG62Cp31ORhABExzJoDwGEDJFpg/4sIZQLR7XPug2BlARhsf5xsxGkAArI9i4TwaQP0iS3Lp3RpAxCh6JZhuG0ATaVeD5uEbQCwR9AVc/htAvNsEpz4fHECm3J9YKFkcQIq7csB9cRxAmUhSdwaiHED0bGRqtfMcQJBjamTLZR1AvFNDLPwSHkDbXOuezhceQIhLUXHuJB5AAq+rp/FcHkBUSLm/2Z8eQHzbhggMHR9A4JkMDN63H0BQUqiVq8EfQIV5sodU/x9Atfvd8WIFIECS1wqZgwUgQOQkTk7eJSBAkNROK3cmIECrPLM0GjEgQABexXi8OCBA4dTY5/NcIECv6vXHe5MgQLr5Avm+wiBAM9S8xdzzIECBF4Z2yxshQGq+oy2nYCFA9P0lMZ1vIUB+rHLrtJwhQNqR9g7BpSFAGF80mvO1IUAcEKR46L8hQDA1WYatwSFAUuPlm0jMIUAoLltohN0hQMRmaThk7CFAtDP/n/H5IUCJ6Rdf4gUiQHKq2CF3HiJAwMzJwQBJIkCqWdk6ZqYiQNh2DTpG8CJA1pC+4X0nI0CTgo0pFzAjQD63ZXQMVyNAz0haJ9dXI0CYEDF2Fd0jQDSq+xsN+SNAugUAd8sKJEAPpAx62ykkQOKaOT05hCRAnSnwLNWPJEAOP9cQr24lQGpJ7ibb0yVADDOCMvMyJkAUeVCXzpQmQEzAmr9ymSZAfyluqE/OJkCzHZG/wPsmQI/eMnb4MSdA+gJmbweWJ0Bd5weOILYnQHALrkIHlihAPGP9/TyiKECaxgWtjLcoQKTvm/lPAilAVmkhb3VHKUDiOlGCsKgpQL5atVY3PypASIHqC4KUKkDKYQwOm9cqQKZ8ggG4FStA6/lmjhwdK0AMUO6jokYrQBz+zJcnpStALdpscQziLEBRs2VvAwEtQNvqkyK1xy5ATJnDY7bXLkBOs1v6r7EvQA==",
          "dtype": "f8"
         },
         "xaxis": "x3",
         "y": {
          "bdata": "AAAAAAAAiUAAAAAAAEiFQAAAAAAAeJJAAAAAAADAh0AAAAAAAOCEQAAAAAAAWIlAAAAAAACgiEAAAAAAAHCLQAAAAAAAUIlAAAAAAABghkAAAAAAAGCEQAAAAAAAQIdAAAAAAABohEAAAAAAAESZQAAAAAAAgIZAAAAAAACYhUAAAAAAAGCIQAAAAAAAEIxAAAAAAADYh0AAAAAAADySQAAAAAAA6IRAAAAAAABYhEAAAAAAACiEQAAAAAAAUIpAAAAAAACgjEAAAAAAABiSQAAAAAAAcI9AAAAAAABgkEAAAAAAAPiFQAAAAAAASIRAAAAAAAAAiEAAAAAAAMCFQAAAAAAAsIdAAAAAAACwh0AAAAAAAMiVQAAAAAAAUIRAAAAAAABwmEAAAAAAAFiUQAAAAAAA4JVAAAAAAAAIhEAAAAAAAKiSQAAAAAAAKI5AAAAAAAAohkAAAAAAADiEQAAAAAAAaIRAAAAAAAAohEAAAAAAAFiEQAAAAAAA2IxAAAAAAACwkEAAAAAAAACJQAAAAAAAcIRAAAAAAAA4ikAAAAAAACiEQAAAAAAAmIdAAAAAAABghEAAAAAAAMCEQAAAAAAAYIVAAAAAAADQhkAAAAAAABCQQAAAAAAA7JFAAAAAAACgmEAAAAAAAAiEQAAAAAAAGIVAAAAAAAAAjUAAAAAAALSZQAAAAAAAhJBAAAAAAACIhUAAAAAAABSUQAAAAAAAOIlAAAAAAACAjkAAAAAAACiFQAAAAAAAwIRAAAAAAABojUAAAAAAAKCIQAAAAAAAuIRAAAAAAAAgkUAAAAAAADiHQAAAAAAAuJlAAAAAAABAj0AAAAAAAOCHQAAAAAAA0IRAAAAAAABohEAAAAAAAOiHQAAAAAAAUIxAAAAAAABIhEAAAAAAAKiFQAAAAAAAiIhAAAAAAABwhEAAAAAAACiEQAAAAAAAnJdAAAAAAACYiEAAAAAAAHiPQAAAAAAAMJRAAAAAAADYhkAAAAAAAOiIQAAAAAAAGI5AAAAAAAAQhEAAAAAAAMCEQAAAAAAAyJZAAAAAAABUmEAAAAAAACiIQAAAAAAANJBAAAAAAAAohUAAAAAAAOiLQAAAAAAA4IpAAAAAAADghEAAAAAAAACIQAAAAAAASIRAAAAAAACwhEAAAAAAAEiEQAAAAAAACIRAAAAAAABwlEAAAAAAADiMQAAAAAAACIRAAAAAAADwhEAAAAAAALCEQAAAAAAAyJFAAAAAAACwmEAAAAAAANiYQAAAAAAAEIhAAAAAAADMk0AAAAAAACiEQAAAAAAAGIVAAAAAAABwhUAAAAAAABCGQAAAAAAA0IlAAAAAAABAkkAAAAAAAPiGQA==",
          "dtype": "f8"
         },
         "yaxis": "y3"
        },
        {
         "hoverlabel": {
          "font": {
           "size": 10
          }
         },
         "hovertemplate": "<b>LOWESS trendline</b><br><br>discount=Medium<br>Product=Montana<br>price=%{x}<br>Quantity=%{y} <b>(trend)</b><extra></extra>",
         "legendgroup": "Medium",
         "marker": {
          "color": "#DC3912",
          "size": 7,
          "symbol": "circle"
         },
         "mode": "lines",
         "name": "Medium",
         "showlegend": false,
         "type": "scattergl",
         "x": {
          "bdata": "eZ3Ygh/I8T/+6/jevOP7P1hD+wwivfw/CdGoaPuNAUBybeevrmQCQGTf/2h0dgJA+EILx6iUA0BxbarrGR8FQN8b3sDrSgVAlGqUclyuB0BSQi0O9QgIQOLJp0oifwlAI7ZA0rpaCkCbuNwyIKYLQKSHxjYRPw9A9ssjPzBKEEAXO+6hal8QQG6QtCbn/RBAuuEmkk9WEUDnEsN9KG4RQBr5DfYLrRFA8t0zcAcHEkA7P/mWCBsSQH/0DfnUVxJAsMXCKfi8EkAOBwuYEAoTQFvZh7HHaRNA/fFbgIT0E0ByjcV+dVYUQEB4G3ByChVAj7GCgHWFFUD554miyYgVQHQTzegY6BVAuA9iLQFpFkDivoFw6bgWQB4U6rjAixdA7EwWj5nOF0BrsfztVO0XQG62Cp31ORhABExzJoDwGEDJFpg/4sIZQLR7XPug2BlARhsf5xsxGkAArI9i4TwaQP0iS3Lp3RpAxCh6JZhuG0ATaVeD5uEbQCwR9AVc/htAvNsEpz4fHECm3J9YKFkcQIq7csB9cRxAmUhSdwaiHED0bGRqtfMcQJBjamTLZR1AvFNDLPwSHkDbXOuezhceQIhLUXHuJB5AAq+rp/FcHkBUSLm/2Z8eQHzbhggMHR9A4JkMDN63H0BQUqiVq8EfQIV5sodU/x9Atfvd8WIFIECS1wqZgwUgQOQkTk7eJSBAkNROK3cmIECrPLM0GjEgQABexXi8OCBA4dTY5/NcIECv6vXHe5MgQLr5Avm+wiBAM9S8xdzzIECBF4Z2yxshQGq+oy2nYCFA9P0lMZ1vIUB+rHLrtJwhQNqR9g7BpSFAGF80mvO1IUAcEKR46L8hQDA1WYatwSFAUuPlm0jMIUAoLltohN0hQMRmaThk7CFAtDP/n/H5IUCJ6Rdf4gUiQHKq2CF3HiJAwMzJwQBJIkCqWdk6ZqYiQNh2DTpG8CJA1pC+4X0nI0CTgo0pFzAjQD63ZXQMVyNAz0haJ9dXI0CYEDF2Fd0jQDSq+xsN+SNAugUAd8sKJEAPpAx62ykkQOKaOT05hCRAnSnwLNWPJEAOP9cQr24lQGpJ7ibb0yVADDOCMvMyJkAUeVCXzpQmQEzAmr9ymSZAfyluqE/OJkCzHZG/wPsmQI/eMnb4MSdA+gJmbweWJ0Bd5weOILYnQHALrkIHlihAPGP9/TyiKECaxgWtjLcoQKTvm/lPAilAVmkhb3VHKUDiOlGCsKgpQL5atVY3PypASIHqC4KUKkDKYQwOm9cqQKZ8ggG4FStA6/lmjhwdK0AMUO6jokYrQBz+zJcnpStALdpscQziLEBRs2VvAwEtQNvqkyK1xy5ATJnDY7bXLkBOs1v6r7EvQA==",
          "dtype": "f8"
         },
         "xaxis": "x3",
         "y": {
          "bdata": "8T4TN046iEAagQCkimuIQEeZ+wzEb4hAAQYC4aGPiEB/0n5o+5eIQBSjPrmrmIhAVl1ARrKjiEDkRSV8orKIQDTi2I5FtIhAOOeXonnKiEBfFv4wpM2IQHRmdyVO2ohAghCz1mfhiEACoXoioeuIQJSUpDD4BIlAm51fqU0NiUCuWFG0Tg6JQJNqLgSkFYlAXrRMgqkZiUD2sJ4ZvxqJQJ74JB2eHYlAgA0g+ckhiUAPJdecuyKJQFME8imoJYlA7gArXsoqiUBleKUjCi+JQKfOutnkNIlABIgwz+8+iUCgf0FTwEaJQBoJMLq6WYlAFK6afBZpiUAu09PNLGmJQBsxNylSb4lAGm/TD9Z/iUBuiJBXJIiJQHN0waJBj4lA4qL2JxuQiUDG2ReZAJOJQFAzUjvNmIlAUxm0ategiUALIl+KjJ6JQAqd3HeMnolA56efFNmdiUAG6Ond4Z2JQOWaOzzmmolAk1SnNQ6ViUBHvOzR1ZCJQKcIwqhQj4lA5wgeHkqNiUB2EwHLGImJQHNUV5Izh4lArjC4DOmCiUDG3nFd43yJQK9ZWpocdolA5vK+mDxtiUA9FDLRymyJQNFa6yCUa4lAJH+n4gFniUDRYCCDd2WJQAWu42wzYYlAQeTTr1teiUBAnJU5112JQB6QUcOEXolAqZV/xixeiUBzAlg+L16JQKK/hvD2X4lAvYgfXu5fiUDvQUk1sl+JQO9qfh9xYIlAeRr6cA1kiUCeY8is5WWJQHfzmB+UaYlA9KOTdQhsiUBg38dqj2yJQBmwmucWbolA+94RfNRuiUAKbC71eWyJQMue8tXfbIlAVbsHR61tiUALIEDuOm6JQK/51VxVbolAUXnwPnxtiUC4nWNDW2uJQDiOE/ZxaolAmBEiTBBriUBz7+Sgf2uJQFEA2SWQZ4lADiunbyJgiUBQZSEwIlGJQPYLdEoVRolAufbmxc88iUBsO3Xc6DqJQO4/ZHYXN4lAOA3S0wk3iUCBUhkhGyaJQC7rd/eXI4lAWrSo9IkiiUAxIgPVlCGJQNf7/rqKIolAKF6JtNghiUDbfijGliOJQFzTuRifIolAhrJsPHweiUCcZyj65huJQDmTSe7hG4lAld8uaT0ciUBNeFi+Px2JQCBdq7gHH4lAH8q1ySQjiUALbg14iiSJQPdrlu21LYlAExI5ByouiUDEuO2u8S6JQO+E0kuQMYlAwKQe+9QziUDlOjlE1DaJQEfOtvlNO4lAnlPtC+o9iUCsewpMC0CJQBThCrwUQolAJ1jM11NCiUByRP8WukOJQDZGXFL8RolAA+9ojopSiUA2bmBwulOJQGCxTTPCZ4lAvJ6OSZhoiUAQO3tkA3WJQA==",
          "dtype": "f8"
         },
         "yaxis": "y3"
        },
        {
         "hoverlabel": {
          "font": {
           "size": 10
          }
         },
         "hovertemplate": "discount=Medium<br>Product=Paseo<br>price=%{x}<br>Quantity=%{y}<extra></extra>",
         "legendgroup": "Medium",
         "marker": {
          "color": "#DC3912",
          "opacity": 0.5,
          "size": 7,
          "symbol": "circle"
         },
         "mode": "markers",
         "name": "Medium",
         "showlegend": false,
         "type": "scattergl",
         "x": {
          "bdata": "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",
          "dtype": "f8"
         },
         "xaxis": "x4",
         "y": {
          "bdata": "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",
          "dtype": "f8"
         },
         "yaxis": "y4"
        },
        {
         "hoverlabel": {
          "font": {
           "size": 10
          }
         },
         "hovertemplate": "<b>LOWESS trendline</b><br><br>discount=Medium<br>Product=Paseo<br>price=%{x}<br>Quantity=%{y} <b>(trend)</b><extra></extra>",
         "legendgroup": "Medium",
         "marker": {
          "color": "#DC3912",
          "size": 7,
          "symbol": "circle"
         },
         "mode": "lines",
         "name": "Medium",
         "showlegend": false,
         "type": "scattergl",
         "x": {
          "bdata": "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",
          "dtype": "f8"
         },
         "xaxis": "x4",
         "y": {
          "bdata": "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",
          "dtype": "f8"
         },
         "yaxis": "y4"
        },
        {
         "hoverlabel": {
          "font": {
           "size": 10
          }
         },
         "hovertemplate": "discount=Medium<br>Product=Velo<br>price=%{x}<br>Quantity=%{y}<extra></extra>",
         "legendgroup": "Medium",
         "marker": {
          "color": "#DC3912",
          "opacity": 0.5,
          "size": 7,
          "symbol": "circle"
         },
         "mode": "markers",
         "name": "Medium",
         "showlegend": false,
         "type": "scattergl",
         "x": {
          "bdata": "mgIOvzIbM0ANoxUHvCIzQGv2NTJXVzNA8Y+zjTGMNEBr+B3o5do0QJfwTuXM3zRAKm/d1CT9NECG4HI+noY1QBiSvBRQiTVA2U03kqWrNUADDHmmSsw1QO5coYGT3zVAgSTV9ZPhNUCEQafeJ+U1QPyWIUsSBjZAMZFVhfcoNkADl1uZfWE2QHpxgSX8ajZAbM+KT4h3NkDgbDJSNXg2QMyejRLjeTZA7ge2dQeKNkC66uMrNd42QGz9pzti4zZAiNWPea8CN0CnraYeh103QKImyfOKbzdA6Jm2GH12N0ApnJcesHk3QN3yGNYNiDdAmEUdWJStN0CrMdgvRLQ3QCwqv+ShuTdA7Ej1XnW8N0AHEBoKQOU3QO4eIEaF8TdAZEzzTxv0N0CqQT2RjAk4QEXjkTKHHjhA0G7RqGolOEBiwyD3ECk4QJZqPxQYODhAH2+HUgY/OEALGllBK2o4QEGswheSeThAcqQlcE58OECsjEvRPYQ4QFuT3VbxojhAeAGXmLPFOECfYdm9Rts4QBALbsi43jhANb7SOznvOED2Hfhy/vw4QNyvBWi9EzlABJkpOM81OUBopzPuqjg5QHG5uxI9QDlAMLbbXtBAOUCT4yLQkE85QL7+RnS5XTlAee6VYutxOUA5FASTu3Y5QJRhAc1ZkzlAQ878GTulOUD+c4tVZLk5QCicorJ6xTlAH1uQKj7NOUCbyEmCMw06QM+5dvf/GzpAzTLaZLg/OkDcd7zW/0I6QBSv9C6WTDpAE6cGW4qJOkCuv2Hgwok6QGoCDWzeiTpAVsa6SlKQOkCtn8ORJbU6QO/aGO2cvTpAK2sWXwPFOkCG+b9lztI6QOxYqyIa3DpAps9Y2cXlOkBoMmTMPOY6QEiXE/8G8jpAQsvFQjccO0DipLrjDSY7QPznrZdMLDtAk5dLXu84O0C5KhFkako7QF/gWdc3SztAKW2UyKZUO0DexC8C2Fo7QGzMZRP5WztAg5gTaeRgO0B2LrhdzXc7QBkq+IXNkjtA0KjQIOmdO0AiDRVgM6g7QFjf8uLmqztAARLmSn2wO0BnilCsCrY7QPYeZnpRxjtAbsHwNrnOO0AZoLSqKu87QOUNiZF0EjxAE29BXuQbPEAc0YFdeyY8QBPuazP6JzxA8Hx+9TJFPECCC09no208QA9UAnFlezxA5rzLgvWFPEAnqSQu25Q8QCUdqzTOrTxA7o5/8f+tPEDyX1IJ5dQ8QP+bnmo+2DxAnGZtBgjsPEBREHy4ae48QMMIyg6P8zxAX9Lw7C8TPUD1vnw0KBc9QGdKcRblGz1AhTzAT6clPUCha84mfik9QEbIYT0KQT1ABUbOvyZsPUDP+l3ao2w9QNhcKutMbz1A/6C5fW5wPUCW1OBd8nM9QIYEilQGnT1ADBYoacmlPUDbSJwp+qU9QFQpXS6duD1AXQ6Opl3APUArAm1lQME9QJdUvYtj0T1A2REVeO/zPUCxEK/AwBc+QN23Cmj3QT5AE66TJp5EPkDD/9TxKU8+QBxYmKcbUz5Aav7sOT53PkBVb45qK5E+QBGCCzi9lT5AoGwoKjDAPkCjVQXs2Ps+QGFK1YzZAD9AJXqlOAMmP0ARrOCrRTU/QPeV+48tRj9AOYI6TKtQP0AJBwYQf1k/QIqedGh0fD9A2jVYMpiKP0AINYbyHJs/QNPBnZ4vpz9Aly2yL7O9P0CCojqLM94/QOdNXwmS4z9AVFxsrOf1P0ARv0N51fo/QNBmAU4A/j9A5QrBvYgPQEDrBOXHcxtAQJOBV4yNLEBAKA0S95hVQEDg3w3kiGBAQFfpNyIgfkBAg60X/nqMQECb/y1hVBNBQPRa4tRJG0FAuKdKxHRdQUBJZfNtnmJBQA==",
          "dtype": "f8"
         },
         "xaxis": "x",
         "y": {
          "bdata": "AAAAAACogkAAAAAAAHCCQAAAAAAAvJFAAAAAAAB4g0AAAAAAADiIQAAAAAAA+JJAAAAAAACQgkAAAAAAAFiFQAAAAAAAGI1AAAAAAACYg0AAAAAAAOiBQAAAAAAAVJRAAAAAAACgk0AAAAAAANCFQAAAAAAAIIJAAAAAAABwgkAAAAAAAEiCQAAAAAAAkIdAAAAAAACYg0AAAAAAALiNQAAAAAAAcItAAAAAAAAggkAAAAAAAPiQQAAAAAAAKI1AAAAAAAB4gkAAAAAAABiCQAAAAAAAMIVAAAAAAABIgkAAAAAAAByRQAAAAAAAYJVAAAAAAACQlUAAAAAAACCUQAAAAAAAeJBAAAAAAAAQkkAAAAAAAIiCQAAAAAAAOIJAAAAAAABIhEAAAAAAACCCQAAAAAAAKIRAAAAAAADQikAAAAAAAPCDQAAAAAAAWI9AAAAAAACQhkAAAAAAAKiCQAAAAAAAaIJAAAAAAADggkAAAAAAADiKQAAAAAAAeIZAAAAAAAD4jEAAAAAAAFCCQAAAAAAA+IFAAAAAAACYi0AAAAAAAMiBQAAAAAAAAIZAAAAAAADwgUAAAAAAAAiRQAAAAAAAqIRAAAAAAAAQkEAAAAAAAKCCQAAAAAAA+INAAAAAAACAhkAAAAAAADiLQAAAAAAAMJVAAAAAAADAi0AAAAAAABiVQAAAAAAAaIdAAAAAAABclEAAAAAAAFCJQAAAAAAAeIpAAAAAAAAggkAAAAAAACCCQAAAAAAA7JdAAAAAAACskkAAAAAAAAiGQAAAAAAACJNAAAAAAAAglkAAAAAAAByTQAAAAAAAcJRAAAAAAACgg0AAAAAAAAyWQAAAAAAAoIRAAAAAAADIhkAAAAAAAMiBQAAAAAAAEINAAAAAAAB8kEAAAAAAAHCFQAAAAAAAyIFAAAAAAABYhkAAAAAAAPiOQAAAAAAAGINAAAAAAADwgUAAAAAAAKiDQAAAAAAAWIJAAAAAAABclkAAAAAAAPiJQAAAAAAASItAAAAAAABggkAAAAAAADiFQAAAAAAAmIJAAAAAAADogUAAAAAAAFiCQAAAAAAA4IJAAAAAAABYgkAAAAAAAAiDQAAAAAAAmIVAAAAAAADQi0AAAAAAAECDQAAAAAAAKIVAAAAAAACck0AAAAAAAHCHQAAAAAAAKIJAAAAAAAD8kEAAAAAAACCCQAAAAAAAAJRAAAAAAAAgmEAAAAAAANiQQAAAAAAA6IJAAAAAAAA4g0AAAAAAABCCQAAAAAAAyJFAAAAAAAAghUAAAAAAAKiPQAAAAAAAuI9AAAAAAADIhUAAAAAAANCJQAAAAAAAsIJAAAAAAACYkUAAAAAAAEiFQAAAAAAAKJBAAAAAAAAohEAAAAAAALiLQAAAAAAASJdAAAAAAACIg0AAAAAAAPCBQAAAAAAA2JFAAAAAAAAggkAAAAAAAKiNQAAAAAAAAIVAAAAAAAAogkAAAAAAAEiFQAAAAAAAuINAAAAAAADIgUAAAAAAAECCQAAAAAAAaIJAAAAAAABwhkAAAAAAAGyRQAAAAAAAXJBAAAAAAAAIg0AAAAAAAPiDQAAAAAAAEI9AAAAAAADgg0AAAAAAADCJQAAAAAAAKIxAAAAAAABggkAAAAAAAACCQAAAAAAAyIFAAAAAAACgkkAAAAAAACiIQAAAAAAAYIdAAAAAAADogUAAAAAAAMCIQAAAAAAAAINAAAAAAABAlUAAAAAAAHiCQAAAAAAAeIxAAAAAAACQjUAAAAAAAPCQQAAAAAAA+IFAAAAAAAC8lEAAAAAAAJiPQAAAAAAA8IhAAAAAAADIjUAAAAAAALCIQAAAAAAAQINAAAAAAAAAiUAAAAAAAOCEQA==",
          "dtype": "f8"
         },
         "yaxis": "y"
        },
        {
         "hoverlabel": {
          "font": {
           "size": 10
          }
         },
         "hovertemplate": "<b>LOWESS trendline</b><br><br>discount=Medium<br>Product=Velo<br>price=%{x}<br>Quantity=%{y} <b>(trend)</b><extra></extra>",
         "legendgroup": "Medium",
         "marker": {
          "color": "#DC3912",
          "size": 7,
          "symbol": "circle"
         },
         "mode": "lines",
         "name": "Medium",
         "showlegend": false,
         "type": "scattergl",
         "x": {
          "bdata": "mgIOvzIbM0ANoxUHvCIzQGv2NTJXVzNA8Y+zjTGMNEBr+B3o5do0QJfwTuXM3zRAKm/d1CT9NECG4HI+noY1QBiSvBRQiTVA2U03kqWrNUADDHmmSsw1QO5coYGT3zVAgSTV9ZPhNUCEQafeJ+U1QPyWIUsSBjZAMZFVhfcoNkADl1uZfWE2QHpxgSX8ajZAbM+KT4h3NkDgbDJSNXg2QMyejRLjeTZA7ge2dQeKNkC66uMrNd42QGz9pzti4zZAiNWPea8CN0CnraYeh103QKImyfOKbzdA6Jm2GH12N0ApnJcesHk3QN3yGNYNiDdAmEUdWJStN0CrMdgvRLQ3QCwqv+ShuTdA7Ej1XnW8N0AHEBoKQOU3QO4eIEaF8TdAZEzzTxv0N0CqQT2RjAk4QEXjkTKHHjhA0G7RqGolOEBiwyD3ECk4QJZqPxQYODhAH2+HUgY/OEALGllBK2o4QEGswheSeThAcqQlcE58OECsjEvRPYQ4QFuT3VbxojhAeAGXmLPFOECfYdm9Rts4QBALbsi43jhANb7SOznvOED2Hfhy/vw4QNyvBWi9EzlABJkpOM81OUBopzPuqjg5QHG5uxI9QDlAMLbbXtBAOUCT4yLQkE85QL7+RnS5XTlAee6VYutxOUA5FASTu3Y5QJRhAc1ZkzlAQ878GTulOUD+c4tVZLk5QCicorJ6xTlAH1uQKj7NOUCbyEmCMw06QM+5dvf/GzpAzTLaZLg/OkDcd7zW/0I6QBSv9C6WTDpAE6cGW4qJOkCuv2Hgwok6QGoCDWzeiTpAVsa6SlKQOkCtn8ORJbU6QO/aGO2cvTpAK2sWXwPFOkCG+b9lztI6QOxYqyIa3DpAps9Y2cXlOkBoMmTMPOY6QEiXE/8G8jpAQsvFQjccO0DipLrjDSY7QPznrZdMLDtAk5dLXu84O0C5KhFkako7QF/gWdc3SztAKW2UyKZUO0DexC8C2Fo7QGzMZRP5WztAg5gTaeRgO0B2LrhdzXc7QBkq+IXNkjtA0KjQIOmdO0AiDRVgM6g7QFjf8uLmqztAARLmSn2wO0BnilCsCrY7QPYeZnpRxjtAbsHwNrnOO0AZoLSqKu87QOUNiZF0EjxAE29BXuQbPEAc0YFdeyY8QBPuazP6JzxA8Hx+9TJFPECCC09no208QA9UAnFlezxA5rzLgvWFPEAnqSQu25Q8QCUdqzTOrTxA7o5/8f+tPEDyX1IJ5dQ8QP+bnmo+2DxAnGZtBgjsPEBREHy4ae48QMMIyg6P8zxAX9Lw7C8TPUD1vnw0KBc9QGdKcRblGz1AhTzAT6clPUCha84mfik9QEbIYT0KQT1ABUbOvyZsPUDP+l3ao2w9QNhcKutMbz1A/6C5fW5wPUCW1OBd8nM9QIYEilQGnT1ADBYoacmlPUDbSJwp+qU9QFQpXS6duD1AXQ6Opl3APUArAm1lQME9QJdUvYtj0T1A2REVeO/zPUCxEK/AwBc+QN23Cmj3QT5AE66TJp5EPkDD/9TxKU8+QBxYmKcbUz5Aav7sOT53PkBVb45qK5E+QBGCCzi9lT5AoGwoKjDAPkCjVQXs2Ps+QGFK1YzZAD9AJXqlOAMmP0ARrOCrRTU/QPeV+48tRj9AOYI6TKtQP0AJBwYQf1k/QIqedGh0fD9A2jVYMpiKP0AINYbyHJs/QNPBnZ4vpz9Aly2yL7O9P0CCojqLM94/QOdNXwmS4z9AVFxsrOf1P0ARv0N51fo/QNBmAU4A/j9A5QrBvYgPQEDrBOXHcxtAQJOBV4yNLEBAKA0S95hVQEDg3w3kiGBAQFfpNyIgfkBAg60X/nqMQECb/y1hVBNBQPRa4tRJG0FAuKdKxHRdQUBJZfNtnmJBQA==",
          "dtype": "f8"
         },
         "xaxis": "x",
         "y": {
          "bdata": "+D7dtWaKh0A1gatKXoyHQEQsjcoPmodAmmxCxM7qh0DHiX7Cp/+HQL7kLy32AIhAKUi+q80IiEAv6rF//C2IQCd05tG4LohAvrvbRR04iEC0xw7EEkGIQMHGusBgRohAZX4b3O1GiEB4BQ8h6keIQFlNTZv9UIhAg5DzY5xaiEDfGyqWH2qIQPLP/QC3bIhAVPaOtiFwiEAzgbXBUHCIQNKiapTFcIhAc8jRhSZ1iEBu6m+YpouIQOjS8UgDjYhA9Sdqfi6ViECCJ02q9quIQADR2IhHsIhAeckwy+yxiEBIMd/7rbKIQNLblGULtohAWdjzm7G+iEDh7UhOOcCIQFPfiK5zwYhAbnxmWhnCiEDFl28JksuIQOZiZ+uGzohAPaHGUSnPiEA9bfrJFtOIQFN74wY32IhAitkcqXXZiEBGSWTdVtqIQNUOLjT13YhA1rn/MpzfiEB/vIDXm+mIQIs8zu8I7YhAnbtycKLtiEDrN9moW++IQFASSvHO9YhAfGdodFv6iECTWM4nBvqIQDIbyrGT+ohAMU+3FR39iEDZTapddv2IQH2hastq/YhAs5fMHZT/iEBaOonWqf+IQM84753N/4hAN5G+/s7/iEAXKQ7orP+IQF6hf96E/IhAyIItPif4iECWC3hHgfeIQAkQkF6u7YhA71pLr6DqiEAOGd/6qeWIQJPGvlHS4YhAmPUnImDfiEAAxuIPMNCIQIIQ/EjCzYhAUKet3f/KiEB86l5+tMqIQMLTLIwTyohAObUV+0vOiEA7HKBsVM6IQCNgTItYzohAYsLtmlTPiEDU33EZgteIQFQtDY942ohAOP03zG7diEAaQ95fVeOIQCFlDIfx5ohARRCFcRzriECywLXqL+uIQL4MOvzt7IhABZIVCgH6iEArqTfwffyIQKJj2q8h/IhA4FaRavn7iEDsun76B/qIQKWcMyHj+YhATZdEAgz4iEDlhrigDPiIQKNb10vK94hA2keGVFH3iECsXwWzFPSIQB0p2QV78ohAbXKY/MTuiEDfgWddS+yIQHcdDbG764hA68DEqAnqiEACAc4OpuiIQHuvfJZA4ohAmA20kV/eiEBzftk+Hs+IQG3xnS/Du4hAe0wPYGG2iEBbncypRrCIQBYvPVJGr4hA/Nx/BtqciEDon1UVsoCIQGHLJTwTd4hAsP3dKZFxiEDloWK3f2qIQCk9mycYXohAHpBipAdeiEBY4bc/1lCIQGzSIoArUIhAM1vYMPJHiEB6fv2CoEeIQMCKyW0CR4hA87F5FT1AiEB9eoXScz6IQLXK/UK0PYhA6v1NaTU+iEAUCfUf1j2IQCcp/MwBQYhAUVMjmzRMiEAhkZehXUyIQF/RUc0/TYhAX+tQY6FNiECxZQXo1U6IQCgxo27RXohApDc4hJRiiECNPxO4qWKIQOm70c07aYhAEW4QK7JsiEB6Y9sAHG2IQE7EvZWydIhAjMrAgNKEiEClFfwzKJGIQHK4M5AKo4hAu/oGUQykiECu29WD56eIQLZYngJJqYhAsvYRGWq0iECUvJ8s1rqIQPFt9B3Zu4hA/Q9SWcbDiEBBbgXLfcuIQPWz4QMCzIhAGSdMWmfPiECV933yndCIQLDGnMfe0YhAimGh5pvSiEBhjdMkNtOIQBoztJJ61YhASvTZk13WiECibaaaZdeIQDvfGFkn2IhAGQ6fEpbZiEA+K7gjvtuIQOOWEu0c3IhARex2JWrdiEDOdjV/xt2IQJvYFIEC3ohA8GxKepbgiED/u9yVm+KIQKlEwqfC5YhAJ2UlG5juiEDElC6oQvGIQLqwBlMX+YhAPvekPS39iEDaKYmWFCiJQGDKs4OjKolAa3M/YgM/iUAn7ziXhUCJQA==",
          "dtype": "f8"
         },
         "yaxis": "y"
        },
        {
         "hoverlabel": {
          "font": {
           "size": 10
          }
         },
         "hovertemplate": "discount=Medium<br>Product=VTT<br>price=%{x}<br>Quantity=%{y}<extra></extra>",
         "legendgroup": "Medium",
         "marker": {
          "color": "#DC3912",
          "opacity": 0.5,
          "size": 7,
          "symbol": "circle"
         },
         "mode": "markers",
         "name": "Medium",
         "showlegend": false,
         "type": "scattergl",
         "x": {
          "bdata": "MSfOeaJfGkCk9VdnwTkVQLxZEx2cXRVAaw4R7fHqFkDS6mBg3j0ZQKVQjMt1RRpAam4q0ukzHEBHAgogMW4cQDQJwMXPixxAuSt4UY/5HUCEIl8oeN0eQAJQpfxFMB9AcEK7P70MIEDulhbD5PIgQGVIazJpACFATQZ4F9UeIUDUV+HaECshQHI/LB42OyFABHrrjdhcIUDB/xWZamAhQHtTLyIraCFAilcE90h+IUBOxRgQXIEhQIGO/XlFmSFAtt2zHUa1IUBdTCMXSgIiQMBvc/lXPCJAAghlvfpDIkCvz12uR5oiQJCP4M1bpCJAMc4FTAfOIkCMdGGAVeYiQJxoNZxR7iJAI+JwaD76IkDV+K1VQgwjQOhigYzpRiNA0hSeRv1XI0C+WYP9WIkjQK3EPNoqniNA2nNrNGmkI0Du9cBrWrIjQJ5ofUQBuyNAqZ8DJsbGI0BRgtujs0AkQMqUyLL5jyRARh/AC5neJEBhjXhdeOUkQAKtJ/sX/yRASPiyFQkFJUCEHMv5Qy0lQCLU36cxVyVAHPi1SKarJUAwhGRL4+4lQMGTnbONKCZACFgWWAIzJkDK5Jg1QDUmQBNAVeUDPSZAlDAIvytGJkC2UwukukcmQMamFkumeiZAIGGMQzLVJkDGrIjDa+8mQGT3KpOAAydAcrNXncQhJ0CzSTo/5G0nQEiy54I8lCdAysM52MilJ0B6EBITWKonQEXtnCTDBihAmMUtIEYMKEAbtzi3nxQoQIfTceHfKChAXsP6ppxKKECccgFXbVUoQBY4wn4umyhA1IB73higKEAEPO3ipqMoQABmfkm7ryhAbMcTm/25KECqWJCy+ekoQE6Yd1kF7yhADwPA/XdJKUAqBPrRUYUpQEA1aE3R/SlAXJoRP8cLKkAegE2j20gqQJgozg5PaipAUhxTaQh2KkBGiFOLPscqQC0toBg6JStAvLFnByY3K0Bm5adNKjcrQBrFWFqMQytAVrz3jt9aK0AkMQgTD3QrQK71yun6nitA16m75LmgK0B6Zq+uKLgrQCfeAkEO3StAcDhJ3DYHLEDaSPbESRIsQFae3dznRixAt74+cwJsLEBiraf3o3osQNsyLxBEfCxA2RpEDXX4LEAf2Q8peh4tQO4IV69lIS1AN/aaq6oiLUAwNNvNLUQtQDgbpFQ7UC1AhiOM1GyGLUBEPaZdkpMtQAGcjyK6xC1AIaPOvPrfLUD2daW0gQcuQHknpPnfRi5ASWnpurG2LkAGDPr1YsMuQNBibqoP8S5AtMIV6/v6LkAatshq7RcvQLjJSdnbJy9AuoKzYUZsL0AC0wpETMMvQAXEFwaU4y9AJG8WQLIqMECcOTle6EgwQD8Ot2LMdDBAQ9PKj3yQMEDhu6HMMJowQJKoeEJaoDBAov3KKTrTMEBRij3B5vcwQPUKTsZFCzFA4hOnNrQrMUBJTvTZjpcxQNUt+XtEqDFAY4EtuYS4MUCuYT7ErP4xQJHHNhKSOzJAF5XTd45iMkDVUpZSAHoyQKrDKfRWuDJAYnttURlVM0DsPUf0AsAzQCSluT/3EjRAK/QOqETONUA=",
          "dtype": "f8"
         },
         "xaxis": "x2",
         "y": {
          "bdata": "AAAAAADwfkAAAAAAADB+QAAAAAAAwH1AAAAAAABIgUAAAAAAAFCHQAAAAAAAYIRAAAAAAABwkkAAAAAAAMiCQAAAAAAAMH5AAAAAAABwh0AAAAAAAIiHQAAAAAAAuIhAAAAAAAA4gEAAAAAAAFCCQAAAAAAAIHxAAAAAAAAIgEAAAAAAAHCCQAAAAAAAgH9AAAAAAACMlEAAAAAAAGCNQAAAAAAAoIJAAAAAAAAQe0AAAAAAAAB7QAAAAAAAIINAAAAAAADggUAAAAAAALCBQAAAAAAAMH9AAAAAAABAkEAAAAAAAAB7QAAAAAAAAHtAAAAAAADAe0AAAAAAALiMQAAAAAAAaIpAAAAAAACAfEAAAAAAABCRQAAAAAAAMHxAAAAAAABwgkAAAAAAAMB7QAAAAAAAMIJAAAAAAADgf0AAAAAAADB8QAAAAAAAIH5AAAAAAAA4gEAAAAAAAAiCQAAAAAAAmIFAAAAAAAA4gUAAAAAAAIB7QAAAAAAA6IFAAAAAAAD4kUAAAAAAAEB7QAAAAAAAAHxAAAAAAADQgEAAAAAAAOiNQAAAAAAA0ItAAAAAAAAAe0AAAAAAAJB/QAAAAAAAmINAAAAAAABwe0AAAAAAAPiVQAAAAAAACIZAAAAAAABUkEAAAAAAAIiBQAAAAAAAwIlAAAAAAADQkkAAAAAAAHCEQAAAAAAAmI9AAAAAAABIikAAAAAAAPiIQAAAAAAAoHxAAAAAAADEk0AAAAAAAOiAQAAAAAAAcH5AAAAAAAAYhEAAAAAAAJB7QAAAAAAAgHtAAAAAAABklEAAAAAAADCWQAAAAAAA8HtAAAAAAAAYgEAAAAAAAHB/QAAAAAAAOIBAAAAAAABoiEAAAAAAAAiIQAAAAAAAQIZAAAAAAAAIgUAAAAAAADCCQAAAAAAAgHxAAAAAAAA4hUAAAAAAABiIQAAAAAAAEHxAAAAAAACwe0AAAAAAAMB8QAAAAAAAiIFAAAAAAADwlUAAAAAAAPB/QAAAAAAA/JJAAAAAAAB4hEAAAAAAAMCAQAAAAAAAzJJAAAAAAACAe0AAAAAAAIiDQAAAAAAAyIxAAAAAAAColUAAAAAAABB8QAAAAAAAGI9AAAAAAACAe0AAAAAAACiFQAAAAAAAQIxAAAAAAADIhEAAAAAAAAiFQAAAAAAA0HtAAAAAAACwe0AAAAAAAIB7QAAAAAAAsIlAAAAAAACoiUAAAAAAAHB8QAAAAAAA0HxAAAAAAADwgEAAAAAAAPiUQAAAAAAAVJVAAAAAAADoiEAAAAAAAIB7QAAAAAAA4IBAAAAAAACAlUAAAAAAAMCCQAAAAAAAgHtAAAAAAAA4h0AAAAAAAEB8QAAAAAAA+IhAAAAAAAD4gEAAAAAAACCSQAAAAAAAUHtAAAAAAABokkAAAAAAAJCCQAAAAAAAMIBAAAAAAACIi0AAAAAAAACAQAAAAAAAmJRAAAAAAADogEAAAAAAAPB7QAAAAAAAcH1AAAAAAADYhEAAAAAAAOCBQAAAAAAAqIZAAAAAAADAjUAAAAAAAKCGQAAAAAAAyIRAAAAAAAAQe0A=",
          "dtype": "f8"
         },
         "yaxis": "y2"
        },
        {
         "hoverlabel": {
          "font": {
           "size": 10
          }
         },
         "hovertemplate": "<b>LOWESS trendline</b><br><br>discount=Medium<br>Product=VTT<br>price=%{x}<br>Quantity=%{y} <b>(trend)</b><extra></extra>",
         "legendgroup": "Medium",
         "marker": {
          "color": "#DC3912",
          "size": 7,
          "symbol": "circle"
         },
         "mode": "lines",
         "name": "Medium",
         "showlegend": false,
         "type": "scattergl",
         "x": {
          "bdata": "pPVXZ8E5FUC8WRMdnF0VQGsOEe3x6hZA0upgYN49GUClUIzLdUUaQDEnznmiXxpAam4q0ukzHEBHAgogMW4cQDQJwMXPixxAuSt4UY/5HUCEIl8oeN0eQAJQpfxFMB9AcEK7P70MIEDulhbD5PIgQGVIazJpACFATQZ4F9UeIUDUV+HaECshQHI/LB42OyFABHrrjdhcIUDB/xWZamAhQHtTLyIraCFAilcE90h+IUBOxRgQXIEhQIGO/XlFmSFAtt2zHUa1IUBdTCMXSgIiQMBvc/lXPCJAAghlvfpDIkCvz12uR5oiQJCP4M1bpCJAMc4FTAfOIkCMdGGAVeYiQJxoNZxR7iJAI+JwaD76IkDV+K1VQgwjQOhigYzpRiNA0hSeRv1XI0C+WYP9WIkjQK3EPNoqniNA2nNrNGmkI0Du9cBrWrIjQJ5ofUQBuyNAqZ8DJsbGI0BRgtujs0AkQMqUyLL5jyRARh/AC5neJEBhjXhdeOUkQAKtJ/sX/yRASPiyFQkFJUCEHMv5Qy0lQCLU36cxVyVAHPi1SKarJUAwhGRL4+4lQMGTnbONKCZACFgWWAIzJkDK5Jg1QDUmQBNAVeUDPSZAlDAIvytGJkC2UwukukcmQMamFkumeiZAIGGMQzLVJkDGrIjDa+8mQGT3KpOAAydAcrNXncQhJ0CzSTo/5G0nQEiy54I8lCdAysM52MilJ0B6EBITWKonQEXtnCTDBihAmMUtIEYMKEAbtzi3nxQoQIfTceHfKChAXsP6ppxKKECccgFXbVUoQBY4wn4umyhA1IB73higKEAEPO3ipqMoQABmfkm7ryhAbMcTm/25KECqWJCy+ekoQE6Yd1kF7yhADwPA/XdJKUAqBPrRUYUpQEA1aE3R/SlAXJoRP8cLKkAegE2j20gqQJgozg5PaipAUhxTaQh2KkBGiFOLPscqQC0toBg6JStAvLFnByY3K0Bm5adNKjcrQBrFWFqMQytAVrz3jt9aK0AkMQgTD3QrQK71yun6nitA16m75LmgK0B6Zq+uKLgrQCfeAkEO3StAcDhJ3DYHLEDaSPbESRIsQFae3dznRixAt74+cwJsLEBiraf3o3osQNsyLxBEfCxA2RpEDXX4LEAf2Q8peh4tQO4IV69lIS1AN/aaq6oiLUAwNNvNLUQtQDgbpFQ7UC1AhiOM1GyGLUBEPaZdkpMtQAGcjyK6xC1AIaPOvPrfLUD2daW0gQcuQHknpPnfRi5ASWnpurG2LkAGDPr1YsMuQNBibqoP8S5AtMIV6/v6LkAatshq7RcvQLjJSdnbJy9AuoKzYUZsL0AC0wpETMMvQAXEFwaU4y9AJG8WQLIqMECcOTle6EgwQD8Ot2LMdDBAQ9PKj3yQMEDhu6HMMJowQJKoeEJaoDBAov3KKTrTMEBRij3B5vcwQPUKTsZFCzFA4hOnNrQrMUBJTvTZjpcxQNUt+XtEqDFAY4EtuYS4MUCuYT7ErP4xQJHHNhKSOzJAF5XTd45iMkDVUpZSAHoyQKrDKfRWuDJAYnttURlVM0DsPUf0AsAzQCSluT/3EjRAK/QOqETONUA=",
          "dtype": "f8"
         },
         "xaxis": "x2",
         "y": {
          "bdata": "RH4Jgp4sgkBsOJhlpy2CQMmw51q/OIJAJKQNSLBJgkAMsrf4LlKCQGl9FisUU4JADUg53xllgkBfAQ4vp2eCQIQJh736aIJAi5k0zxF7gkB874mPB4iCQO46m1IPjYJAMeJbhw6cgkD0NyaZ5LuCQKjpQmDHvYJASm3T4P7BgkCjJWBkrcOCQPn8Qp3hxYJAOxr0NmfKgkArjW104MqCQExHRHXmy4JAy/gCwcfOgkDzDoTxLM+CQHOgXaAz0oJANNwwpJ/VgkDLaYXlKd6CQLJNI7KB44JAiDOjMSDkgkAQZPJ7mOmCQC6wRncL6oJA/5+xjYDrgkCF+sVLF+yCQM67iTZA7IJAfnhc+nbsgkDk0QftvuyCQHHkr5K78IJAJgZUeKHzgkDSZ/JOZPWCQJwdHKEX9oJAH9pgp1L2gkCPmolA4PaCQGcqiW8/94JAmSy1TIT4gkDFyvj8RAGDQF8Dyca+C4NA1uMmm7QWg0DynTxFuheDQIFiMCrGG4NAUQUFcMQcg0BfIHk7DSSDQJIZITKHLINAVGjCAuA1g0BeWvTrc0ODQPev1V4FUYNAewvgt6NTg0CaWSVxNFSDQFNeZyIsVoNAOxv1KoJYg0A/JlpM6FiDQCRG3jYGY4NA1kevEkl6g0CBpj3e7YGDQKggtKASiINA8SO7jN+Rg0C6+p7Zm6CDQPAZlE91qYNAkelkMButg0CEnYxI2a6DQAgO2ld6voNA/mvJSl2/g0AQ0AyDNcGDQGZYMfqBxoNAvr54iNXNg0CcQpSh486DQD2LP+o75INA1DinUYrkg0CdsGqtweSDQKkG50J15YNASeyHQ9nmg0BI/H/N5PCDQBOXTuIH8YNASO4Yuxz/g0DlmjcqKP+DQHJCvJTn/4NA3MLiUo7/g0DMOmRQwvyDQP0SlW6d+4NAM0tD3377g0Ae6upLMfWDQPwk/nnR7oNA8mJVzyrug0DN6NytKu6DQOolmTvW7YNAmg9Z7Xntg0D2JocfJu2DQJ7zUMKH7INAEQRUIpLsg0Dtdf+pQO2DQLweHx2r7oNAugsEQEDwg0AMNvQh4PCDQEFdtA/R7oNA1JSKPnDug0AyZAGje++DQDt3zGmY74NAHr1FLLjug0DPml+pA/GDQHxUISkm8YNA4j3/rTTxg0Br/P5iKvKDQDp0X6Fq8oNAwqWjO5Pyg0AdrIYFavKDQFEprnZP8YNAYYwL28Xwg0CnsnsQhu+DQAdpNp0p7oNAm2aH5gTvg0CEdE2hd++DQB3XOanC8YNAq+K382Tyg0BTFk0igPSDQNKVRh3Q9YNALK9iJYL8g0DijAKH5waEQI90VNYgC4RAV4u+IfcahEA3l0wf2CKEQNeVMS8XL4RAEQs8I441hEB8nLq8iDeEQOcqZ+61OIRACfX6YhRAhEC8amk9AUOEQClZNpvaQ4RA0Ad8b1xEhEBk0DH4M0CEQHxpM8IDP4RA3T3kQcQ9hECkdgdGnDeEQE8vDXmrMYRA7ALORcQthECnZsoibSuEQAOmnjhcJYRADIQOrisYhEBTUSAAUBGEQE414Iv0DIRAHPXEenj1g0A=",
          "dtype": "f8"
         },
         "yaxis": "y2"
        },
        {
         "hoverlabel": {
          "font": {
           "size": 10
          }
         },
         "hovertemplate": "discount=Low<br>Product=Amarilla<br>price=%{x}<br>Quantity=%{y}<extra></extra>",
         "legendgroup": "Low",
         "marker": {
          "color": "#FF9900",
          "opacity": 0.5,
          "size": 7,
          "symbol": "circle"
         },
         "mode": "markers",
         "name": "Low",
         "showlegend": true,
         "type": "scattergl",
         "x": {
          "bdata": "ZrABytjxHEB648u8zf4dQIQSowSpgR5AL7V/mH8gH0DrXnhGrzYgQES9yhCZUSBAg5dEG2dSIEBAmUT4nrcgQDZPyK7R5CBAiMX52c0BIUBUuqbHeBAhQJD58VIKNCFA1nIaD01xIUAYFWjruHghQCop879j4iFA8rv1VoQZIkCicG1yQToiQA1ho5GlUyJAn3xqj7xjIkCvEI0TDoAiQE44OeOEgCJAo2YSnmS8IkAom5/W+w0jQPR2bQKl2SNAHZRBpmUUJEBJWoXUvCokQBKHUyipeCRAyTx6xZMxJUChi61LWmElQHb3Lk9OLyBAWo4RQx5uIEDnwW6lyOcgQKAsC4TgTSFASHf3sh6fIUD7P61B1schQDZqHDrANSJAdxiBn9qGIkDmIkpwYJEiQCY9V9cAnSJAG/jmrVUAI0DbYVcLJw4jQIZHA30zEyNA2/JWCeM5I0C5XIGG7FUjQMUjhZP5hCNAxGsv3iikI0C15/gt7MojQBKAMrXIYCRAR/3KeUDJJEC0V6JZwNQkQJithqt3TCVAmiszQQ5TJUBTnh50ynIlQB6zR8EtRyZAOQf1m/XJJkBb1o4iRuomQA==",
          "dtype": "f8"
         },
         "xaxis": "x5",
         "y": {
          "bdata": "AAAAAACQeEAAAAAAALB4QAAAAAAAUHZAAAAAAABgdUAAAAAAALB2QAAAAAAAUHlAAAAAAAAAd0AAAAAAAKB1QAAAAAAA0HVAAAAAAACAdUAAAAAAAKB5QAAAAAAAcHVAAAAAAADgdUAAAAAAAKB1QAAAAAAAcHVAAAAAAABAdkAAAAAAAHB4QAAAAAAAcHVAAAAAAACAdUAAAAAAAHB1QAAAAAAAcHpAAAAAAABweEAAAAAAABB2QAAAAAAAcHVAAAAAAABgdUAAAAAAAEB7QAAAAAAAgHdAAAAAAAAwdkAAAAAAANB1QAAAAAAAoHhAAAAAAAAweUAAAAAAALB1QAAAAAAAoHpAAAAAAAAge0AAAAAAAOB3QAAAAAAAsHdAAAAAAACQdkAAAAAAAEB3QAAAAAAAsHpAAAAAAABgd0AAAAAAADB6QAAAAAAAUHtAAAAAAADAdUAAAAAAAFB1QAAAAAAAIHpAAAAAAACAekAAAAAAABB2QAAAAAAAcHVAAAAAAADQd0AAAAAAAJB4QAAAAAAAgHVAAAAAAADAd0AAAAAAAEB1QAAAAAAAwHlAAAAAAADgeUAAAAAAAJB3QA==",
          "dtype": "f8"
         },
         "yaxis": "y5"
        },
        {
         "hoverlabel": {
          "font": {
           "size": 10
          }
         },
         "hovertemplate": "<b>LOWESS trendline</b><br><br>discount=Low<br>Product=Amarilla<br>price=%{x}<br>Quantity=%{y} <b>(trend)</b><extra></extra>",
         "legendgroup": "Low",
         "marker": {
          "color": "#FF9900",
          "size": 7,
          "symbol": "circle"
         },
         "mode": "lines",
         "name": "Low",
         "showlegend": false,
         "type": "scattergl",
         "x": {
          "bdata": "ZrABytjxHEB648u8zf4dQIQSowSpgR5AL7V/mH8gH0B29y5PTi8gQOteeEavNiBARL3KEJlRIECDl0QbZ1IgQFqOEUMebiBAQJlE+J63IEA2T8iu0eQgQOfBbqXI5yBAiMX52c0BIUBUuqbHeBAhQJD58VIKNCFAoCwLhOBNIUDWchoPTXEhQBgVaOu4eCFASHf3sh6fIUD7P61B1schQCop879j4iFA8rv1VoQZIkA2ahw6wDUiQKJwbXJBOiJADWGjkaVTIkCffGqPvGMiQK8QjRMOgCJATjg544SAIkB3GIGf2oYiQOYiSnBgkSJAJj1X1wCdIkCjZhKeZLwiQBv45q1VACNAKJuf1vsNI0DbYVcLJw4jQIZHA30zEyNA2/JWCeM5I0C5XIGG7FUjQMUjhZP5hCNAxGsv3iikI0C15/gt7MojQPR2bQKl2SNAHZRBpmUUJEBJWoXUvCokQBKAMrXIYCRAEodTKKl4JEBH/cp5QMkkQLRXolnA1CRAyTx6xZMxJUCYrYard0wlQJorM0EOUyVAoYutS1phJUBTnh50ynIlQB6zR8EtRyZAOQf1m/XJJkBb1o4iRuomQA==",
          "dtype": "f8"
         },
         "xaxis": "x5",
         "y": {
          "bdata": "MeQMjofFd0CqrZqBWKB3QIDm8EIVj3dAAkKpFL95d0AZO3oETUx3QKPblzwySndA0w57ULBCd0BNAUtHeEJ3QJLZ93o+O3dA0YFCYnIud0BcTCN6Dy93QF+NjPlHL3dAs+eh6hgxd0D6OLe4bTJ3QNxRYzSZNXdAgmigEQ84d0Dhu41IXjp3QAgnUVBMOndAC2NfLlg4d0DpXEyzljt3QHizeP3IPHdAYn+TSmJUd0D2vjST22J3QN75Alq/ZHdA/fe9eTZtd0AZgfkCiHN3QILE10xxfHdAWb9ngZx8d0AVWqbd0H53QPRZGbsQgndA2bSd5EqEd0DnEk44c4R3QKWZnTNvhHdAI0A6z/CDd0BaXeBj9YN3QHKK3pJ/hHdAvvx1Nl+Gd0AORGT0AIh3QDp4QKpahHdAuXl2BMl2d0D9CmKHDGJ3QKFwKNEZWndAHY+L+glAd0CHc9hqYTl3QNl+f6hhKndA+q1UZisqd0DH9IBFO0J3QKfMEmVqRndA3xQheLNjd0Dj/dVzm2p3QOZ8dhw2bHdAojw12ZZvd0BcHOP0inN3QEhf2kegondAO17VQPLJd0ChdhMGZ9V3QA==",
          "dtype": "f8"
         },
         "yaxis": "y5"
        },
        {
         "hoverlabel": {
          "font": {
           "size": 10
          }
         },
         "hovertemplate": "discount=Low<br>Product=Carretera<br>price=%{x}<br>Quantity=%{y}<extra></extra>",
         "legendgroup": "Low",
         "marker": {
          "color": "#FF9900",
          "opacity": 0.5,
          "size": 7,
          "symbol": "circle"
         },
         "mode": "markers",
         "name": "Low",
         "showlegend": false,
         "type": "scattergl",
         "x": {
          "bdata": "Oac1LPZyLkAV5v+0UG0vQJaCYcfCuS9AfLHfS3HpL0AM4BGfmQowQMq/f/eAJDBA93llkoZEMEAPQ5E3h2swQIgx4wXNpTBAmswqu8WtMECH4W+P6NcwQEvlNBE7/zBALDJ3GcgMMUAZ9Cg/Cw8xQNaJEhVaEzFACOSkQiUXMUCIuWiJqTUxQMYpce6QRTFAmJAsnxNMMUBeayKh63AxQBR+fIzRcTFAKug2ojZ4MUBSvC14bX4xQPX9K899mjFAwC8qJROwMUCYJO70oLExQNRBWb/HsTFA178/muuxMUAbdpDIWsAxQKbsCOWHwzFAT4mPu3/fMUD2nHg/LekxQJJ6J0GY6zFAPQH+j2/wMUD2QuJt4fIxQMMa2Jsv9jFA4ZqXXNwFMkD6aOazIw4yQG8GtfGFFTJAHuO9jGodMkADAijj3iEyQIicjqeoIjJAey1IUo8lMkC2nbMlCi8yQPbSnXhaMjJAUT86aiszMkBUli89szQyQGLWa3KIPzJA7hXSBCxNMkCQYu9MX1YyQFMOcElmWTJAj5YQ+FJnMkABqN8GQmgyQDjfnLggdDJAtS6yiWGEMkBKI24uuIoyQLflrewhjDJA0ARFkM2RMkCdx3iq9pEyQJkUQxgUlTJAYGziphKpMkDXfCXePrEyQBo8Fb+EsTJAvh+fFT+1MkCxWNoe8LoyQGWHTQnowDJAVWgRCxPJMkDleqQVFdIyQFSKgjQk4DJAHcki403qMkB+QZhfXvYyQPQe8aKFCTNAkx/l3boXM0AtqmQ5kRszQBYUZkZ/SDNAKGrGPiJLM0D4bLPhQ1AzQL9ELPBmWTNAWdCQ9rFwM0CKDOTN0nQzQCYA7DB4gDNAw8XHZQ2DM0DLQItje4kzQBGtjKLupDNAKE68YwalM0AFqSQLvbAzQHZb6FJpsTNA3lIQ6XTEM0DSxe8bytIzQOcwdWTC5TNAuZ3KpssiNEBPxdAHHFc0QBdPaM6FcDRAuIfqkaSNNEDOseTFuo00QJZkhktmtzRA",
          "dtype": "f8"
         },
         "xaxis": "x6",
         "y": {
          "bdata": "AAAAAACweEAAAAAAADB4QAAAAAAA8HlAAAAAAAAwdkAAAAAAAKB0QAAAAAAA8HhAAAAAAACgdEAAAAAAACB3QAAAAAAA4HZAAAAAAADAdEAAAAAAAKB0QAAAAAAAsHZAAAAAAACgeEAAAAAAAOB0QAAAAAAAoHpAAAAAAAAQdUAAAAAAALB3QAAAAAAAgHZAAAAAAACwdEAAAAAAABB1QAAAAAAAkHRAAAAAAADAdkAAAAAAALB5QAAAAAAAQHZAAAAAAADgdUAAAAAAABB1QAAAAAAAwHZAAAAAAADweEAAAAAAALB0QAAAAAAAMHlAAAAAAACAdkAAAAAAADB1QAAAAAAAEHdAAAAAAABgdUAAAAAAANB5QAAAAAAA8HRAAAAAAAAQdUAAAAAAACB5QAAAAAAAQHhAAAAAAACAdEAAAAAAAPB2QAAAAAAAwHVAAAAAAABwekAAAAAAAJB1QAAAAAAAsHlAAAAAAABAdUAAAAAAAMB1QAAAAAAAQHdAAAAAAABwekAAAAAAAJB0QAAAAAAAYHVAAAAAAACAdUAAAAAAAEB6QAAAAAAAcHlAAAAAAABwdkAAAAAAAIB5QAAAAAAAIHpAAAAAAACgdEAAAAAAAKB2QAAAAAAAYHpAAAAAAACgeUAAAAAAALB1QAAAAAAAQHZAAAAAAACwdEAAAAAAANB1QAAAAAAAkHRAAAAAAAAAdUAAAAAAAKB1QAAAAAAAYHdAAAAAAABwdUAAAAAAALB0QAAAAAAA4HZAAAAAAABwdUAAAAAAAOB0QAAAAAAAcHdAAAAAAABwdEAAAAAAAJB6QAAAAAAAMHVAAAAAAACQdEAAAAAAAGB6QAAAAAAAkHRAAAAAAADgdEAAAAAAALB2QAAAAAAA0HZAAAAAAACQdEAAAAAAAHB5QAAAAAAAcHRAAAAAAAAwekAAAAAAAHB0QAAAAAAAYHVAAAAAAAAAekAAAAAAAFB1QAAAAAAAcHlAAAAAAAAQeUAAAAAAADB6QAAAAAAAcHRA",
          "dtype": "f8"
         },
         "yaxis": "y6"
        },
        {
         "hoverlabel": {
          "font": {
           "size": 10
          }
         },
         "hovertemplate": "<b>LOWESS trendline</b><br><br>discount=Low<br>Product=Carretera<br>price=%{x}<br>Quantity=%{y} <b>(trend)</b><extra></extra>",
         "legendgroup": "Low",
         "marker": {
          "color": "#FF9900",
          "size": 7,
          "symbol": "circle"
         },
         "mode": "lines",
         "name": "Low",
         "showlegend": false,
         "type": "scattergl",
         "x": {
          "bdata": "Oac1LPZyLkAV5v+0UG0vQJaCYcfCuS9AfLHfS3HpL0AM4BGfmQowQMq/f/eAJDBA93llkoZEMEAPQ5E3h2swQIgx4wXNpTBAmswqu8WtMECH4W+P6NcwQEvlNBE7/zBALDJ3GcgMMUAZ9Cg/Cw8xQNaJEhVaEzFACOSkQiUXMUCIuWiJqTUxQMYpce6QRTFAmJAsnxNMMUBeayKh63AxQBR+fIzRcTFAKug2ojZ4MUBSvC14bX4xQPX9K899mjFAwC8qJROwMUCYJO70oLExQNRBWb/HsTFA178/muuxMUAbdpDIWsAxQKbsCOWHwzFAT4mPu3/fMUD2nHg/LekxQJJ6J0GY6zFAPQH+j2/wMUD2QuJt4fIxQMMa2Jsv9jFA4ZqXXNwFMkD6aOazIw4yQG8GtfGFFTJAHuO9jGodMkADAijj3iEyQIicjqeoIjJAey1IUo8lMkC2nbMlCi8yQPbSnXhaMjJAUT86aiszMkBUli89szQyQGLWa3KIPzJA7hXSBCxNMkCQYu9MX1YyQFMOcElmWTJAj5YQ+FJnMkABqN8GQmgyQDjfnLggdDJAtS6yiWGEMkBKI24uuIoyQLflrewhjDJA0ARFkM2RMkCdx3iq9pEyQJkUQxgUlTJAYGziphKpMkDXfCXePrEyQBo8Fb+EsTJAvh+fFT+1MkCxWNoe8LoyQGWHTQnowDJAVWgRCxPJMkDleqQVFdIyQFSKgjQk4DJAHcki403qMkB+QZhfXvYyQPQe8aKFCTNAkx/l3boXM0AtqmQ5kRszQBYUZkZ/SDNAKGrGPiJLM0D4bLPhQ1AzQL9ELPBmWTNAWdCQ9rFwM0CKDOTN0nQzQCYA7DB4gDNAw8XHZQ2DM0DLQItje4kzQBGtjKLupDNAKE68YwalM0AFqSQLvbAzQHZb6FJpsTNA3lIQ6XTEM0DSxe8bytIzQOcwdWTC5TNAuZ3KpssiNEBPxdAHHFc0QBdPaM6FcDRAuIfqkaSNNEDOseTFuo00QJZkhktmtzRA",
          "dtype": "f8"
         },
         "xaxis": "x6",
         "y": {
          "bdata": "WB/s4Fykd0B67JoNa013QCpMAfVyNXdAqJ0N3/smd0CmhR8f5hl3QHUipz98CndAd3Fe7Vf3dkAQ8QmjZt92QGVagL93uXZArrvJ3Ra0dkBrGeA4Tph2QKwWZ6q2g3ZAKxc1h/B8dkCD4M+h23t2QGP4B+XdeXZA4ycKZDV4dkAv/Rm2K3F2QPrvMdqTc3ZAHvfvcR91dkBhPuez7YJ2QOf6XpdVg3ZALhn1DmCGdkDtgXfwkIl2QGDrqcAfmHZA5UMCm62jdkBZSsc1f6R2QM8VXz6TpHZA322YvaWkdkDDLQ2Kmqt2QHh9+bf6rHZAQ73oiiK4dkCmwJsTHrt2QCNK8xnXu3ZA/limNkm9dkDMFaM6CL52QCUZiKIVv3ZA0DiSsfbEdkAUa2ZU98h2QPV2mej5yHZAK2xyTNvHdkBeHTltx8Z2QJ4zryOPxnZAIWi4t77GdkCMSciuVMd2QN8vl5BWx3ZADhFRwfLGdkCf6b4zM8Z2QCywDPuuwXZAo6i4gim/dkB/RhgjCL12QPRHxDuIvHZAmSURNXa1dkAmrGXcD7V2QGXyWHm7sHZAtLpE8TGmdkDs/i730qF2QG/F9qMHoXZAppEjlTeedkBDQebUHJ52QCGk2dEenHZAnU150aSQdkC+inpkMYt2QLUfubsJi3ZAlecr9/SIdkB4LS7q0oV2QFALMmDognZA+eTexbd/dkDyeQiA6nx2QIYU6pG2eHZAvo/tQjN1dkAvx7HMv252QD4pu4WraHZAYZqEoj5ldkCKIiVy+WN2QJ8E552/XHZA43BcUjBedkDhUkl0rGF2QNjr7EsSZ3ZAbDwGHv6AdkDXI9AqsIV2QPH0nKBzknZAMnnBfSqVdkC0aszuupt2QKbcVnwQtXZALC6x4SS1dkDSQSzy+L52QDa+R2iGv3ZAE7tLi8nOdkDv+78c+tl2QGUKobSo6HZACJlcH3IZd0CZczOhdUd3QA5e8/FjX3dAaStMNh18d0Ag8VqgM3x3QI/7DeZVp3dA",
          "dtype": "f8"
         },
         "yaxis": "y6"
        },
        {
         "hoverlabel": {
          "font": {
           "size": 10
          }
         },
         "hovertemplate": "discount=Low<br>Product=Montana<br>price=%{x}<br>Quantity=%{y}<extra></extra>",
         "legendgroup": "Low",
         "marker": {
          "color": "#FF9900",
          "opacity": 0.5,
          "size": 7,
          "symbol": "circle"
         },
         "mode": "markers",
         "name": "Low",
         "showlegend": false,
         "type": "scattergl",
         "x": {
          "bdata": "X26tiehbJEDiZ8UueeokQFZsjM3jYSVAyzQXzIhpJUByD3qClqolQMd88X2hvSVAC+ao0YO+JUAjV2Tbd9YlQDyzHyoeGiZA0177ReUfJkAq2E2ztFsmQFOaZY12kCZApPGufxOgJkDlyxYqJK0mQKigGrjbwCZA+kb9NG/OJkBTBFOxBvsmQCx9XR/i/iZAmCgXuN9YJ0AzIPawlGwnQPnps/13fydAiEDPxE2AJ0AoSA40QpwnQDSevI4WrCdAzuEVjD3dJ0AN2mBckN4nQHLDeTrC5ydAktG8Ypj9J0ArSjLh5hIoQCMYpvDrFihA1qyVBCofKEDF1P6nayEoQBqAjbnUIyhALUtkEUYzKECYexLcPjUoQHalRWvEOChAi/nnAEA/KECBFicRtkAoQJl+kv9OQihAWjxpQkpLKEAIC6OkM08oQFhFcJY4UyhAl4AaoGdgKEAhOxBcGX0oQHpNJ8fynShAIGKP86q0KECJwt1qIMgoQOgj347KzyhA3UtgFyTTKEAzisqHkNkoQMbr3bRJ3yhAiLIYuwsJKUD88U1xqz4pQJ9SqFcKUSlACiiB8tVXKUA01iAeO2gpQDpejrjHeClAVuWUUy1+KUBu2xg1HYIpQHCPDrBhiSlA7J3hp16XKUDnV///3ZgpQIu+YBM0pSlAP11dWFqlKUALOwJTd8YpQL8qJlpb4ilA6WYVF53mKUAuEiYk0eYpQHkZCqhTKypAG2qmqklQKkB5Z4eQelMqQORzHm2KZSpA1BJDO8GTKkArGOCXCakqQNSIhnMAxCpA8FKGyUjdKkBDHiP69v4qQAQey9rFNStAW2scOnlWK0CYc2EGqGQrQDdbmA56eytAc4wUKK+TK0A4ifbuZbgrQA6zxovhvStA9lj+15ndK0AxqH2G+iQsQIQYpSdKNixAq5td+t+qLUA=",
          "dtype": "f8"
         },
         "xaxis": "x3",
         "y": {
          "bdata": "AAAAAACQdkAAAAAAAIB4QAAAAAAAUHVAAAAAAADAekAAAAAAANB4QAAAAAAAIHlAAAAAAAAAd0AAAAAAAHB3QAAAAAAAwHpAAAAAAABQekAAAAAAABB5QAAAAAAAMHlAAAAAAACAeUAAAAAAADB2QAAAAAAAkHZAAAAAAADgdUAAAAAAAAB1QAAAAAAAUHhAAAAAAABQeEAAAAAAANB4QAAAAAAAEHVAAAAAAAAwdUAAAAAAAAB3QAAAAAAAEHVAAAAAAABAdUAAAAAAAJB2QAAAAAAAQHlAAAAAAACQdUAAAAAAAAB7QAAAAAAAkHVAAAAAAABAekAAAAAAACB1QAAAAAAAAHVAAAAAAACgd0AAAAAAAEB1QAAAAAAAQHtAAAAAAAAwdkAAAAAAABB1QAAAAAAAMHhAAAAAAAAgdkAAAAAAACB7QAAAAAAAkHVAAAAAAADgd0AAAAAAAFB5QAAAAAAAcHVAAAAAAACweEAAAAAAAMB2QAAAAAAAQHVAAAAAAACAdUAAAAAAAMB1QAAAAAAAMHZAAAAAAACAd0AAAAAAANB3QAAAAAAA4HpAAAAAAACwdUAAAAAAAMB1QAAAAAAAsHVAAAAAAABQeEAAAAAAADB2QAAAAAAAMHdAAAAAAADgdkAAAAAAAOB6QAAAAAAAMHZAAAAAAAAgdUAAAAAAAEB4QAAAAAAAYHVAAAAAAACQd0AAAAAAAPB6QAAAAAAAcHlAAAAAAADwd0AAAAAAAAB3QAAAAAAAAHVAAAAAAAAAdkAAAAAAANB1QAAAAAAAkHZAAAAAAAAQdUAAAAAAADB1QAAAAAAAoHVAAAAAAACAdkAAAAAAADB5QAAAAAAAsHhAAAAAAACAdUAAAAAAAIB1QAAAAAAAEHVAAAAAAACQdUAAAAAAAAB1QAAAAAAAEHZAAAAAAAAAdUA=",
          "dtype": "f8"
         },
         "yaxis": "y3"
        },
        {
         "hoverlabel": {
          "font": {
           "size": 10
          }
         },
         "hovertemplate": "<b>LOWESS trendline</b><br><br>discount=Low<br>Product=Montana<br>price=%{x}<br>Quantity=%{y} <b>(trend)</b><extra></extra>",
         "legendgroup": "Low",
         "marker": {
          "color": "#FF9900",
          "size": 7,
          "symbol": "circle"
         },
         "mode": "lines",
         "name": "Low",
         "showlegend": false,
         "type": "scattergl",
         "x": {
          "bdata": "X26tiehbJEDiZ8UueeokQFZsjM3jYSVAyzQXzIhpJUByD3qClqolQMd88X2hvSVAC+ao0YO+JUAjV2Tbd9YlQDyzHyoeGiZA0177ReUfJkAq2E2ztFsmQFOaZY12kCZApPGufxOgJkDlyxYqJK0mQKigGrjbwCZA+kb9NG/OJkBTBFOxBvsmQCx9XR/i/iZAmCgXuN9YJ0AzIPawlGwnQPnps/13fydAiEDPxE2AJ0AoSA40QpwnQDSevI4WrCdAzuEVjD3dJ0AN2mBckN4nQHLDeTrC5ydAktG8Ypj9J0ArSjLh5hIoQCMYpvDrFihA1qyVBCofKEDF1P6nayEoQBqAjbnUIyhALUtkEUYzKECYexLcPjUoQHalRWvEOChAi/nnAEA/KECBFicRtkAoQJl+kv9OQihAWjxpQkpLKEAIC6OkM08oQFhFcJY4UyhAl4AaoGdgKEAhOxBcGX0oQHpNJ8fynShAIGKP86q0KECJwt1qIMgoQOgj347KzyhA3UtgFyTTKEAzisqHkNkoQMbr3bRJ3yhAiLIYuwsJKUD88U1xqz4pQJ9SqFcKUSlACiiB8tVXKUA01iAeO2gpQDpejrjHeClAVuWUUy1+KUBu2xg1HYIpQHCPDrBhiSlA7J3hp16XKUDnV///3ZgpQIu+YBM0pSlAP11dWFqlKUALOwJTd8YpQL8qJlpb4ilA6WYVF53mKUAuEiYk0eYpQHkZCqhTKypAG2qmqklQKkB5Z4eQelMqQORzHm2KZSpA1BJDO8GTKkArGOCXCakqQNSIhnMAxCpA8FKGyUjdKkBDHiP69v4qQAQey9rFNStAW2scOnlWK0CYc2EGqGQrQDdbmA56eytAc4wUKK+TK0A4ifbuZbgrQA6zxovhvStA9lj+15ndK0AxqH2G+iQsQIQYpSdKNixAq5td+t+qLUA=",
          "dtype": "f8"
         },
         "xaxis": "x3",
         "y": {
          "bdata": "5HbHSGbIeECwP7x9UYl4QGv6GVlYUHhAZPosn6dMeEBwlrttcS14QK2I5qlwJHhA2cBDNAYkeEAqw4eO1hh4QDzBz/tM+ndATIurNMf3d0DDaszGVt53QMNXIMjYx3dAN1jH28XAd0BQiNKCjbp3QF/EAY1ysHdAqgMkRd6od0DZztwLs4x3QG+pMogiindAzAciENhFd0Dgj+O2HjN3QA9Na5odI3dA9WVivUUid0A9Mfpn8AV3QPtmJr/I+XZAzg6XZqvhdkDDzS/zxuB2QBl1IOQE23ZAGByPmcXQdkBeDYTZ7Mp2QKUHfcMNynZAv+OKVqjIdkD4ygD2Ysh2QJNXZuZ4yHZAZYDkakvJdkDe5W23b8l2QEFKHOC1yXZAjaEXV0jKdkBPRjJRbMp2QCKr2NeUynZALWPprW3KdkCvdJEPasp2QG3tlol7ynZAem8mYFzLdkBnTCQYdM92QPlZ1HH91XZAX36MVbXbdkDJmIpeMOB2QCLLD9jP4XZAUzmBa6DidkDOZxDkb+R2QPO5tBrp5XZApgzjBffudkCFdyE8zfR2QK7yCa1n8XZAMiqc6N/xdkCIPhS8se12QIJPIEbd6XZAdsXChcfpdkAKGrhS/Oh2QB+A3f2e5XZAEPn3U0DidkDSlVGChuF2QH1ueAm+3XZAk+00iLrddkD5M9p1ZdV2QAeRm36ezHZAW2oqdfLLdkAnGv3Q6st2QPDOSoE9uHZA0Ne2QMmodkAx1uy7Wad2QJ9rSKAMn3ZAkLGwyfmIdkBJUSqVjH52QDy4ZnAlcXZAVrIM32ZkdkCG1jgIOFN2QEJPUMpyNnZAdmshgUsldkDMgAKR5B12QFQUD9kJEnZAtZ97P4UFdkBZZ6nzkPJ1QAA9ure773VA5NbSWFDfdUB9SuKGI7p1QAjYM5sSsXVAXPbb75zrdEA=",
          "dtype": "f8"
         },
         "yaxis": "y3"
        },
        {
         "hoverlabel": {
          "font": {
           "size": 10
          }
         },
         "hovertemplate": "discount=Low<br>Product=Paseo<br>price=%{x}<br>Quantity=%{y}<extra></extra>",
         "legendgroup": "Low",
         "marker": {
          "color": "#FF9900",
          "opacity": 0.5,
          "size": 7,
          "symbol": "circle"
         },
         "mode": "markers",
         "name": "Low",
         "showlegend": false,
         "type": "scattergl",
         "x": {
          "bdata": "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",
          "dtype": "f8"
         },
         "xaxis": "x4",
         "y": {
          "bdata": "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",
          "dtype": "f8"
         },
         "yaxis": "y4"
        },
        {
         "hoverlabel": {
          "font": {
           "size": 10
          }
         },
         "hovertemplate": "<b>LOWESS trendline</b><br><br>discount=Low<br>Product=Paseo<br>price=%{x}<br>Quantity=%{y} <b>(trend)</b><extra></extra>",
         "legendgroup": "Low",
         "marker": {
          "color": "#FF9900",
          "size": 7,
          "symbol": "circle"
         },
         "mode": "lines",
         "name": "Low",
         "showlegend": false,
         "type": "scattergl",
         "x": {
          "bdata": "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",
          "dtype": "f8"
         },
         "xaxis": "x4",
         "y": {
          "bdata": "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",
          "dtype": "f8"
         },
         "yaxis": "y4"
        },
        {
         "hoverlabel": {
          "font": {
           "size": 10
          }
         },
         "hovertemplate": "discount=Low<br>Product=Velo<br>price=%{x}<br>Quantity=%{y}<extra></extra>",
         "legendgroup": "Low",
         "marker": {
          "color": "#FF9900",
          "opacity": 0.5,
          "size": 7,
          "symbol": "circle"
         },
         "mode": "markers",
         "name": "Low",
         "showlegend": false,
         "type": "scattergl",
         "x": {
          "bdata": "vE5Tw09vPUCbju5IMp09QIcDuuua0j1AgDMKpjfTPUCIoeURHwI+QPM+WFBrIj5AC5JdEtOHPkBuaPCbO6E+QN3/CBTxwz5AviD+kuDaPkCKIAA11vw+QMWoA+1jBT9AHList2sMP0CLqae06Q4/QOtr1YsSGD9Acscl8O4lP0AAOpnn7Co/QCvCszP6LT9AOZnit3MyP0DtKddvQGY/QICtlUWHbj9A0aBGrr1xP0B+yUYxu3M/QHojOm0mfz9AOi5Lkpd/P0CmE5D1qYw/QAmInmLztT9AnoAyhye6P0BC6KJ0m7s/QDNclgTKzj9A2CsT8cXRP0DHLwYtpt0/QI+I5iOm8D9AyhzW5RfzP0BvDo6B1PM/QHkmiohn+z9AxoSW57D+P0B/lTeev/8/QITg7wgdC0BAMkxy40oTQECmDzXuxhNAQJ07M0aCFEBAFy6/Z1EYQECbXkOqySJAQF+pSl7ZKUBAK9tGowovQEC7YYpUmjNAQEXyDNUOPEBAQ4ZaFeQ9QECgvzt3Rj9AQJlrscKVQ0BAHoARxzZKQEDIwWI00E1AQIZDWAJKVUBAHtJL/2FfQEBhQT1j7GVAQIzNKNhJaEBAyf5fR+ZpQEAZHLODUnJAQHQQDCnCgEBAi0YPL4mJQEBP18WA5I5AQMn9N3JzoEBAqAr9znCsQECUVXHMx7lAQHcgtmvOu0BAaQT+7GvDQEDpNldSZ8dAQJPy/Pka0kBADvDVvszcQEBy353zeN9AQFpNP7ze40BAiC8hkpPlQEBRxxYe1PpAQB5sdcfn/kBAJmmfWcICQUCZbdUu1wxBQM6KijvMGkFAV0k+byEoQUDiIOadNUtBQA==",
          "dtype": "f8"
         },
         "xaxis": "x",
         "y": {
          "bdata": "AAAAAAAgdEAAAAAAAPB1QAAAAAAAgHNAAAAAAACQc0AAAAAAABB0QAAAAAAAUHNAAAAAAADweEAAAAAAAFBzQAAAAAAAgHdAAAAAAABwdEAAAAAAAIB0QAAAAAAAUHNAAAAAAACAdEAAAAAAAIB0QAAAAAAAwHdAAAAAAADQdEAAAAAAADBzQAAAAAAA0HZAAAAAAACQd0AAAAAAADB0QAAAAAAAoHRAAAAAAAAQdEAAAAAAACB2QAAAAAAAsHNAAAAAAACgc0AAAAAAABB1QAAAAAAAUHVAAAAAAABQeEAAAAAAAPB3QAAAAAAAUHNAAAAAAACgdkAAAAAAADBzQAAAAAAAwHdAAAAAAAAAd0AAAAAAAMB1QAAAAAAAgHZAAAAAAABgdUAAAAAAAOB4QAAAAAAAIHlAAAAAAABgdEAAAAAAALBzQAAAAAAA0HhAAAAAAADwdkAAAAAAAEBzQAAAAAAAUHVAAAAAAADQdEAAAAAAAJBzQAAAAAAAoHZAAAAAAADAdUAAAAAAALB0QAAAAAAAoHZAAAAAAAAwc0AAAAAAALB1QAAAAAAA4HNAAAAAAADwdkAAAAAAALB1QAAAAAAAIHNAAAAAAABAdkAAAAAAAPB1QAAAAAAAsHZAAAAAAACwc0AAAAAAAGBzQAAAAAAA0HhAAAAAAAAwc0AAAAAAAMBzQAAAAAAAgHRAAAAAAADQdEAAAAAAAPB2QAAAAAAAUHdAAAAAAACwdkAAAAAAAHBzQAAAAAAAYHdAAAAAAACQc0AAAAAAAEBzQAAAAAAA0HNAAAAAAAAwdEAAAAAAAHBzQAAAAAAAsHNAAAAAAACQdkAAAAAAAKB1QA==",
          "dtype": "f8"
         },
         "yaxis": "y"
        },
        {
         "hoverlabel": {
          "font": {
           "size": 10
          }
         },
         "hovertemplate": "<b>LOWESS trendline</b><br><br>discount=Low<br>Product=Velo<br>price=%{x}<br>Quantity=%{y} <b>(trend)</b><extra></extra>",
         "legendgroup": "Low",
         "marker": {
          "color": "#FF9900",
          "size": 7,
          "symbol": "circle"
         },
         "mode": "lines",
         "name": "Low",
         "showlegend": false,
         "type": "scattergl",
         "x": {
          "bdata": "vE5Tw09vPUCbju5IMp09QIcDuuua0j1AgDMKpjfTPUCIoeURHwI+QPM+WFBrIj5AC5JdEtOHPkBuaPCbO6E+QN3/CBTxwz5AviD+kuDaPkCKIAA11vw+QMWoA+1jBT9AHList2sMP0CLqae06Q4/QOtr1YsSGD9Acscl8O4lP0AAOpnn7Co/QCvCszP6LT9AOZnit3MyP0DtKddvQGY/QICtlUWHbj9A0aBGrr1xP0B+yUYxu3M/QHojOm0mfz9AOi5Lkpd/P0CmE5D1qYw/QAmInmLztT9AnoAyhye6P0BC6KJ0m7s/QDNclgTKzj9A2CsT8cXRP0DHLwYtpt0/QI+I5iOm8D9AyhzW5RfzP0BvDo6B1PM/QHkmiohn+z9AxoSW57D+P0B/lTeev/8/QITg7wgdC0BAMkxy40oTQECmDzXuxhNAQJ07M0aCFEBAFy6/Z1EYQECbXkOqySJAQF+pSl7ZKUBAK9tGowovQEC7YYpUmjNAQEXyDNUOPEBAQ4ZaFeQ9QECgvzt3Rj9AQJlrscKVQ0BAHoARxzZKQEDIwWI00E1AQIZDWAJKVUBAHtJL/2FfQEBhQT1j7GVAQIzNKNhJaEBAyf5fR+ZpQEAZHLODUnJAQHQQDCnCgEBAi0YPL4mJQEBP18WA5I5AQMn9N3JzoEBAqAr9znCsQECUVXHMx7lAQHcgtmvOu0BAaQT+7GvDQEDpNldSZ8dAQJPy/Pka0kBADvDVvszcQEBy353zeN9AQFpNP7ze40BAiC8hkpPlQEBRxxYe1PpAQB5sdcfn/kBAJmmfWcICQUCZbdUu1wxBQM6KijvMGkFAV0k+byEoQUDiIOadNUtBQA==",
          "dtype": "f8"
         },
         "xaxis": "x",
         "y": {
          "bdata": "5OQ5tv8GdEAti9iVPCN0QK4yj6B+RHRAwDY8JOBEdECyv87V2mF0QDUUyup9dXRABVVc91ixdED7BaeEK8B0QEECBfqi1HRAsIKesNzidEA13aHix/t0QFoVP/VkA3VA+TLeGA0KdUD0h0wKYgx1QPYuitg7FXVAHGFpx94idUAsovTkXCd1QNqDbCgOKnVAD4wDlD4udUAElGaN0VN1QLxcNy9MWHVA2zpz9/FZdUAFI7JN81p1QK1d8b9mYHVAPloYiZVgdUDJ+ysUR2Z1QMi7mPb3e3VA4Z6bzFF8dUBlqjb7XXx1QKcnu8GZgXVA1yZo6emCdUCxDq07NYR1QDjUK9bxinVAw0gIXRGMdUAiHB6bcYx1QIa31WVEkHVAF7x0dHGQdUAcLFk+UZB1QFxH+KLikXVAJ8pX9giTdUBGM7UFwJJ1QEV9XCZRknVABkqoOWeSdUCAiZ7NAI11QEssKGNGiHVAYI7Q8u6EdUCUZ+51dn91QPWZ16azdHVA1i62l3xydUAms7aQ9XB1QFXb1KnNa3VAd0zRAT5hdUAMVqGqKlt1QABXfrssVXVAsWmp1/5OdUDhTdNe7Up1QJwF75DJSXVAu923ZOhIdUD9+O9xnUB1QNliQzRqL3VA211beiEkdUAOGD4MBR11QO6eDoxlCHVAqjIRxub9dECcKwash/R0QOsRDyw983RABkguyJjudECPtOUTR+x0QLQlJYJN5nRA9khGGozgdECZA2XfHt90QOKTfz7F3HRAfdSRINvbdEBihJWpHtB0QFSRtunCzXRATMeUnX7LdEB+Qh5rZ8V0QEiaO8SqvHRAXMRBpCm0dEDSV5y/Tp50QA==",
          "dtype": "f8"
         },
         "yaxis": "y"
        },
        {
         "hoverlabel": {
          "font": {
           "size": 10
          }
         },
         "hovertemplate": "discount=Low<br>Product=VTT<br>price=%{x}<br>Quantity=%{y}<extra></extra>",
         "legendgroup": "Low",
         "marker": {
          "color": "#FF9900",
          "opacity": 0.5,
          "size": 7,
          "symbol": "circle"
         },
         "mode": "markers",
         "name": "Low",
         "showlegend": false,
         "type": "scattergl",
         "x": {
          "bdata": "JU/DXxZdLECV6Z8eXPssQM4U6rhq/yxA9qAbqHkQLUB47Uw4qXgtQIiwR0qd8S1ABOipBGJULkBcHXPSUX8uQHg3qlEajy5ALqoh29nVLkCm72++ndkuQM6PRiCTKy9AV88u5kpWL0D8AL+B3ZovQFapjZNvpi9Acy3xO9HRL0B6NiuHZvUvQMbKQkgYHTBApm7LNdQ0MEAUK+Q0EEMwQN2QeX3JTDBABW0yFxdOMECqahc3NFowQGQ/dfV2XzBAuPTiTKR5MEAVyb99iHowQLqkJtgejzBAtucWio2YMECIRq72Fb0wQLRlUDNevzBAfHEnPJTfMECMveJnovIwQHZI1aFO/zBA0zlwPJj/MECtKGhj/yMxQC6Hu63ALjFAjHbD154wMUC9PDLJfTYxQPU3vEE/PTFAJIHhO9I9MUDsEJ/KK0AxQLjDeF6gRDFAcDfYHWFXMUALPrGcp1wxQKOxAzSRXzFAd+dBSRFzMUAtbmkKC3wxQBiN+rwogzFAoUAEnjqfMUBI3N4Bl6MxQPZZ2PArpTFAAlHWss+mMUA5Fn3p268xQARfBfkJtjFAvx2SnZ63MUDLBNNHitcxQDXR60+Q4TFAfzuB+yDsMUDdzGNhmPMxQAABaAMD+DFAVKvTd2L+MUCEJNarYgUyQKbaBvSPCTJA3Mg9/pEPMkDajS4AXCAyQHDg2vcNJDJAImhYlIhAMkCDijRMqlAyQHKMqHOCWjJAr5BPlhxpMkCiFo5/h3IyQAdAcd9QkjJAinlvnTStMkCVxj7g1bAyQHI2SjmAtDJA6dzSLRO+MkAXRozG3MMyQDDweDtS8zJAYEMp0Q0FM0AackFnuxEzQDK2EP3LFDNAP+EdNUEcM0CKHg2lMSczQBeS+DIROjNAPB2j7bJTM0Cb+0Eb21czQJZvqzr/ZjNADt6gWCVoM0CGYcmBLmwzQNj74H07cjNA6NsUa8J/M0DWhgp+GoczQOlb2HHvkDNAKCt4WvWZM0DJpMgwm58zQD8D/7cSszNA+G+mhiu4M0Dnmyag6OYzQOO/M7ieDDRA2+bCPN0RNEBjpxFdMyA0QB8FtShiOTRAkULo17emNEB8gqYVbLY0QA==",
          "dtype": "f8"
         },
         "xaxis": "x2",
         "y": {
          "bdata": "AAAAAAAgcUAAAAAAAABxQAAAAAAAoHJAAAAAAADAb0AAAAAAABB1QAAAAAAAcHBAAAAAAABQdEAAAAAAAFBwQAAAAAAAkHRAAAAAAAAAdkAAAAAAAOBzQAAAAAAAIHBAAAAAAABQcEAAAAAAANBxQAAAAAAAMHBAAAAAAABwcEAAAAAAADB0QAAAAAAAEHBAAAAAAAAwcEAAAAAAAFB0QAAAAAAA8HFAAAAAAABwcEAAAAAAAABwQAAAAAAAEHRAAAAAAACAcEAAAAAAAEB0QAAAAAAAgHFAAAAAAABAcUAAAAAAAFBzQAAAAAAA0HJAAAAAAAAgcEAAAAAAAIBvQAAAAAAAIHRAAAAAAAAwcEAAAAAAAOBvQAAAAAAA4HNAAAAAAADAb0AAAAAAAAB1QAAAAAAAMHBAAAAAAACgb0AAAAAAAKBwQAAAAAAAQHBAAAAAAACwcEAAAAAAAJBxQAAAAAAAEHRAAAAAAABgcUAAAAAAANBzQAAAAAAAkHJAAAAAAAAgcEAAAAAAAJBzQAAAAAAAEHBAAAAAAACQdEAAAAAAALBzQAAAAAAAwG9AAAAAAADQcEAAAAAAACByQAAAAAAAMHFAAAAAAACAdEAAAAAAAJB0QAAAAAAAoHFAAAAAAAAgckAAAAAAACB1QAAAAAAAcHBAAAAAAADgb0AAAAAAAABzQAAAAAAAoHBAAAAAAACgc0AAAAAAAKByQAAAAAAAIHBAAAAAAADwcUAAAAAAANBzQAAAAAAA8HBAAAAAAAAgcEAAAAAAAFBxQAAAAAAAQHRAAAAAAAAAcEAAAAAAAFB0QAAAAAAA8HRAAAAAAACgcEAAAAAAAKB0QAAAAAAAIHJAAAAAAACgcEAAAAAAAMBwQAAAAAAAgHRAAAAAAABAcUAAAAAAAIBzQAAAAAAAAHFAAAAAAAAgdkAAAAAAAFBwQAAAAAAAAHBAAAAAAADAb0AAAAAAAHB0QAAAAAAAUHFAAAAAAADwckAAAAAAAFB0QAAAAAAAgHJAAAAAAACAcUAAAAAAAABwQAAAAAAAkHFAAAAAAADQdUAAAAAAAABwQAAAAAAAMHVAAAAAAAAQcEAAAAAAAPByQA==",
          "dtype": "f8"
         },
         "yaxis": "y2"
        },
        {
         "hoverlabel": {
          "font": {
           "size": 10
          }
         },
         "hovertemplate": "<b>LOWESS trendline</b><br><br>discount=Low<br>Product=VTT<br>price=%{x}<br>Quantity=%{y} <b>(trend)</b><extra></extra>",
         "legendgroup": "Low",
         "marker": {
          "color": "#FF9900",
          "size": 7,
          "symbol": "circle"
         },
         "mode": "lines",
         "name": "Low",
         "showlegend": false,
         "type": "scattergl",
         "x": {
          "bdata": "JU/DXxZdLECV6Z8eXPssQM4U6rhq/yxA9qAbqHkQLUB47Uw4qXgtQIiwR0qd8S1ABOipBGJULkBcHXPSUX8uQHg3qlEajy5ALqoh29nVLkCm72++ndkuQM6PRiCTKy9AV88u5kpWL0D8AL+B3ZovQFapjZNvpi9Acy3xO9HRL0B6NiuHZvUvQMbKQkgYHTBApm7LNdQ0MEAUK+Q0EEMwQN2QeX3JTDBABW0yFxdOMECqahc3NFowQGQ/dfV2XzBAuPTiTKR5MEAVyb99iHowQLqkJtgejzBAtucWio2YMECIRq72Fb0wQLRlUDNevzBAfHEnPJTfMECMveJnovIwQHZI1aFO/zBA0zlwPJj/MECtKGhj/yMxQC6Hu63ALjFAjHbD154wMUC9PDLJfTYxQPU3vEE/PTFAJIHhO9I9MUDsEJ/KK0AxQLjDeF6gRDFAcDfYHWFXMUALPrGcp1wxQKOxAzSRXzFAd+dBSRFzMUAtbmkKC3wxQBiN+rwogzFAoUAEnjqfMUBI3N4Bl6MxQPZZ2PArpTFAAlHWss+mMUA5Fn3p268xQARfBfkJtjFAvx2SnZ63MUDLBNNHitcxQDXR60+Q4TFAfzuB+yDsMUDdzGNhmPMxQAABaAMD+DFAVKvTd2L+MUCEJNarYgUyQKbaBvSPCTJA3Mg9/pEPMkDajS4AXCAyQHDg2vcNJDJAImhYlIhAMkCDijRMqlAyQHKMqHOCWjJAr5BPlhxpMkCiFo5/h3IyQAdAcd9QkjJAinlvnTStMkCVxj7g1bAyQHI2SjmAtDJA6dzSLRO+MkAXRozG3MMyQDDweDtS8zJAYEMp0Q0FM0AackFnuxEzQDK2EP3LFDNAP+EdNUEcM0CKHg2lMSczQBeS+DIROjNAPB2j7bJTM0Cb+0Eb21czQJZvqzr/ZjNADt6gWCVoM0CGYcmBLmwzQNj74H07cjNA6NsUa8J/M0DWhgp+GoczQOlb2HHvkDNAKCt4WvWZM0DJpMgwm58zQD8D/7cSszNA+G+mhiu4M0Dnmyag6OYzQOO/M7ieDDRA2+bCPN0RNEBjpxFdMyA0QB8FtShiOTRAkULo17emNEB8gqYVbLY0QA==",
          "dtype": "f8"
         },
         "xaxis": "x2",
         "y": {
          "bdata": "+0sQXIEQckD0T6eeIgdyQHE756rgBnJAWsHRVMkFckBS/HW79P5xQKsReIMt93FAXx+1mVrxcUBMOQLRFu9xQIU9zLBO7nFATQxAvC7rcUA1aK3bCOtxQBVEnWI+6HFA3Rsj7QrncUCuy4S7Q+VxQCd8M0b15HFAdL5dCLHjcUDITBK9YeJxQOevfO9D3nFAxOEeZhvZcUA25I+FutRxQEXwo6DL0nFATWK78FjScUAOnYZo3s1xQGyXjT7Cy3FATpzl2KvCcUCsW/kuqcJxQDwaTxhowXFAWfRZWv7BcUD83FS9KbpxQPtqchqxuXFAyZyb0bO2cUBOSCZbU7lxQK5GW1dkvHFArzZtnH28cUBIfejN2cdxQObdVQAZy3FATjGLQKHLcUDWb7l0Qs1xQAIndSsaz3FAd8yzpUHPcUCEDufn489xQFDUDEUP0XFAdtqEK03VcUBlr7NnUNZxQBZywtXZ1nFAq6tXkZjacUCVADUhtdxxQKhdZjSW3nFA10T7fqvlcUArhMiBqeZxQKeKFsMH53FAUSHjj2rncUC0PHq5welxQItwx6Fg63FAHwbRR9DrcUA5MI2KhvZxQLop52pI+nFAGJjIdkb+cUC8Bm5aEAFyQGb01OFZAnJAlH1hRjAFckDG7HHkaghyQNNQMXB0CXJApsa8rn4LckAhyjX5ohByQKmLaw4QEnJAxM4Ok6wbckC/IjflUx1yQHvVpDmxHnJAsWnKKdsgckA22Y1E2iNyQEfzkGw+KXJAQJRsMl8pckCBEkp6bSlyQDz/IwODKXJAJH2JGN8pckBffI6kLypyQNwt3av2LXJAuD+gO5YvckBrnXGajzByQIl802TEMHJA/KOecTgxckCLM+npwzFyQMRu8spqMnJAGjx6hOEyckALTOkU7DJyQK9HJRcDM3JAwXUn9AMzckCikT8aBjNyQItqbNkGM3JA3wH2Tf8yckBF2BwX9zJyQEWnayvpMnJAVcjMa9oyckAsPbqj0DJyQPqD+zmtMnJASf/Mi6MyckBVr12HQjJyQGy/xp3uMXJAG4Qm+OMxckA+spxFyTFyQD4nPXmiMXJAd15VTBExckCHAvd+4jByQA==",
          "dtype": "f8"
         },
         "yaxis": "y2"
        },
        {
         "hoverlabel": {
          "font": {
           "size": 10
          }
         },
         "hovertemplate": "discount=No Discount<br>Product=Amarilla<br>price=%{x}<br>Quantity=%{y}<extra></extra>",
         "legendgroup": "No Discount",
         "marker": {
          "color": "#109618",
          "opacity": 0.5,
          "size": 7,
          "symbol": "circle"
         },
         "mode": "markers",
         "name": "No Discount",
         "showlegend": true,
         "type": "scattergl",
         "x": {
          "bdata": "u8AW+5oJJkCV2hfpxwkmQC4l4oYHLCZA5vtZ7JhDJkCG5v6lLU0mQCVqptYhiyZA5lW3nnygJkCBCkyBBMAmQNC1nNSybSdAnBL9QAcAKEDmuCOh2gMoQDPX5Bf5AyhAsxynATcgKECsD5oDuyMoQJlhsSJlUyhAOr9RxYxUKEC1Z4N4Z3UoQCPUpZ+FdyhAAIo7RxenKEB3ehSEqqEpQMLRVyvtHCpAaPnNkhAiKkBbWfSkJzEqQAILBq5CNypA32pG1Ac8KkDPs7xlNU8qQLGHmEHFUypARp/osOtWKkAQ9iUp9/wqQO+v1WuSAitAJxHMZSygK0AhMKwCOb4rQA==",
          "dtype": "f8"
         },
         "xaxis": "x5",
         "y": {
          "bdata": "AAAAAADgcUAAAAAAAKBwQAAAAAAA4G5AAAAAAABAbEAAAAAAAGBrQAAAAAAAYGtAAAAAAACgb0AAAAAAAABxQAAAAAAAoGtAAAAAAAAgbEAAAAAAAGBtQAAAAAAAgHFAAAAAAABgcUAAAAAAAGBvQAAAAAAAYGxAAAAAAADgakAAAAAAABBwQAAAAAAAAHFAAAAAAADwcUAAAAAAANByQAAAAAAAYGtAAAAAAADgakAAAAAAAEBxQAAAAAAAQG1AAAAAAAAAcUAAAAAAAJBzQAAAAAAAwGxAAAAAAACQcEAAAAAAAMBsQAAAAAAAEHJAAAAAAADgakAAAAAAAMBtQA==",
          "dtype": "f8"
         },
         "yaxis": "y5"
        },
        {
         "hoverlabel": {
          "font": {
           "size": 10
          }
         },
         "hovertemplate": "<b>LOWESS trendline</b><br><br>discount=No Discount<br>Product=Amarilla<br>price=%{x}<br>Quantity=%{y} <b>(trend)</b><extra></extra>",
         "legendgroup": "No Discount",
         "marker": {
          "color": "#109618",
          "size": 7,
          "symbol": "circle"
         },
         "mode": "lines",
         "name": "No Discount",
         "showlegend": false,
         "type": "scattergl",
         "x": {
          "bdata": "u8AW+5oJJkCV2hfpxwkmQC4l4oYHLCZA5vtZ7JhDJkCG5v6lLU0mQCVqptYhiyZA5lW3nnygJkCBCkyBBMAmQNC1nNSybSdAnBL9QAcAKEDmuCOh2gMoQDPX5Bf5AyhAsxynATcgKECsD5oDuyMoQJlhsSJlUyhAOr9RxYxUKEC1Z4N4Z3UoQCPUpZ+FdyhAAIo7RxenKEB3ehSEqqEpQMLRVyvtHCpAaPnNkhAiKkBbWfSkJzEqQAILBq5CNypA32pG1Ac8KkDPs7xlNU8qQLGHmEHFUypARp/osOtWKkAQ9iUp9/wqQO+v1WuSAitAJxHMZSygK0AhMKwCOb4rQA==",
          "dtype": "f8"
         },
         "xaxis": "x5",
         "y": {
          "bdata": "kCkBEeHQbkB9oaDW5NBuQDvovJA+1G5AR4cSk//WbkCJ9/ClMdhuQJOUFxS94G5AORNbb/zjbkBn8NvaHeluQOzKjZc+D29AoVr8ZtRHb0Bnf5yl0UpvQLnKxmzqSm9Ao9vUo61yb0CFeI78LndvQPGafbqW229AdBzdM/zeb0CnclzsaSZwQCrEwuxTKnBAh0e7Os8PcEDH9yVd001wQKcnC002HnBAbomtK5oacEDFd2BiMQ9wQPf8xu1JCnBAZnF4gFwGcED8W/PMxutvQGnK2Put429A17RqZAreb0DoILGgGJ9uQEbJ6DwjlG5AOiIiGlhebUB3I0Dj6CFtQA==",
          "dtype": "f8"
         },
         "yaxis": "y5"
        },
        {
         "hoverlabel": {
          "font": {
           "size": 10
          }
         },
         "hovertemplate": "discount=No Discount<br>Product=Carretera<br>price=%{x}<br>Quantity=%{y}<extra></extra>",
         "legendgroup": "No Discount",
         "marker": {
          "color": "#109618",
          "opacity": 0.5,
          "size": 7,
          "symbol": "circle"
         },
         "mode": "markers",
         "name": "No Discount",
         "showlegend": false,
         "type": "scattergl",
         "x": {
          "bdata": "alSV7wwAM0DBZDfFSgAzQLq09TW+FDNA06fUGcobM0DjJMLlSTkzQEnOQTrSQjNAXxR3Dk9HM0BJGzXtb2ozQOpCut3NhzNApjQIxwoANEBi1qaeJwA0QOdpAcV0BTRAV063ovAINECCEKYxP6o0QOncCHM12jRAdqAl4xAANUB8rIYGfAs1QO+pez1NDDVA7CXv380rNUDKxhTIwiw1QOhy4f4DRTVA9xPUKCxRNUAS0OvCqHY1QGdBgzt02DVA",
          "dtype": "f8"
         },
         "xaxis": "x6",
         "y": {
          "bdata": "AAAAAAAAa0AAAAAAAEBqQAAAAAAAYHJAAAAAAAAQckAAAAAAAGBqQAAAAAAAgG5AAAAAAACgbUAAAAAAAEBqQAAAAAAA4HFAAAAAAAAgbUAAAAAAAOBqQAAAAAAAkHJAAAAAAABAa0AAAAAAAEBxQAAAAAAAIGpAAAAAAABgakAAAAAAAPBxQAAAAAAAYGpAAAAAAACga0AAAAAAAGBqQAAAAAAA4HJAAAAAAACAakAAAAAAAEBrQAAAAAAAYGxA",
          "dtype": "f8"
         },
         "yaxis": "y6"
        },
        {
         "hoverlabel": {
          "font": {
           "size": 10
          }
         },
         "hovertemplate": "<b>LOWESS trendline</b><br><br>discount=No Discount<br>Product=Carretera<br>price=%{x}<br>Quantity=%{y} <b>(trend)</b><extra></extra>",
         "legendgroup": "No Discount",
         "marker": {
          "color": "#109618",
          "size": 7,
          "symbol": "circle"
         },
         "mode": "lines",
         "name": "No Discount",
         "showlegend": false,
         "type": "scattergl",
         "x": {
          "bdata": "alSV7wwAM0DBZDfFSgAzQLq09TW+FDNA06fUGcobM0DjJMLlSTkzQEnOQTrSQjNAXxR3Dk9HM0BJGzXtb2ozQOpCut3NhzNApjQIxwoANEBi1qaeJwA0QOdpAcV0BTRAV063ovAINECCEKYxP6o0QOncCHM12jRAdqAl4xAANUB8rIYGfAs1QO+pez1NDDVA7CXv380rNUDKxhTIwiw1QOhy4f4DRTVA9xPUKCxRNUAS0OvCqHY1QGdBgzt02DVA",
          "dtype": "f8"
         },
         "xaxis": "x6",
         "y": {
          "bdata": "F+ugtv4UbkCEFTCcDxVuQIo+3PtdGm5Afu2OaSocbkCvaDEcvyNuQBtZBvQQJm5ATHSTAx4nbkCDv0CfJS5uQIJqKuz7MW5AKLBZHWRxbkCcIS+UgHFuQALwu1O/c25AX7hvmkd2bkAo2IFPBYNtQJNlpKpUpW1AOW5s41VZbUDqOXq+5S5tQIOVNQcmLG1Ah9PsCmjYbECCLcDyVdZsQPaB6jjrpmxABE+1GfGRbEAMT6uNcFdsQKJjqKG01GtA",
          "dtype": "f8"
         },
         "yaxis": "y6"
        },
        {
         "hoverlabel": {
          "font": {
           "size": 10
          }
         },
         "hovertemplate": "discount=No Discount<br>Product=Montana<br>price=%{x}<br>Quantity=%{y}<extra></extra>",
         "legendgroup": "No Discount",
         "marker": {
          "color": "#109618",
          "opacity": 0.5,
          "size": 7,
          "symbol": "circle"
         },
         "mode": "markers",
         "name": "No Discount",
         "showlegend": false,
         "type": "scattergl",
         "x": {
          "bdata": "wAz5PS4BLEC0s0F4xwUsQAPBC78yDSxAz+I3NGwaLECp0IeZkDAsQI9EkumtSSxAeoIxV8pYLECJr8wYULcsQCjiT1KW0C1Ar7RfxHPlLUAjd/Sv3wAuQAoRfjeqAy5AvIt/nsodLkAsmQJ4UikuQFud6Lr4QC5ANyFO1pzbLkDz070KAt8uQBjBSrsO/C5Arw56Wd8ZL0CSHIl5FzkvQLEdfDxahS9A2ZDckrqjL0A6MhVRzOwvQJwmbEsAADBAkPN7T/QAMEDL0nOSNgEwQIhiXvF2CTBAm2nytpENMED8iTMSCxgwQFqqYnOfGTBAZKCeD0AhMECLFuys8i0wQExeI44HPjBALB69CA1PMEDsrzGuMVUwQJb2PP89XzBANJj/aN90MECKxL6X3LgwQMC+1sGQuTBA2gbZwJH+MEA=",
          "dtype": "f8"
         },
         "xaxis": "x3",
         "y": {
          "bdata": "AAAAAACgbEAAAAAAAKBqQAAAAAAAIGtAAAAAAABgcEAAAAAAAEByQAAAAAAA4GpAAAAAAADgbUAAAAAAAIBtQAAAAAAAYGtAAAAAAACgbEAAAAAAAHByQAAAAAAAoGpAAAAAAAAgbkAAAAAAAKBtQAAAAAAA4HFAAAAAAABAbUAAAAAAACBxQAAAAAAAQG5AAAAAAADAakAAAAAAAKBqQAAAAAAAIG9AAAAAAABAcEAAAAAAAKBqQAAAAAAAMHBAAAAAAADAbUAAAAAAAMBuQAAAAAAAYGtAAAAAAACgakAAAAAAAMBqQAAAAAAA8HJAAAAAAADga0AAAAAAAKBrQAAAAAAAoGpAAAAAAACgakAAAAAAAOBqQAAAAAAAgG5AAAAAAACgbEAAAAAAAFByQAAAAAAAwGpAAAAAAABAbkA=",
          "dtype": "f8"
         },
         "yaxis": "y3"
        },
        {
         "hoverlabel": {
          "font": {
           "size": 10
          }
         },
         "hovertemplate": "<b>LOWESS trendline</b><br><br>discount=No Discount<br>Product=Montana<br>price=%{x}<br>Quantity=%{y} <b>(trend)</b><extra></extra>",
         "legendgroup": "No Discount",
         "marker": {
          "color": "#109618",
          "size": 7,
          "symbol": "circle"
         },
         "mode": "lines",
         "name": "No Discount",
         "showlegend": false,
         "type": "scattergl",
         "x": {
          "bdata": "wAz5PS4BLEC0s0F4xwUsQAPBC78yDSxAz+I3NGwaLECp0IeZkDAsQI9EkumtSSxAeoIxV8pYLECJr8wYULcsQCjiT1KW0C1Ar7RfxHPlLUAjd/Sv3wAuQAoRfjeqAy5AvIt/nsodLkAsmQJ4UikuQFud6Lr4QC5ANyFO1pzbLkDz070KAt8uQBjBSrsO/C5Arw56Wd8ZL0CSHIl5FzkvQLEdfDxahS9A2ZDckrqjL0A6MhVRzOwvQJwmbEsAADBAkPN7T/QAMEDL0nOSNgEwQIhiXvF2CTBAm2nytpENMED8iTMSCxgwQFqqYnOfGTBAZKCeD0AhMECLFuys8i0wQExeI44HPjBALB69CA1PMEDsrzGuMVUwQJb2PP89XzBANJj/aN90MECKxL6X3LgwQMC+1sGQuTBA2gbZwJH+MEA=",
          "dtype": "f8"
         },
         "xaxis": "x3",
         "y": {
          "bdata": "xTaVCb0UbUBSzaTDnxZtQOgHWhqqGW1A2LnhaRUfbUDX1bOHLyhtQBwB3KSTMm1AVlz6bds4bUDiV44DkWBtQNMV7lW+0W1A/jdysRrXbUB+X6mMutptQJsvAtMn221AuaeQhkvfbUCitNTei+JtQNIBZF0n6G1ACZIAEvvobUBEC+2wTOltQAx9TLe07W1AbkdB3C70bUDjswc6QOhtQJNc32Wpdm1ArqZo1K5JbUDG90KKoOtsQEFixQtO2mxA7NR3vcjYbEBMTSuFYNhsQEYO4ZuUzGxAFMXszeDEbEA5jR7RjrhsQMi2mVtHt2xATVvDcbyybEAZ5rLKSrBsQPy4xlCWsmxAODAUsH23bECZbYKpd7lsQF5XaOfOvGxA5C3gZnrEbEDI+cCRJeVsQE4rQyeX5WxAOsj09hoebUA=",
          "dtype": "f8"
         },
         "yaxis": "y3"
        },
        {
         "hoverlabel": {
          "font": {
           "size": 10
          }
         },
         "hovertemplate": "discount=No Discount<br>Product=Paseo<br>price=%{x}<br>Quantity=%{y}<extra></extra>",
         "legendgroup": "No Discount",
         "marker": {
          "color": "#109618",
          "opacity": 0.5,
          "size": 7,
          "symbol": "circle"
         },
         "mode": "markers",
         "name": "No Discount",
         "showlegend": false,
         "type": "scattergl",
         "x": {
          "bdata": "UWcHyweBSEBYttwJrYFIQID57rCIhUhApIe7G1qHSEDBl9Ya1oxIQOZ15y+njUhAPTWqS8mUSECU3KYX1Z5IQL6vj7wen0hAUjh5rLCySEA460zknb9IQGi+JXWgv0hA5mHlr8zJSEBeGliCiMxIQJ1r/PN/00hAjEm5U+ngSECfVwhdEeFIQF2J208H6EhALOjUupvuSEDjOLr0jgJJQGHF2WEzA0lAlc7/l3cESUCzEfSUegVJQMsrtO5XBklAEy9X33gGSUBA3g9+uQpJQGwq+/kzD0lAazlNK4IVSUCGGglGYBxJQD/O7d4lH0lAI7uiCeofSUA2AaJ/RidJQFI8h1L/K0lAGt/BjkM8SUDUEH110UFJQEPGDov0SElAgucQorpKSUA7MxAZnlNJQIJV0MuGYklA1UnNtlaASUDRaLe+HoFJQG5YdryFgklA1iIkhAKGSUCHR2dd65FJQBoSv1Eyk0lA/2mSrT2TSUCMLF5XGpZJQJhKwpSenUlAb4vABhqfSUCgWf9fh6NJQEypBUV/p0lAJYOHIXqoSUDxD8nHQqpJQN1zZXqwq0lAA/11FJ6tSUBhCRN/EMZJQEkB/QJo2ElAFdqHyT3ZSUBvs45UAPtJQKpAcizx/ElA",
          "dtype": "f8"
         },
         "xaxis": "x4",
         "y": {
          "bdata": "AAAAAADgZkAAAAAAACBjQAAAAAAAQGpAAAAAAABAYkAAAAAAAEBmQAAAAAAA4GNAAAAAAADgZEAAAAAAAGBkQAAAAAAAYGJAAAAAAABgbEAAAAAAAIBiQAAAAAAAIGJAAAAAAACAZEAAAAAAAEBiQAAAAAAA4GRAAAAAAAAgYkAAAAAAACBrQAAAAAAAQGJAAAAAAAAgYkAAAAAAAEBsQAAAAAAAoGJAAAAAAAAgYkAAAAAAAEBmQAAAAAAAQGpAAAAAAADgY0AAAAAAAIBiQAAAAAAAIGRAAAAAAACAY0AAAAAAAMBiQAAAAAAAoGtAAAAAAADAY0AAAAAAAEBjQAAAAAAAIGJAAAAAAADAa0AAAAAAAKBpQAAAAAAAoGVAAAAAAAAgbkAAAAAAAOBlQAAAAAAAIGpAAAAAAABAbEAAAAAAACBiQAAAAAAAoGNAAAAAAABgYkAAAAAAAABpQAAAAAAAYGNAAAAAAABgaUAAAAAAACBiQAAAAAAAoGJAAAAAAADAa0AAAAAAAEBrQAAAAAAAIGJAAAAAAACAaUAAAAAAAOBkQAAAAAAAoGxAAAAAAACgaEAAAAAAAIBmQAAAAAAAYGJAAAAAAADAYkAAAAAAAEBlQAAAAAAAwGdA",
          "dtype": "f8"
         },
         "yaxis": "y4"
        },
        {
         "hoverlabel": {
          "font": {
           "size": 10
          }
         },
         "hovertemplate": "<b>LOWESS trendline</b><br><br>discount=No Discount<br>Product=Paseo<br>price=%{x}<br>Quantity=%{y} <b>(trend)</b><extra></extra>",
         "legendgroup": "No Discount",
         "marker": {
          "color": "#109618",
          "size": 7,
          "symbol": "circle"
         },
         "mode": "lines",
         "name": "No Discount",
         "showlegend": false,
         "type": "scattergl",
         "x": {
          "bdata": "UWcHyweBSEBYttwJrYFIQID57rCIhUhApIe7G1qHSEDBl9Ya1oxIQOZ15y+njUhAPTWqS8mUSECU3KYX1Z5IQL6vj7wen0hAUjh5rLCySEA460zknb9IQGi+JXWgv0hA5mHlr8zJSEBeGliCiMxIQJ1r/PN/00hAjEm5U+ngSECfVwhdEeFIQF2J208H6EhALOjUupvuSEDjOLr0jgJJQGHF2WEzA0lAlc7/l3cESUCzEfSUegVJQMsrtO5XBklAEy9X33gGSUBA3g9+uQpJQGwq+/kzD0lAazlNK4IVSUCGGglGYBxJQD/O7d4lH0lAI7uiCeofSUA2AaJ/RidJQFI8h1L/K0lAGt/BjkM8SUDUEH110UFJQEPGDov0SElAgucQorpKSUA7MxAZnlNJQIJV0MuGYklA1UnNtlaASUDRaLe+HoFJQG5YdryFgklA1iIkhAKGSUCHR2dd65FJQBoSv1Eyk0lA/2mSrT2TSUCMLF5XGpZJQJhKwpSenUlAb4vABhqfSUCgWf9fh6NJQEypBUV/p0lAJYOHIXqoSUDxD8nHQqpJQN1zZXqwq0lAA/11FJ6tSUBhCRN/EMZJQEkB/QJo2ElAFdqHyT3ZSUBvs45UAPtJQKpAcizx/ElA",
          "dtype": "f8"
         },
         "xaxis": "x4",
         "y": {
          "bdata": "D+hvyuTKZEAZeDaeScpkQMRQFYXFxmRAQsNZ5y3FZECLFYfXnsBkQKrF8vr4v2RA5nC9dKS6ZECAKL59ELRkQP6EMwDks2RAaBitvtqpZEBTAvf7+aRkQI3bSRf5pGRAiuWsQGyhZEBEKjsxa6BkQHyYdTSUnWRAlLGP5KqVZEAJ31Kgi5VkQFGGm3KGj2RAep6TOvSLZEAmSnzSQ/hkQI10YWAN+2RAWxqmBEwDZUCz3S4BAAplQA/Byr8oEWVA0pk/qjkSZUCMXkGPDy5lQB3WUSvJUWVA/f/9YX98ZUCLvwpG4qllQOy7TlMat2VABPr2Rn68ZUDdIx1x8fFlQBPNEibhDmZAnwOMPSY6ZkBbO2g4HU5mQG6efoCzV2ZAsTYgnjZSZkDMjLrCkVRmQLfSYoAGjWZAquHEq8zZZkAl1ZEM0dlmQNW/qcfr1WZAt01VlhTLZkDPameOT6FmQND0ZUrbnGZAZO6O3LOcZkAOvDv54JJmQBUqwHA1emZAN9YIuIp1ZkAGSVaS+WdmQJ6KYRE/XGZAtIbVx2dZZkCteaz2SFRmQGTiLKw6UGZAGSN9I9BKZkDjddgnwghmQMS+Ea8R1mVAODJl0K3TZUDSv5M9Rm5lQFaHc3VSaGVA",
          "dtype": "f8"
         },
         "yaxis": "y4"
        },
        {
         "hoverlabel": {
          "font": {
           "size": 10
          }
         },
         "hovertemplate": "discount=No Discount<br>Product=Velo<br>price=%{x}<br>Quantity=%{y}<extra></extra>",
         "legendgroup": "No Discount",
         "marker": {
          "color": "#109618",
          "opacity": 0.5,
          "size": 7,
          "symbol": "circle"
         },
         "mode": "markers",
         "name": "No Discount",
         "showlegend": false,
         "type": "scattergl",
         "x": {
          "bdata": "wOCXnb8BQUAlggf5sgNBQLSYo09hBEFAhx0tthgKQUD5J9PfyhhBQPE+mH7OL0FAJRB7LdNEQUAwJXSF3UVBQGf/S43vYUFA2hpNvgSAQUCgGAEXHYBBQKyB4O93gEFAGRloSnSFQUDG+eW87opBQIJxpxDyjEFAhkkF3PiNQUCvfyN+RpFBQCrnXikf4kFAxsJ1qpvmQUDYzejX/gBCQPxYcmnrB0JA01xmjH0PQkCXPZQstxNCQK7bc8fpFEJANRsN3QwuQkDvtereUzpCQE4H3bpzYUJAstP4Ji95QkA=",
          "dtype": "f8"
         },
         "xaxis": "x",
         "y": {
          "bdata": "AAAAAACAakAAAAAAAABpQAAAAAAA4HFAAAAAAACga0AAAAAAAKBoQAAAAAAAwGlAAAAAAADAaEAAAAAAAABrQAAAAAAAgHFAAAAAAAAAbEAAAAAAAEBwQAAAAAAAoGhAAAAAAAAgcUAAAAAAAIBrQAAAAAAAoGtAAAAAAADAbEAAAAAAAOBuQAAAAAAAwGlAAAAAAAAgaUAAAAAAAMBxQAAAAAAAgGxAAAAAAABAbUAAAAAAAMBsQAAAAAAAgG5AAAAAAABwcEAAAAAAAKBoQAAAAAAAIGpAAAAAAACgbEA=",
          "dtype": "f8"
         },
         "yaxis": "y"
        },
        {
         "hoverlabel": {
          "font": {
           "size": 10
          }
         },
         "hovertemplate": "<b>LOWESS trendline</b><br><br>discount=No Discount<br>Product=Velo<br>price=%{x}<br>Quantity=%{y} <b>(trend)</b><extra></extra>",
         "legendgroup": "No Discount",
         "marker": {
          "color": "#109618",
          "size": 7,
          "symbol": "circle"
         },
         "mode": "lines",
         "name": "No Discount",
         "showlegend": false,
         "type": "scattergl",
         "x": {
          "bdata": "wOCXnb8BQUAlggf5sgNBQLSYo09hBEFAhx0tthgKQUD5J9PfyhhBQPE+mH7OL0FAJRB7LdNEQUAwJXSF3UVBQGf/S43vYUFA2hpNvgSAQUCgGAEXHYBBQKyB4O93gEFAGRloSnSFQUDG+eW87opBQIJxpxDyjEFAhkkF3PiNQUCvfyN+RpFBQCrnXikf4kFAxsJ1qpvmQUDYzejX/gBCQPxYcmnrB0JA01xmjH0PQkCXPZQstxNCQK7bc8fpFEJANRsN3QwuQkDvtereUzpCQE4H3bpzYUJAstP4Ji95QkA=",
          "dtype": "f8"
         },
         "xaxis": "x",
         "y": {
          "bdata": "x+w5KCeTaUCbaCAGhZ9pQKggW8HYo2lAZhPdL1zIaUBuVY7ygidqQJrv+DVivWpAuQuAAE1Da0Cmyw8SyElrQLaXsB638mtA4dihd4OzbECymcjtYLNsQA6mDOXPsmxAU7b1e+mlbEAEZwbRiqFsQJ6cMFlEmGxAVh8TjS6ZbEAZUTk115hsQE1my4OPp2xAkxplQ8GRbEBNIytPoGFsQML3R2GocWxAPhoZp0J0bEDw7RmyDnNsQNEVv/GTcmxANDPjUNVkbEBk3SeMUltsQETHk3g1ImxALJL3m5Dsa0A=",
          "dtype": "f8"
         },
         "yaxis": "y"
        },
        {
         "hoverlabel": {
          "font": {
           "size": 10
          }
         },
         "hovertemplate": "discount=No Discount<br>Product=VTT<br>price=%{x}<br>Quantity=%{y}<extra></extra>",
         "legendgroup": "No Discount",
         "marker": {
          "color": "#109618",
          "opacity": 0.5,
          "size": 7,
          "symbol": "circle"
         },
         "mode": "markers",
         "name": "No Discount",
         "showlegend": false,
         "type": "scattergl",
         "x": {
          "bdata": "YInoXA4AOEASxqVwHAA4QJPgCHhXDjhALhba4qQYOEAfkJCroSI4QETHW6sbLzhAI8nCsHo8OED7hyNBFWs4QI/OQK+hhThAOsv0u9KROEC09PTYTpc4QPhVjEFS8jhAhwEkdEYeOUCGhLoEGiQ5QJ+2t7RyQjlAzXgSDaxVOUAD/OWArmA5QHj0O5udxDlAmnzF57j3OUCS9rOQHgA6QHf/8lHOAzpAO9E+uNUHOkCCTs+IHjU6QMp0aVnASTpAcdG7jFxnOkBkUYsE2nw6QC0wVzCnjjpAOlZUI3TzOkA=",
          "dtype": "f8"
         },
         "xaxis": "x2",
         "y": {
          "bdata": "AAAAAADAZ0AAAAAAAGBuQAAAAAAAwGRAAAAAAACAZUAAAAAAACBlQAAAAAAAoG5AAAAAAACgZEAAAAAAAMBkQAAAAAAAoGRAAAAAAABgaEAAAAAAACBsQAAAAAAAwGdAAAAAAADAakAAAAAAAOBkQAAAAAAAQGdAAAAAAACgZEAAAAAAAABnQAAAAAAAAGdAAAAAAAAAaEAAAAAAAOBmQAAAAAAA4GRAAAAAAADAZ0AAAAAAAGBwQAAAAAAAQGVAAAAAAADgZEAAAAAAAIBqQAAAAAAAwGZAAAAAAAAga0A=",
          "dtype": "f8"
         },
         "yaxis": "y2"
        },
        {
         "hoverlabel": {
          "font": {
           "size": 10
          }
         },
         "hovertemplate": "<b>LOWESS trendline</b><br><br>discount=No Discount<br>Product=VTT<br>price=%{x}<br>Quantity=%{y} <b>(trend)</b><extra></extra>",
         "legendgroup": "No Discount",
         "marker": {
          "color": "#109618",
          "size": 7,
          "symbol": "circle"
         },
         "mode": "lines",
         "name": "No Discount",
         "showlegend": false,
         "type": "scattergl",
         "x": {
          "bdata": "YInoXA4AOEASxqVwHAA4QJPgCHhXDjhALhba4qQYOEAfkJCroSI4QETHW6sbLzhAI8nCsHo8OED7hyNBFWs4QI/OQK+hhThAOsv0u9KROEC09PTYTpc4QPhVjEFS8jhAhwEkdEYeOUCGhLoEGiQ5QJ+2t7RyQjlAzXgSDaxVOUAD/OWArmA5QHj0O5udxDlAmnzF57j3OUCS9rOQHgA6QHf/8lHOAzpAO9E+uNUHOkCCTs+IHjU6QMp0aVnASTpAcdG7jFxnOkBkUYsE2nw6QC0wVzCnjjpAOlZUI3TzOkA=",
          "dtype": "f8"
         },
         "xaxis": "x2",
         "y": {
          "bdata": "2Sw03782Z0BVZXk9wTZnQKXIKt45OGdAlEiX+k05Z0CtkMfIRzpnQGgzZipZO2dABSYtYkM8Z0A855pVDTxnQKK11xLaOGdAGDZl6sU2Z0DawvPfzDVnQCiSlz28OmdAwOwwS6ErZ0CDb7lkSipnQMxOTkqDJmdAY+GjdnokZ0DPMIy4uxlnQHWRACemCmdAXsWLAck4Z0C/+ITN+ERnQOFhsTOPSmdAoVsoUs5QZ0DwVvytl51nQHlnWrjlwmdAIbzoMH/5Z0BNoCUcwCFoQGi3nVGiQ2hAQEf+TNoRaUA=",
          "dtype": "f8"
         },
         "yaxis": "y2"
        }
       ],
       "layout": {
        "annotations": [
         {
          "font": {},
          "showarrow": false,
          "text": "Product=Velo",
          "x": 0.225,
          "xanchor": "center",
          "xref": "paper",
          "y": 0.2333333333333333,
          "yanchor": "bottom",
          "yref": "paper"
         },
         {
          "font": {},
          "showarrow": false,
          "text": "Product=VTT",
          "x": 0.775,
          "xanchor": "center",
          "xref": "paper",
          "y": 0.2333333333333333,
          "yanchor": "bottom",
          "yref": "paper"
         },
         {
          "font": {},
          "showarrow": false,
          "text": "Product=Montana",
          "x": 0.225,
          "xanchor": "center",
          "xref": "paper",
          "y": 0.6166666666666666,
          "yanchor": "bottom",
          "yref": "paper"
         },
         {
          "font": {},
          "showarrow": false,
          "text": "Product=Paseo",
          "x": 0.775,
          "xanchor": "center",
          "xref": "paper",
          "y": 0.6166666666666666,
          "yanchor": "bottom",
          "yref": "paper"
         },
         {
          "font": {},
          "showarrow": false,
          "text": "Product=Amarilla",
          "x": 0.225,
          "xanchor": "center",
          "xref": "paper",
          "y": 0.9999999999999999,
          "yanchor": "bottom",
          "yref": "paper"
         },
         {
          "font": {},
          "showarrow": false,
          "text": "Product=Carretera",
          "x": 0.775,
          "xanchor": "center",
          "xref": "paper",
          "y": 0.9999999999999999,
          "yanchor": "bottom",
          "yref": "paper"
         }
        ],
        "height": 800,
        "legend": {
         "title": {
          "text": "discount"
         },
         "tracegroupgap": 0
        },
        "template": {
         "data": {
          "bar": [
           {
            "error_x": {
             "color": "#2a3f5f"
            },
            "error_y": {
             "color": "#2a3f5f"
            },
            "marker": {
             "line": {
              "color": "#E5ECF6",
              "width": 0.5
             },
             "pattern": {
              "fillmode": "overlay",
              "size": 10,
              "solidity": 0.2
             }
            },
            "type": "bar"
           }
          ],
          "barpolar": [
           {
            "marker": {
             "line": {
              "color": "#E5ECF6",
              "width": 0.5
             },
             "pattern": {
              "fillmode": "overlay",
              "size": 10,
              "solidity": 0.2
             }
            },
            "type": "barpolar"
           }
          ],
          "carpet": [
           {
            "aaxis": {
             "endlinecolor": "#2a3f5f",
             "gridcolor": "white",
             "linecolor": "white",
             "minorgridcolor": "white",
             "startlinecolor": "#2a3f5f"
            },
            "baxis": {
             "endlinecolor": "#2a3f5f",
             "gridcolor": "white",
             "linecolor": "white",
             "minorgridcolor": "white",
             "startlinecolor": "#2a3f5f"
            },
            "type": "carpet"
           }
          ],
          "choropleth": [
           {
            "colorbar": {
             "outlinewidth": 0,
             "ticks": ""
            },
            "type": "choropleth"
           }
          ],
          "contour": [
           {
            "colorbar": {
             "outlinewidth": 0,
             "ticks": ""
            },
            "colorscale": [
             [
              0,
              "#0d0887"
             ],
             [
              0.1111111111111111,
              "#46039f"
             ],
             [
              0.2222222222222222,
              "#7201a8"
             ],
             [
              0.3333333333333333,
              "#9c179e"
             ],
             [
              0.4444444444444444,
              "#bd3786"
             ],
             [
              0.5555555555555556,
              "#d8576b"
             ],
             [
              0.6666666666666666,
              "#ed7953"
             ],
             [
              0.7777777777777778,
              "#fb9f3a"
             ],
             [
              0.8888888888888888,
              "#fdca26"
             ],
             [
              1,
              "#f0f921"
             ]
            ],
            "type": "contour"
           }
          ],
          "contourcarpet": [
           {
            "colorbar": {
             "outlinewidth": 0,
             "ticks": ""
            },
            "type": "contourcarpet"
           }
          ],
          "heatmap": [
           {
            "colorbar": {
             "outlinewidth": 0,
             "ticks": ""
            },
            "colorscale": [
             [
              0,
              "#0d0887"
             ],
             [
              0.1111111111111111,
              "#46039f"
             ],
             [
              0.2222222222222222,
              "#7201a8"
             ],
             [
              0.3333333333333333,
              "#9c179e"
             ],
             [
              0.4444444444444444,
              "#bd3786"
             ],
             [
              0.5555555555555556,
              "#d8576b"
             ],
             [
              0.6666666666666666,
              "#ed7953"
             ],
             [
              0.7777777777777778,
              "#fb9f3a"
             ],
             [
              0.8888888888888888,
              "#fdca26"
             ],
             [
              1,
              "#f0f921"
             ]
            ],
            "type": "heatmap"
           }
          ],
          "histogram": [
           {
            "marker": {
             "pattern": {
              "fillmode": "overlay",
              "size": 10,
              "solidity": 0.2
             }
            },
            "type": "histogram"
           }
          ],
          "histogram2d": [
           {
            "colorbar": {
             "outlinewidth": 0,
             "ticks": ""
            },
            "colorscale": [
             [
              0,
              "#0d0887"
             ],
             [
              0.1111111111111111,
              "#46039f"
             ],
             [
              0.2222222222222222,
              "#7201a8"
             ],
             [
              0.3333333333333333,
              "#9c179e"
             ],
             [
              0.4444444444444444,
              "#bd3786"
             ],
             [
              0.5555555555555556,
              "#d8576b"
             ],
             [
              0.6666666666666666,
              "#ed7953"
             ],
             [
              0.7777777777777778,
              "#fb9f3a"
             ],
             [
              0.8888888888888888,
              "#fdca26"
             ],
             [
              1,
              "#f0f921"
             ]
            ],
            "type": "histogram2d"
           }
          ],
          "histogram2dcontour": [
           {
            "colorbar": {
             "outlinewidth": 0,
             "ticks": ""
            },
            "colorscale": [
             [
              0,
              "#0d0887"
             ],
             [
              0.1111111111111111,
              "#46039f"
             ],
             [
              0.2222222222222222,
              "#7201a8"
             ],
             [
              0.3333333333333333,
              "#9c179e"
             ],
             [
              0.4444444444444444,
              "#bd3786"
             ],
             [
              0.5555555555555556,
              "#d8576b"
             ],
             [
              0.6666666666666666,
              "#ed7953"
             ],
             [
              0.7777777777777778,
              "#fb9f3a"
             ],
             [
              0.8888888888888888,
              "#fdca26"
             ],
             [
              1,
              "#f0f921"
             ]
            ],
            "type": "histogram2dcontour"
           }
          ],
          "mesh3d": [
           {
            "colorbar": {
             "outlinewidth": 0,
             "ticks": ""
            },
            "type": "mesh3d"
           }
          ],
          "parcoords": [
           {
            "line": {
             "colorbar": {
              "outlinewidth": 0,
              "ticks": ""
             }
            },
            "type": "parcoords"
           }
          ],
          "pie": [
           {
            "automargin": true,
            "type": "pie"
           }
          ],
          "scatter": [
           {
            "fillpattern": {
             "fillmode": "overlay",
             "size": 10,
             "solidity": 0.2
            },
            "type": "scatter"
           }
          ],
          "scatter3d": [
           {
            "line": {
             "colorbar": {
              "outlinewidth": 0,
              "ticks": ""
             }
            },
            "marker": {
             "colorbar": {
              "outlinewidth": 0,
              "ticks": ""
             }
            },
            "type": "scatter3d"
           }
          ],
          "scattercarpet": [
           {
            "marker": {
             "colorbar": {
              "outlinewidth": 0,
              "ticks": ""
             }
            },
            "type": "scattercarpet"
           }
          ],
          "scattergeo": [
           {
            "marker": {
             "colorbar": {
              "outlinewidth": 0,
              "ticks": ""
             }
            },
            "type": "scattergeo"
           }
          ],
          "scattergl": [
           {
            "marker": {
             "colorbar": {
              "outlinewidth": 0,
              "ticks": ""
             }
            },
            "type": "scattergl"
           }
          ],
          "scattermap": [
           {
            "marker": {
             "colorbar": {
              "outlinewidth": 0,
              "ticks": ""
             }
            },
            "type": "scattermap"
           }
          ],
          "scattermapbox": [
           {
            "marker": {
             "colorbar": {
              "outlinewidth": 0,
              "ticks": ""
             }
            },
            "type": "scattermapbox"
           }
          ],
          "scatterpolar": [
           {
            "marker": {
             "colorbar": {
              "outlinewidth": 0,
              "ticks": ""
             }
            },
            "type": "scatterpolar"
           }
          ],
          "scatterpolargl": [
           {
            "marker": {
             "colorbar": {
              "outlinewidth": 0,
              "ticks": ""
             }
            },
            "type": "scatterpolargl"
           }
          ],
          "scatterternary": [
           {
            "marker": {
             "colorbar": {
              "outlinewidth": 0,
              "ticks": ""
             }
            },
            "type": "scatterternary"
           }
          ],
          "surface": [
           {
            "colorbar": {
             "outlinewidth": 0,
             "ticks": ""
            },
            "colorscale": [
             [
              0,
              "#0d0887"
             ],
             [
              0.1111111111111111,
              "#46039f"
             ],
             [
              0.2222222222222222,
              "#7201a8"
             ],
             [
              0.3333333333333333,
              "#9c179e"
             ],
             [
              0.4444444444444444,
              "#bd3786"
             ],
             [
              0.5555555555555556,
              "#d8576b"
             ],
             [
              0.6666666666666666,
              "#ed7953"
             ],
             [
              0.7777777777777778,
              "#fb9f3a"
             ],
             [
              0.8888888888888888,
              "#fdca26"
             ],
             [
              1,
              "#f0f921"
             ]
            ],
            "type": "surface"
           }
          ],
          "table": [
           {
            "cells": {
             "fill": {
              "color": "#EBF0F8"
             },
             "line": {
              "color": "white"
             }
            },
            "header": {
             "fill": {
              "color": "#C8D4E3"
             },
             "line": {
              "color": "white"
             }
            },
            "type": "table"
           }
          ]
         },
         "layout": {
          "annotationdefaults": {
           "arrowcolor": "#2a3f5f",
           "arrowhead": 0,
           "arrowwidth": 1
          },
          "autotypenumbers": "strict",
          "coloraxis": {
           "colorbar": {
            "outlinewidth": 0,
            "ticks": ""
           }
          },
          "colorscale": {
           "diverging": [
            [
             0,
             "#8e0152"
            ],
            [
             0.1,
             "#c51b7d"
            ],
            [
             0.2,
             "#de77ae"
            ],
            [
             0.3,
             "#f1b6da"
            ],
            [
             0.4,
             "#fde0ef"
            ],
            [
             0.5,
             "#f7f7f7"
            ],
            [
             0.6,
             "#e6f5d0"
            ],
            [
             0.7,
             "#b8e186"
            ],
            [
             0.8,
             "#7fbc41"
            ],
            [
             0.9,
             "#4d9221"
            ],
            [
             1,
             "#276419"
            ]
           ],
           "sequential": [
            [
             0,
             "#0d0887"
            ],
            [
             0.1111111111111111,
             "#46039f"
            ],
            [
             0.2222222222222222,
             "#7201a8"
            ],
            [
             0.3333333333333333,
             "#9c179e"
            ],
            [
             0.4444444444444444,
             "#bd3786"
            ],
            [
             0.5555555555555556,
             "#d8576b"
            ],
            [
             0.6666666666666666,
             "#ed7953"
            ],
            [
             0.7777777777777778,
             "#fb9f3a"
            ],
            [
             0.8888888888888888,
             "#fdca26"
            ],
            [
             1,
             "#f0f921"
            ]
           ],
           "sequentialminus": [
            [
             0,
             "#0d0887"
            ],
            [
             0.1111111111111111,
             "#46039f"
            ],
            [
             0.2222222222222222,
             "#7201a8"
            ],
            [
             0.3333333333333333,
             "#9c179e"
            ],
            [
             0.4444444444444444,
             "#bd3786"
            ],
            [
             0.5555555555555556,
             "#d8576b"
            ],
            [
             0.6666666666666666,
             "#ed7953"
            ],
            [
             0.7777777777777778,
             "#fb9f3a"
            ],
            [
             0.8888888888888888,
             "#fdca26"
            ],
            [
             1,
             "#f0f921"
            ]
           ]
          },
          "colorway": [
           "#636efa",
           "#EF553B",
           "#00cc96",
           "#ab63fa",
           "#FFA15A",
           "#19d3f3",
           "#FF6692",
           "#B6E880",
           "#FF97FF",
           "#FECB52"
          ],
          "font": {
           "color": "#2a3f5f"
          },
          "geo": {
           "bgcolor": "white",
           "lakecolor": "white",
           "landcolor": "#E5ECF6",
           "showlakes": true,
           "showland": true,
           "subunitcolor": "white"
          },
          "hoverlabel": {
           "align": "left"
          },
          "hovermode": "closest",
          "mapbox": {
           "style": "light"
          },
          "paper_bgcolor": "white",
          "plot_bgcolor": "#E5ECF6",
          "polar": {
           "angularaxis": {
            "gridcolor": "white",
            "linecolor": "white",
            "ticks": ""
           },
           "bgcolor": "#E5ECF6",
           "radialaxis": {
            "gridcolor": "white",
            "linecolor": "white",
            "ticks": ""
           }
          },
          "scene": {
           "xaxis": {
            "backgroundcolor": "#E5ECF6",
            "gridcolor": "white",
            "gridwidth": 2,
            "linecolor": "white",
            "showbackground": true,
            "ticks": "",
            "zerolinecolor": "white"
           },
           "yaxis": {
            "backgroundcolor": "#E5ECF6",
            "gridcolor": "white",
            "gridwidth": 2,
            "linecolor": "white",
            "showbackground": true,
            "ticks": "",
            "zerolinecolor": "white"
           },
           "zaxis": {
            "backgroundcolor": "#E5ECF6",
            "gridcolor": "white",
            "gridwidth": 2,
            "linecolor": "white",
            "showbackground": true,
            "ticks": "",
            "zerolinecolor": "white"
           }
          },
          "shapedefaults": {
           "line": {
            "color": "#2a3f5f"
           }
          },
          "ternary": {
           "aaxis": {
            "gridcolor": "white",
            "linecolor": "white",
            "ticks": ""
           },
           "baxis": {
            "gridcolor": "white",
            "linecolor": "white",
            "ticks": ""
           },
           "bgcolor": "#E5ECF6",
           "caxis": {
            "gridcolor": "white",
            "linecolor": "white",
            "ticks": ""
           }
          },
          "title": {
           "x": 0.05
          },
          "xaxis": {
           "automargin": true,
           "gridcolor": "white",
           "linecolor": "white",
           "ticks": "",
           "title": {
            "standoff": 15
           },
           "zerolinecolor": "white",
           "zerolinewidth": 2
          },
          "yaxis": {
           "automargin": true,
           "gridcolor": "white",
           "linecolor": "white",
           "ticks": "",
           "title": {
            "standoff": 15
           },
           "zerolinecolor": "white",
           "zerolinewidth": 2
          }
         }
        },
        "title": {
         "text": "Price vs Quantity | Discount Analysis"
        },
        "width": 1000,
        "xaxis": {
         "anchor": "y",
         "domain": [
          0,
          0.45
         ],
         "showticklabels": true,
         "tickfont": {
          "size": 10
         },
         "title": {
          "text": "Price"
         }
        },
        "xaxis2": {
         "anchor": "y2",
         "domain": [
          0.55,
          1
         ],
         "showticklabels": true,
         "tickfont": {
          "size": 10
         },
         "title": {
          "text": "Price"
         }
        },
        "xaxis3": {
         "anchor": "y3",
         "domain": [
          0,
          0.45
         ],
         "showticklabels": true,
         "tickfont": {
          "size": 10
         },
         "title": {
          "text": "Price"
         }
        },
        "xaxis4": {
         "anchor": "y4",
         "domain": [
          0.55,
          1
         ],
         "showticklabels": true,
         "tickfont": {
          "size": 10
         },
         "title": {
          "text": "Price"
         }
        },
        "xaxis5": {
         "anchor": "y5",
         "domain": [
          0,
          0.45
         ],
         "showticklabels": true,
         "tickfont": {
          "size": 10
         },
         "title": {
          "text": "Price"
         }
        },
        "xaxis6": {
         "anchor": "y6",
         "domain": [
          0.55,
          1
         ],
         "showticklabels": true,
         "tickfont": {
          "size": 10
         },
         "title": {
          "text": "Price"
         }
        },
        "yaxis": {
         "anchor": "x",
         "domain": [
          0,
          0.2333333333333333
         ],
         "showticklabels": true,
         "tickfont": {
          "size": 10
         },
         "title": {
          "text": "Quantity Sold"
         }
        },
        "yaxis2": {
         "anchor": "x2",
         "domain": [
          0,
          0.2333333333333333
         ],
         "showticklabels": true,
         "tickfont": {
          "size": 10
         },
         "title": {
          "text": "Quantity Sold"
         }
        },
        "yaxis3": {
         "anchor": "x3",
         "domain": [
          0.3833333333333333,
          0.6166666666666666
         ],
         "showticklabels": true,
         "tickfont": {
          "size": 10
         },
         "title": {
          "text": "Quantity Sold"
         }
        },
        "yaxis4": {
         "anchor": "x4",
         "domain": [
          0.3833333333333333,
          0.6166666666666666
         ],
         "showticklabels": true,
         "tickfont": {
          "size": 10
         },
         "title": {
          "text": "Quantity Sold"
         }
        },
        "yaxis5": {
         "anchor": "x5",
         "domain": [
          0.7666666666666666,
          0.9999999999999999
         ],
         "showticklabels": true,
         "tickfont": {
          "size": 10
         },
         "title": {
          "text": "Quantity Sold"
         }
        },
        "yaxis6": {
         "anchor": "x6",
         "domain": [
          0.7666666666666666,
          0.9999999999999999
         ],
         "showticklabels": true,
         "tickfont": {
          "size": 10
         },
         "title": {
          "text": "Quantity Sold"
         }
        }
       }
      }
     },
     "metadata": {},
     "output_type": "display_data"
    }
   ],
   "source": [
    "# Exploring the relationship between price and units sold conditioned on the Discounts\n",
    "fig = px.scatter(\n",
    "    df, \n",
    "    x= 'price', y = 'Quantity',\n",
    "    color= 'discount',\n",
    "    facet_col= 'Product',\n",
    "    facet_col_wrap=2,\n",
    "    facet_col_spacing=0.1,\n",
    "    facet_row_spacing=0.15,\n",
    "    opacity=0.5,\n",
    "    trendline='lowess',\n",
    "    title= 'Price vs Quantity | Discount Analysis',\n",
    "    width=1000,\n",
    "    height=800,\n",
    "    color_discrete_sequence=px.colors.qualitative.G10\n",
    ").update_traces(\n",
    "    marker= dict(size=7),\n",
    "    hoverlabel= dict(font= dict(size=10))\n",
    ").update_xaxes(\n",
    "    title_text = 'Price',\n",
    "    tickfont= dict(size=10)\n",
    ").update_yaxes(\n",
    "    title_text = 'Quantity Sold',\n",
    "    tickfont= dict(size=10)\n",
    ")\n",
    "\n",
    "fig.for_each_yaxis(lambda yaxis: yaxis.update(showticklabels=True)) #show ticks\n",
    "fig.for_each_xaxis(lambda xaxis: xaxis.update(showticklabels=True)) #show ticks\n",
    "fig.update_yaxes(matches=None) # don't share y axis\n",
    "fig.update_xaxes(matches=None) # don't share x axis\n",
    "\n",
    "# Show figure\n",
    "fig\n"
   ]
  },
  {
   "cell_type": "code",
   "execution_count": 31,
   "id": "de7ad8a1",
   "metadata": {},
   "outputs": [],
   "source": [
    "# Encoding the data\n",
    "df_encoded = df.copy()\n",
    "\n",
    "# One Hot Encoding the events and products\n",
    "df_encoded = pd.get_dummies(df_encoded,\n",
    "                            columns= ['discount', 'Product'],\n",
    "                            drop_first=False)\n",
    "\n",
    "# Get column names Events\n",
    "colnames_event = df_encoded.columns[df_encoded.columns.str.startswith('discount')].tolist()\n",
    "# From boolean to integer\n",
    "df_encoded[colnames_event] = df_encoded[colnames_event].astype(int)\n",
    "\n",
    "# Get column names Products\n",
    "colnames_product = df_encoded.columns[df_encoded.columns.str.startswith('Product')].tolist()\n",
    "# From boolean to integer\n",
    "df_encoded[colnames_product] = df_encoded[colnames_product].astype(int)"
   ]
  },
  {
   "cell_type": "code",
   "execution_count": 32,
   "id": "b6be17b2",
   "metadata": {},
   "outputs": [
    {
     "data": {
      "text/html": [
       "<div>\n",
       "<style scoped>\n",
       "    .dataframe tbody tr th:only-of-type {\n",
       "        vertical-align: middle;\n",
       "    }\n",
       "\n",
       "    .dataframe tbody tr th {\n",
       "        vertical-align: top;\n",
       "    }\n",
       "\n",
       "    .dataframe thead th {\n",
       "        text-align: right;\n",
       "    }\n",
       "</style>\n",
       "<table border=\"1\" class=\"dataframe\">\n",
       "  <thead>\n",
       "    <tr style=\"text-align: right;\">\n",
       "      <th></th>\n",
       "      <th>Quantity</th>\n",
       "      <th>price</th>\n",
       "      <th>Sales</th>\n",
       "      <th>discount_High</th>\n",
       "      <th>discount_Low</th>\n",
       "      <th>discount_Medium</th>\n",
       "      <th>discount_No Discount</th>\n",
       "      <th>Product_Amarilla</th>\n",
       "      <th>Product_Carretera</th>\n",
       "      <th>Product_Montana</th>\n",
       "      <th>Product_Paseo</th>\n",
       "      <th>Product_VTT</th>\n",
       "      <th>Product_Velo</th>\n",
       "    </tr>\n",
       "  </thead>\n",
       "  <tbody>\n",
       "    <tr>\n",
       "      <th>0</th>\n",
       "      <td>4178.151185</td>\n",
       "      <td>3.462242</td>\n",
       "      <td>14465.77121</td>\n",
       "      <td>1</td>\n",
       "      <td>0</td>\n",
       "      <td>0</td>\n",
       "      <td>0</td>\n",
       "      <td>1</td>\n",
       "      <td>0</td>\n",
       "      <td>0</td>\n",
       "      <td>0</td>\n",
       "      <td>0</td>\n",
       "      <td>0</td>\n",
       "    </tr>\n",
       "    <tr>\n",
       "      <th>1</th>\n",
       "      <td>3469.852007</td>\n",
       "      <td>4.166472</td>\n",
       "      <td>14457.04249</td>\n",
       "      <td>1</td>\n",
       "      <td>0</td>\n",
       "      <td>0</td>\n",
       "      <td>0</td>\n",
       "      <td>1</td>\n",
       "      <td>0</td>\n",
       "      <td>0</td>\n",
       "      <td>0</td>\n",
       "      <td>0</td>\n",
       "      <td>0</td>\n",
       "    </tr>\n",
       "  </tbody>\n",
       "</table>\n",
       "</div>"
      ],
      "text/plain": [
       "      Quantity     price        Sales  discount_High  discount_Low  \\\n",
       "0  4178.151185  3.462242  14465.77121              1             0   \n",
       "1  3469.852007  4.166472  14457.04249              1             0   \n",
       "\n",
       "   discount_Medium  discount_No Discount  Product_Amarilla  Product_Carretera  \\\n",
       "0                0                     0                 1                  0   \n",
       "1                0                     0                 1                  0   \n",
       "\n",
       "   Product_Montana  Product_Paseo  Product_VTT  Product_Velo  \n",
       "0                0              0            0             0  \n",
       "1                0              0            0             0  "
      ]
     },
     "execution_count": 32,
     "metadata": {},
     "output_type": "execute_result"
    }
   ],
   "source": [
    "df_encoded.drop(['Date', 'mth_num', 'mth_name', 'yr', 'Segment'], axis=1).head(2)"
   ]
  },
  {
   "cell_type": "code",
   "execution_count": 33,
   "id": "cf1655e8",
   "metadata": {},
   "outputs": [
    {
     "name": "stdout",
     "output_type": "stream",
     "text": [
      "                            OLS Regression Results                            \n",
      "==============================================================================\n",
      "Dep. Variable:               Quantity   R-squared:                       0.527\n",
      "Model:                            OLS   Adj. R-squared:                  0.525\n",
      "Method:                 Least Squares   F-statistic:                     345.3\n",
      "Date:                Thu, 30 Oct 2025   Prob (F-statistic):               0.00\n",
      "Time:                        04:36:11   Log-Likelihood:                -22433.\n",
      "No. Observations:                2800   AIC:                         4.489e+04\n",
      "Df Residuals:                    2790   BIC:                         4.495e+04\n",
      "Df Model:                           9                                         \n",
      "Covariance Type:            nonrobust                                         \n",
      "========================================================================================\n",
      "                           coef    std err          t      P>|t|      [0.025      0.975]\n",
      "----------------------------------------------------------------------------------------\n",
      "const                  780.8930     72.560     10.762      0.000     638.617     923.169\n",
      "price                  -11.5964      4.883     -2.375      0.018     -21.172      -2.021\n",
      "discount_High         1206.9427     24.233     49.806      0.000    1159.426    1254.459\n",
      "discount_Low          -219.9755     38.263     -5.749      0.000    -295.002    -144.949\n",
      "discount_Medium        139.0097     23.538      5.906      0.000      92.856     185.163\n",
      "discount_No Discount  -345.0838     61.737     -5.590      0.000    -466.138    -224.029\n",
      "Product_Amarilla       724.0068     54.701     13.236      0.000     616.749     831.265\n",
      "Product_Carretera      265.2911     35.628      7.446      0.000     195.432     335.150\n",
      "Product_Montana        104.3278     51.890      2.011      0.044       2.580     206.075\n",
      "Product_Paseo            8.7455    127.310      0.069      0.945    -240.885     258.376\n",
      "Product_VTT           -321.2624     37.315     -8.609      0.000    -394.430    -248.094\n",
      "Product_Velo            -0.2159     65.359     -0.003      0.997    -128.372     127.940\n",
      "==============================================================================\n",
      "Omnibus:                     1923.647   Durbin-Watson:                   1.700\n",
      "Prob(Omnibus):                  0.000   Jarque-Bera (JB):            41825.491\n",
      "Skew:                           2.963   Prob(JB):                         0.00\n",
      "Kurtosis:                      20.983   Cond. No.                     2.26e+17\n",
      "==============================================================================\n",
      "\n",
      "Notes:\n",
      "[1] Standard Errors assume that the covariance matrix of the errors is correctly specified.\n",
      "[2] The smallest eigenvalue is 3.99e-29. This might indicate that there are\n",
      "strong multicollinearity problems or that the design matrix is singular.\n"
     ]
    }
   ],
   "source": [
    "# X & y for modeling\n",
    "X = df_encoded[['price'] + colnames_event + colnames_product]\n",
    "X = sm.add_constant(X) # adding intercept\n",
    "y = df_encoded['Quantity']\n",
    "\n",
    "# Model Fit\n",
    "model = sm.OLS(y, X).fit()\n",
    "print(model.summary())"
   ]
  },
  {
   "cell_type": "code",
   "execution_count": 34,
   "id": "baaf09ae",
   "metadata": {},
   "outputs": [
    {
     "data": {
      "text/html": [
       "<div>\n",
       "<style scoped>\n",
       "    .dataframe tbody tr th:only-of-type {\n",
       "        vertical-align: middle;\n",
       "    }\n",
       "\n",
       "    .dataframe tbody tr th {\n",
       "        vertical-align: top;\n",
       "    }\n",
       "\n",
       "    .dataframe thead th {\n",
       "        text-align: right;\n",
       "    }\n",
       "</style>\n",
       "<table border=\"1\" class=\"dataframe\">\n",
       "  <thead>\n",
       "    <tr style=\"text-align: right;\">\n",
       "      <th></th>\n",
       "      <th>const</th>\n",
       "      <th>price</th>\n",
       "      <th>discount_High</th>\n",
       "      <th>discount_Low</th>\n",
       "      <th>discount_Medium</th>\n",
       "      <th>discount_No Discount</th>\n",
       "      <th>Product_Amarilla</th>\n",
       "      <th>Product_Carretera</th>\n",
       "      <th>Product_Montana</th>\n",
       "      <th>Product_Paseo</th>\n",
       "      <th>Product_VTT</th>\n",
       "      <th>Product_Velo</th>\n",
       "    </tr>\n",
       "  </thead>\n",
       "  <tbody>\n",
       "    <tr>\n",
       "      <th>0</th>\n",
       "      <td>780.893033</td>\n",
       "      <td>-11.596438</td>\n",
       "      <td>1206.942656</td>\n",
       "      <td>-219.975466</td>\n",
       "      <td>139.009688</td>\n",
       "      <td>-345.083846</td>\n",
       "      <td>724.006837</td>\n",
       "      <td>265.291095</td>\n",
       "      <td>104.32785</td>\n",
       "      <td>8.745538</td>\n",
       "      <td>-321.262391</td>\n",
       "      <td>-0.215897</td>\n",
       "    </tr>\n",
       "  </tbody>\n",
       "</table>\n",
       "</div>"
      ],
      "text/plain": [
       "        const      price  discount_High  discount_Low  discount_Medium  \\\n",
       "0  780.893033 -11.596438    1206.942656   -219.975466       139.009688   \n",
       "\n",
       "   discount_No Discount  Product_Amarilla  Product_Carretera  Product_Montana  \\\n",
       "0           -345.083846        724.006837         265.291095        104.32785   \n",
       "\n",
       "   Product_Paseo  Product_VTT  Product_Velo  \n",
       "0       8.745538  -321.262391     -0.215897  "
      ]
     },
     "execution_count": 34,
     "metadata": {},
     "output_type": "execute_result"
    }
   ],
   "source": [
    "# Getting the Effects (parameters) from each variable\n",
    "params_df = pd.DataFrame(model.params).T\n",
    "params_df"
   ]
  },
  {
   "cell_type": "code",
   "execution_count": 36,
   "id": "37bad67d",
   "metadata": {},
   "outputs": [
    {
     "data": {
      "text/plain": [
       "0    4.561252\n",
       "dtype: float64"
      ]
     },
     "execution_count": 36,
     "metadata": {},
     "output_type": "execute_result"
    }
   ],
   "source": [
    "# Estimating the price effects ratio\n",
    "(params_df['discount_High'] + params_df['const']) / (params_df['discount_No Discount'] + params_df['const'])"
   ]
  },
  {
   "cell_type": "code",
   "execution_count": 37,
   "id": "0f278850",
   "metadata": {},
   "outputs": [
    {
     "data": {
      "text/plain": [
       "0    1987.835689\n",
       "dtype: float64"
      ]
     },
     "execution_count": 37,
     "metadata": {},
     "output_type": "execute_result"
    }
   ],
   "source": [
    "(params_df['discount_High'] + params_df['const'])"
   ]
  },
  {
   "cell_type": "code",
   "execution_count": 38,
   "id": "c9285abb",
   "metadata": {},
   "outputs": [
    {
     "data": {
      "text/plain": [
       "0    435.809187\n",
       "dtype: float64"
      ]
     },
     "execution_count": 38,
     "metadata": {},
     "output_type": "execute_result"
    }
   ],
   "source": [
    "(params_df['discount_No Discount'] + params_df['const'])"
   ]
  },
  {
   "cell_type": "code",
   "execution_count": 39,
   "id": "6c38ebf7",
   "metadata": {},
   "outputs": [],
   "source": [
    "# Filtering data\n",
    "data_filtered = df.query('discount == \"No Discount\"')\n",
    "\n",
    "# List of products in our data\n",
    "unique_prod = data_filtered['Product'].unique()\n",
    "\n",
    "# Create an empty dataframe to store results\n",
    "all_gam_results = pd.DataFrame()"
   ]
  },
  {
   "cell_type": "code",
   "execution_count": 40,
   "id": "9a9a7dd5",
   "metadata": {},
   "outputs": [
    {
     "name": "stdout",
     "output_type": "stream",
     "text": [
      "0.025 | Amarilla | 28.93160833511716\n",
      "0.5 | Amarilla | 2.2312381720013263e-07\n",
      "0.975 | Amarilla | -32.458615357602184\n",
      "-----------\n",
      "\n",
      "0.025 | Carretera | 25.492619077836356\n",
      "0.5 | Carretera | 2.828768437268536e-07\n",
      "0.975 | Carretera | -46.68953248049693\n",
      "-----------\n",
      "\n",
      "0.025 | Montana | 21.966986859588314\n",
      "0.5 | Montana | 1.6986699620247235e-07\n",
      "0.975 | Montana | -43.77244624907085\n",
      "-----------\n",
      "\n",
      "0.025 | Paseo | 25.211899706035037\n",
      "0.5 | Paseo | 8.296440843954163e-08\n",
      "0.975 | Paseo | -40.634718131772196\n",
      "-----------\n",
      "\n",
      "0.025 | Velo | 26.147643853420806\n",
      "0.5 | Velo | 2.289392061324439e-07\n",
      "0.975 | Velo | -39.73156922159598\n",
      "-----------\n",
      "\n",
      "0.025 | VTT | 21.06498134395044\n",
      "0.5 | VTT | 1.961033362363196e-07\n",
      "0.975 | VTT | -40.482847968136916\n",
      "-----------\n",
      "\n"
     ]
    }
   ],
   "source": [
    "# Loop through products\n",
    "for product in unique_prod:\n",
    "    # Filter for current product\n",
    "    product_data = data_filtered.query('Product == @product')\n",
    "\n",
    "    # Predictors & target split\n",
    "    X = product_data[['price']]\n",
    "    y = product_data['Quantity']\n",
    "\n",
    "    # List of quantiles for modeling\n",
    "    quantiles = [0.025, 0.5, 0.975]\n",
    "    gam_results = {}\n",
    "\n",
    "    # Fit the GAM model\n",
    "    for q in quantiles:\n",
    "        gam = ExpectileGAM(s(0), expectile=q) # instance the model\n",
    "        gam.fit(X,y) #fit\n",
    "        gam_results[f'pred_{q}'] = gam.predict(X) #predict for that quantile\n",
    "        print(q, \"|\", product, \"|\", gam.deviance_residuals(X,y).mean())\n",
    "    print(\"-----------\\n\")\n",
    "\n",
    "    # Store the results in a DF\n",
    "    predictions_gam = pd.DataFrame(gam_results).set_index(X.index)\n",
    "\n",
    "    # Concatenate results column-wise with the original data\n",
    "    predictions_gam_df = pd.concat([product_data[['price', 'Product','Quantity']], predictions_gam], axis=1)\n",
    "    \n",
    "    # Concatenate results row-wise\n",
    "    all_gam_results = pd.concat([all_gam_results, predictions_gam_df], axis=0)"
   ]
  },
  {
   "cell_type": "code",
   "execution_count": 41,
   "id": "7fdaa914",
   "metadata": {},
   "outputs": [
    {
     "data": {
      "text/html": [
       "<div>\n",
       "<style scoped>\n",
       "    .dataframe tbody tr th:only-of-type {\n",
       "        vertical-align: middle;\n",
       "    }\n",
       "\n",
       "    .dataframe tbody tr th {\n",
       "        vertical-align: top;\n",
       "    }\n",
       "\n",
       "    .dataframe thead th {\n",
       "        text-align: right;\n",
       "    }\n",
       "</style>\n",
       "<table border=\"1\" class=\"dataframe\">\n",
       "  <thead>\n",
       "    <tr style=\"text-align: right;\">\n",
       "      <th></th>\n",
       "      <th>price</th>\n",
       "      <th>Product</th>\n",
       "      <th>Quantity</th>\n",
       "      <th>pred_0.025</th>\n",
       "      <th>pred_0.5</th>\n",
       "      <th>pred_0.975</th>\n",
       "    </tr>\n",
       "  </thead>\n",
       "  <tbody>\n",
       "    <tr>\n",
       "      <th>2780</th>\n",
       "      <td>24.521998</td>\n",
       "      <td>VTT</td>\n",
       "      <td>165.0</td>\n",
       "      <td>166.834060</td>\n",
       "      <td>187.830888</td>\n",
       "      <td>224.926314</td>\n",
       "    </tr>\n",
       "    <tr>\n",
       "      <th>2798</th>\n",
       "      <td>26.557239</td>\n",
       "      <td>VTT</td>\n",
       "      <td>182.0</td>\n",
       "      <td>175.028992</td>\n",
       "      <td>194.660106</td>\n",
       "      <td>241.881496</td>\n",
       "    </tr>\n",
       "    <tr>\n",
       "      <th>368</th>\n",
       "      <td>13.117247</td>\n",
       "      <td>Amarilla</td>\n",
       "      <td>272.0</td>\n",
       "      <td>222.095130</td>\n",
       "      <td>256.814290</td>\n",
       "      <td>302.609455</td>\n",
       "    </tr>\n",
       "    <tr>\n",
       "      <th>370</th>\n",
       "      <td>13.163614</td>\n",
       "      <td>Amarilla</td>\n",
       "      <td>230.0</td>\n",
       "      <td>222.527421</td>\n",
       "      <td>256.498471</td>\n",
       "      <td>302.143597</td>\n",
       "    </tr>\n",
       "    <tr>\n",
       "      <th>1899</th>\n",
       "      <td>50.306839</td>\n",
       "      <td>Paseo</td>\n",
       "      <td>154.0</td>\n",
       "      <td>151.474261</td>\n",
       "      <td>177.379786</td>\n",
       "      <td>220.634738</td>\n",
       "    </tr>\n",
       "  </tbody>\n",
       "</table>\n",
       "</div>"
      ],
      "text/plain": [
       "          price   Product  Quantity  pred_0.025    pred_0.5  pred_0.975\n",
       "2780  24.521998       VTT     165.0  166.834060  187.830888  224.926314\n",
       "2798  26.557239       VTT     182.0  175.028992  194.660106  241.881496\n",
       "368   13.117247  Amarilla     272.0  222.095130  256.814290  302.609455\n",
       "370   13.163614  Amarilla     230.0  222.527421  256.498471  302.143597\n",
       "1899  50.306839     Paseo     154.0  151.474261  177.379786  220.634738"
      ]
     },
     "execution_count": 41,
     "metadata": {},
     "output_type": "execute_result"
    }
   ],
   "source": [
    "all_gam_results.sample(5)"
   ]
  },
  {
   "cell_type": "code",
   "execution_count": 42,
   "id": "49c87807",
   "metadata": {},
   "outputs": [
    {
     "name": "stderr",
     "output_type": "stream",
     "text": [
      "Matplotlib is building the font cache; this may take a moment.\n"
     ]
    },
    {
     "data": {
      "image/png": "[encoded data removed]"
     },
     "metadata": {
      "image/png": {
       "height": 216,
       "width": 432
      }
     },
     "output_type": "display_data"
    }
   ],
   "source": [
    "# Visualization of the model and prices within the bands\n",
    "(ggplot(\n",
    "    data = all_gam_results,\n",
    "    mapping = aes(x='price', y='Quantity', color='Product', group= 'Product') ) +\n",
    "    geom_ribbon(aes(ymax= 'pred_0.975', ymin= 'pred_0.025'), \n",
    "                fill='#d3d3d3', color= '#FF000000', alpha=0.7, show_legend=False) +\n",
    "    geom_point(alpha=0.75) + \n",
    "    geom_line(aes(y='pred_0.5'), color='blue') +\n",
    "    facet_wrap('Product', scales='free') + \n",
    "    labs(title='GAM Price vs Quantity') +\n",
    "    theme(figure_size=(12,6))\n",
    ")"
   ]
  },
  {
   "cell_type": "code",
   "execution_count": 43,
   "id": "15132a08",
   "metadata": {},
   "outputs": [
    {
     "data": {
      "text/html": [
       "<div>\n",
       "<style scoped>\n",
       "    .dataframe tbody tr th:only-of-type {\n",
       "        vertical-align: middle;\n",
       "    }\n",
       "\n",
       "    .dataframe tbody tr th {\n",
       "        vertical-align: top;\n",
       "    }\n",
       "\n",
       "    .dataframe thead th {\n",
       "        text-align: right;\n",
       "    }\n",
       "</style>\n",
       "<table border=\"1\" class=\"dataframe\">\n",
       "  <thead>\n",
       "    <tr style=\"text-align: right;\">\n",
       "      <th></th>\n",
       "      <th>price</th>\n",
       "      <th>Product</th>\n",
       "      <th>Quantity</th>\n",
       "      <th>pred_0.025</th>\n",
       "      <th>pred_0.5</th>\n",
       "      <th>pred_0.975</th>\n",
       "      <th>revenue_pred_0.025</th>\n",
       "      <th>revenue_pred_0.5</th>\n",
       "      <th>revenue_pred_0.975</th>\n",
       "      <th>revenue_actual</th>\n",
       "    </tr>\n",
       "  </thead>\n",
       "  <tbody>\n",
       "    <tr>\n",
       "      <th>2787</th>\n",
       "      <td>25.334657</td>\n",
       "      <td>VTT</td>\n",
       "      <td>165.0</td>\n",
       "      <td>166.987866</td>\n",
       "      <td>180.425784</td>\n",
       "      <td>209.371424</td>\n",
       "      <td>4230.580227</td>\n",
       "      <td>4571.025272</td>\n",
       "      <td>5304.353114</td>\n",
       "      <td>4180.218329</td>\n",
       "    </tr>\n",
       "    <tr>\n",
       "      <th>1095</th>\n",
       "      <td>15.435562</td>\n",
       "      <td>Montana</td>\n",
       "      <td>274.0</td>\n",
       "      <td>216.796389</td>\n",
       "      <td>244.176700</td>\n",
       "      <td>273.220847</td>\n",
       "      <td>3346.374195</td>\n",
       "      <td>3769.004700</td>\n",
       "      <td>4217.317455</td>\n",
       "      <td>4229.344112</td>\n",
       "    </tr>\n",
       "  </tbody>\n",
       "</table>\n",
       "</div>"
      ],
      "text/plain": [
       "          price  Product  Quantity  pred_0.025    pred_0.5  pred_0.975  \\\n",
       "2787  25.334657      VTT     165.0  166.987866  180.425784  209.371424   \n",
       "1095  15.435562  Montana     274.0  216.796389  244.176700  273.220847   \n",
       "\n",
       "      revenue_pred_0.025  revenue_pred_0.5  revenue_pred_0.975  revenue_actual  \n",
       "2787         4230.580227       4571.025272         5304.353114     4180.218329  \n",
       "1095         3346.374195       3769.004700         4217.317455     4229.344112  "
      ]
     },
     "execution_count": 43,
     "metadata": {},
     "output_type": "execute_result"
    }
   ],
   "source": [
    "# Calculate Revenue for each predicted price band\n",
    "for col in all_gam_results.columns:\n",
    "    if col.startswith('pred'):\n",
    "        all_gam_results['revenue_' + col] = all_gam_results['price'] * all_gam_results[col]\n",
    "\n",
    "# Actual revenue\n",
    "all_gam_results['revenue_actual'] = all_gam_results['price'] * all_gam_results['Quantity']\n",
    "\n",
    "# View\n",
    "all_gam_results.sample(2)"
   ]
  },
  {
   "cell_type": "code",
   "execution_count": 44,
   "id": "fe757a62",
   "metadata": {},
   "outputs": [],
   "source": [
    "# Calculating where the predicted median revenue is the max\n",
    "best_50 = (\n",
    "    all_gam_results\n",
    "    .groupby('Product')\n",
    "    .apply(lambda x: x[x['revenue_pred_0.5'] == x['revenue_pred_0.5'].max()].head(1))\n",
    "    .reset_index(level=0, drop=True)\n",
    ")\n",
    "\n",
    "# Calculating where the predicted 97.5% percentile revenue is the max\n",
    "best_975 = (\n",
    "    all_gam_results\n",
    "    .groupby('Product')\n",
    "    .apply(lambda x: x[x['revenue_pred_0.975'] == x['revenue_pred_0.975'].max()].head(1))\n",
    "    .reset_index(level=0, drop=True)\n",
    ")\n",
    "\n",
    "# Calculating where the predicted 2.5% percentile revenue is the max\n",
    "best_025 = (\n",
    "    all_gam_results\n",
    "    .groupby('Product')\n",
    "    .apply(lambda x: x[x['revenue_pred_0.025'] == x['revenue_pred_0.025'].max()].head(1))\n",
    "    .reset_index(level=0, drop=True)\n",
    ")"
   ]
  },
  {
   "cell_type": "code",
   "execution_count": 45,
   "id": "5f02fd96",
   "metadata": {},
   "outputs": [
    {
     "data": {
      "image/png": "[encoded data removed]"
     },
     "metadata": {
      "image/png": {
       "height": 700,
       "width": 1200
      }
     },
     "output_type": "display_data"
    }
   ],
   "source": [
    "# Visualize the GAM Optimization Result\n",
    "(ggplot(\n",
    "    # Data\n",
    "    data = all_gam_results,\n",
    "    # Axes\n",
    "    mapping = aes(x='price', y='revenue_pred_0.5', color='Product', group='Product') ) + \n",
    "# Adding the Band\n",
    "geom_ribbon(aes(ymax= 'revenue_pred_0.975', ymin= 'revenue_pred_0.025'), \n",
    "                fill='#d3d3d3', color= '#FF000000', alpha=0.7, show_legend=False) +\n",
    "# Adding the points\n",
    "geom_point(aes(y='revenue_actual'), alpha=0.15, color=\"#2C3E50\") +\n",
    "# Adding 50th percentile line\n",
    "geom_line(aes(y='revenue_pred_0.5'), alpha=0.5, color='darkred') +\n",
    "# Addimg the 50th pct points\n",
    "geom_point(data=best_50, color='red') + \n",
    "# Addimg the 97th pct points\n",
    "geom_point(data=best_975, mapping= aes(y='revenue_pred_0.975'), color='blue') + \n",
    "# Addimg the 2.5th pct points\n",
    "geom_point(data=best_025, mapping= aes(y='revenue_pred_0.025'), color='blue') + \n",
    "# Wraps by product\n",
    "facet_wrap('Product', scales='free') + \n",
    "# Labels\n",
    "labs(\n",
    "    title='Price Optimization',\n",
    "    subtitle='Maximum median revenue (red point) vs 95% Maximum Confidence Interval',\n",
    "    x= 'Price',\n",
    "    y= 'Predicted Revenue'\n",
    "    ) +\n",
    "theme(figure_size=(12,7))\n",
    "\n",
    ")"
   ]
  },
  {
   "cell_type": "code",
   "execution_count": 46,
   "id": "262060bd",
   "metadata": {},
   "outputs": [
    {
     "data": {
      "text/html": [
       "<div>\n",
       "<style scoped>\n",
       "    .dataframe tbody tr th:only-of-type {\n",
       "        vertical-align: middle;\n",
       "    }\n",
       "\n",
       "    .dataframe tbody tr th {\n",
       "        vertical-align: top;\n",
       "    }\n",
       "\n",
       "    .dataframe thead th {\n",
       "        text-align: right;\n",
       "    }\n",
       "</style>\n",
       "<table border=\"1\" class=\"dataframe\">\n",
       "  <thead>\n",
       "    <tr style=\"text-align: right;\">\n",
       "      <th></th>\n",
       "      <th>price</th>\n",
       "      <th>Product</th>\n",
       "      <th>Quantity</th>\n",
       "      <th>pred_0.025</th>\n",
       "      <th>pred_0.5</th>\n",
       "      <th>pred_0.975</th>\n",
       "      <th>revenue_pred_0.025</th>\n",
       "      <th>revenue_pred_0.5</th>\n",
       "      <th>revenue_pred_0.975</th>\n",
       "      <th>revenue_actual</th>\n",
       "    </tr>\n",
       "  </thead>\n",
       "  <tbody>\n",
       "    <tr>\n",
       "      <th>363</th>\n",
       "      <td>12.815754</td>\n",
       "      <td>Amarilla</td>\n",
       "      <td>301.0</td>\n",
       "      <td>222.166878</td>\n",
       "      <td>272.210536</td>\n",
       "      <td>300.348296</td>\n",
       "      <td>2847.236073</td>\n",
       "      <td>3488.583283</td>\n",
       "      <td>3849.189898</td>\n",
       "      <td>3857.541972</td>\n",
       "    </tr>\n",
       "    <tr>\n",
       "      <th>725</th>\n",
       "      <td>20.665027</td>\n",
       "      <td>Carretera</td>\n",
       "      <td>276.0</td>\n",
       "      <td>213.523284</td>\n",
       "      <td>247.376537</td>\n",
       "      <td>280.907710</td>\n",
       "      <td>4412.464382</td>\n",
       "      <td>5112.042760</td>\n",
       "      <td>5804.965351</td>\n",
       "      <td>5703.547387</td>\n",
       "    </tr>\n",
       "    <tr>\n",
       "      <th>1119</th>\n",
       "      <td>16.994412</td>\n",
       "      <td>Montana</td>\n",
       "      <td>242.0</td>\n",
       "      <td>221.076855</td>\n",
       "      <td>248.594581</td>\n",
       "      <td>287.875226</td>\n",
       "      <td>3757.071058</td>\n",
       "      <td>4224.718613</td>\n",
       "      <td>4892.270060</td>\n",
       "      <td>4112.647588</td>\n",
       "    </tr>\n",
       "    <tr>\n",
       "      <th>1905</th>\n",
       "      <td>50.653262</td>\n",
       "      <td>Paseo</td>\n",
       "      <td>175.0</td>\n",
       "      <td>155.170906</td>\n",
       "      <td>195.125720</td>\n",
       "      <td>229.979194</td>\n",
       "      <td>7859.912594</td>\n",
       "      <td>9883.754260</td>\n",
       "      <td>11649.196415</td>\n",
       "      <td>8864.320896</td>\n",
       "    </tr>\n",
       "    <tr>\n",
       "      <th>2799</th>\n",
       "      <td>26.950991</td>\n",
       "      <td>VTT</td>\n",
       "      <td>217.0</td>\n",
       "      <td>191.848200</td>\n",
       "      <td>213.184543</td>\n",
       "      <td>224.114487</td>\n",
       "      <td>5170.499091</td>\n",
       "      <td>5745.534684</td>\n",
       "      <td>6040.107489</td>\n",
       "      <td>5848.365020</td>\n",
       "    </tr>\n",
       "    <tr>\n",
       "      <th>2359</th>\n",
       "      <td>36.163384</td>\n",
       "      <td>Velo</td>\n",
       "      <td>244.0</td>\n",
       "      <td>205.892132</td>\n",
       "      <td>239.013278</td>\n",
       "      <td>271.295617</td>\n",
       "      <td>7445.756298</td>\n",
       "      <td>8643.529032</td>\n",
       "      <td>9810.967670</td>\n",
       "      <td>8823.865787</td>\n",
       "    </tr>\n",
       "  </tbody>\n",
       "</table>\n",
       "</div>"
      ],
      "text/plain": [
       "          price    Product  Quantity  pred_0.025    pred_0.5  pred_0.975  \\\n",
       "363   12.815754   Amarilla     301.0  222.166878  272.210536  300.348296   \n",
       "725   20.665027  Carretera     276.0  213.523284  247.376537  280.907710   \n",
       "1119  16.994412    Montana     242.0  221.076855  248.594581  287.875226   \n",
       "1905  50.653262      Paseo     175.0  155.170906  195.125720  229.979194   \n",
       "2799  26.950991        VTT     217.0  191.848200  213.184543  224.114487   \n",
       "2359  36.163384       Velo     244.0  205.892132  239.013278  271.295617   \n",
       "\n",
       "      revenue_pred_0.025  revenue_pred_0.5  revenue_pred_0.975  revenue_actual  \n",
       "363          2847.236073       3488.583283         3849.189898     3857.541972  \n",
       "725          4412.464382       5112.042760         5804.965351     5703.547387  \n",
       "1119         3757.071058       4224.718613         4892.270060     4112.647588  \n",
       "1905         7859.912594       9883.754260        11649.196415     8864.320896  \n",
       "2799         5170.499091       5745.534684         6040.107489     5848.365020  \n",
       "2359         7445.756298       8643.529032         9810.967670     8823.865787  "
      ]
     },
     "execution_count": 46,
     "metadata": {},
     "output_type": "execute_result"
    }
   ],
   "source": [
    "# View optimum prices\n",
    "best_50"
   ]
  }
 ],
 "metadata": {
  "kernelspec": {
   "display_name": "Python 3",
   "language": "python",
   "name": "python3"
  },
  "language_info": {
   "codemirror_mode": {
    "name": "ipython",
    "version": 3
   },
   "file_extension": ".py",
   "mimetype": "text/x-python",
   "name": "python",
   "nbconvert_exporter": "python",
   "pygments_lexer": "ipython3",
   "version": "3.10.4"
  }
 },
 "nbformat": 4,
 "nbformat_minor": 5
}
